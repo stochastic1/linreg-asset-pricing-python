{
 "cells": [
  {
   "cell_type": "markdown",
   "id": "04a313fb-d84d-4853-a08b-364f8b348cb2",
   "metadata": {
    "editable": true,
    "slideshow": {
     "slide_type": "slide"
    },
    "tags": []
   },
   "source": [
    "# Linear Regression for Asset Pricing\n",
    "## Project 2: APT (Arbitrage Price Theory)\n",
    "### Milestone 2: APT Model"
   ]
  },
  {
   "cell_type": "code",
   "execution_count": 1,
   "id": "9729a6df-0832-4108-87d1-db908e647ac7",
   "metadata": {
    "editable": true,
    "scrolled": true,
    "slideshow": {
     "slide_type": "slide"
    },
    "tags": []
   },
   "outputs": [],
   "source": [
    "import pandas as pd          ## Data engine\n",
    "import numpy as np\n",
    "\n",
    "import statsmodels.api as sm ## Model\n",
    "\n",
    "import seaborn as sns        ## Visualization\n",
    "from matplotlib import pyplot as plt"
   ]
  },
  {
   "cell_type": "markdown",
   "id": "57e3cc44-098c-4af4-92ee-f53e4527526e",
   "metadata": {
    "editable": true,
    "slideshow": {
     "slide_type": "slide"
    },
    "tags": []
   },
   "source": [
    "# Data set #1 - Recent data"
   ]
  },
  {
   "cell_type": "markdown",
   "id": "8b4abfaa-0e03-4e18-8f88-2ca1a7f290ce",
   "metadata": {
    "editable": true,
    "slideshow": {
     "slide_type": "fragment"
    },
    "tags": []
   },
   "source": [
    "<b>Tickers</b>: semiconductor/AI + S&P500\\\n",
    "<b>Period</b>: 2 most recent years\\\n",
    "<b>Periodicity</b>: Monthly"
   ]
  },
  {
   "cell_type": "markdown",
   "id": "4967e02c-96d6-4d5b-81e4-2536997cdbef",
   "metadata": {
    "editable": true,
    "slideshow": {
     "slide_type": "slide"
    },
    "tags": []
   },
   "source": [
    "### Polygon.io"
   ]
  },
  {
   "cell_type": "code",
   "execution_count": 2,
   "id": "84db7015-4c11-4efa-8046-371cdb454dda",
   "metadata": {
    "editable": true,
    "slideshow": {
     "slide_type": "fragment"
    },
    "tags": []
   },
   "outputs": [
    {
     "data": {
      "text/html": [
       "<div>\n",
       "<style scoped>\n",
       "    .dataframe tbody tr th:only-of-type {\n",
       "        vertical-align: middle;\n",
       "    }\n",
       "\n",
       "    .dataframe tbody tr th {\n",
       "        vertical-align: top;\n",
       "    }\n",
       "\n",
       "    .dataframe thead th {\n",
       "        text-align: right;\n",
       "    }\n",
       "</style>\n",
       "<table border=\"1\" class=\"dataframe\">\n",
       "  <thead>\n",
       "    <tr style=\"text-align: right;\">\n",
       "      <th></th>\n",
       "      <th>AMD</th>\n",
       "      <th>INTC</th>\n",
       "      <th>MSFT</th>\n",
       "      <th>NVDA</th>\n",
       "      <th>SPY</th>\n",
       "    </tr>\n",
       "    <tr>\n",
       "      <th>date</th>\n",
       "      <th></th>\n",
       "      <th></th>\n",
       "      <th></th>\n",
       "      <th></th>\n",
       "      <th></th>\n",
       "    </tr>\n",
       "  </thead>\n",
       "  <tbody>\n",
       "    <tr>\n",
       "      <th>2023-01-31</th>\n",
       "      <td>75.15</td>\n",
       "      <td>28.26</td>\n",
       "      <td>247.81</td>\n",
       "      <td>19.537</td>\n",
       "      <td>406.48</td>\n",
       "    </tr>\n",
       "    <tr>\n",
       "      <th>2023-02-28</th>\n",
       "      <td>78.58</td>\n",
       "      <td>24.93</td>\n",
       "      <td>249.42</td>\n",
       "      <td>23.216</td>\n",
       "      <td>396.26</td>\n",
       "    </tr>\n",
       "    <tr>\n",
       "      <th>2023-03-31</th>\n",
       "      <td>98.01</td>\n",
       "      <td>32.67</td>\n",
       "      <td>288.30</td>\n",
       "      <td>27.777</td>\n",
       "      <td>409.39</td>\n",
       "    </tr>\n",
       "    <tr>\n",
       "      <th>2023-04-30</th>\n",
       "      <td>89.37</td>\n",
       "      <td>31.06</td>\n",
       "      <td>307.26</td>\n",
       "      <td>27.749</td>\n",
       "      <td>415.93</td>\n",
       "    </tr>\n",
       "    <tr>\n",
       "      <th>2023-05-31</th>\n",
       "      <td>118.21</td>\n",
       "      <td>31.44</td>\n",
       "      <td>328.39</td>\n",
       "      <td>37.834</td>\n",
       "      <td>417.85</td>\n",
       "    </tr>\n",
       "  </tbody>\n",
       "</table>\n",
       "</div>"
      ],
      "text/plain": [
       "               AMD   INTC    MSFT    NVDA     SPY\n",
       "date                                             \n",
       "2023-01-31   75.15  28.26  247.81  19.537  406.48\n",
       "2023-02-28   78.58  24.93  249.42  23.216  396.26\n",
       "2023-03-31   98.01  32.67  288.30  27.777  409.39\n",
       "2023-04-30   89.37  31.06  307.26  27.749  415.93\n",
       "2023-05-31  118.21  31.44  328.39  37.834  417.85"
      ]
     },
     "execution_count": 2,
     "metadata": {},
     "output_type": "execute_result"
    }
   ],
   "source": [
    "### Restore the stock data\n",
    "scen1_stocks = pd.read_csv('scen1_stocks.csv', index_col='date')\n",
    "scen1_stocks.head()"
   ]
  },
  {
   "cell_type": "markdown",
   "id": "a4e7346c-f7e4-4aaf-9cf7-d9c58351ad28",
   "metadata": {
    "editable": true,
    "slideshow": {
     "slide_type": "slide"
    },
    "tags": []
   },
   "source": [
    "### FRED"
   ]
  },
  {
   "cell_type": "code",
   "execution_count": 3,
   "id": "62ba3cc5-e169-49b7-ba49-65934fc68001",
   "metadata": {
    "editable": true,
    "slideshow": {
     "slide_type": "fragment"
    },
    "tags": []
   },
   "outputs": [
    {
     "data": {
      "text/html": [
       "<div>\n",
       "<style scoped>\n",
       "    .dataframe tbody tr th:only-of-type {\n",
       "        vertical-align: middle;\n",
       "    }\n",
       "\n",
       "    .dataframe tbody tr th {\n",
       "        vertical-align: top;\n",
       "    }\n",
       "\n",
       "    .dataframe thead th {\n",
       "        text-align: right;\n",
       "    }\n",
       "</style>\n",
       "<table border=\"1\" class=\"dataframe\">\n",
       "  <thead>\n",
       "    <tr style=\"text-align: right;\">\n",
       "      <th></th>\n",
       "      <th>potential_inflation</th>\n",
       "      <th>industrial_prod</th>\n",
       "      <th>risk_free</th>\n",
       "    </tr>\n",
       "    <tr>\n",
       "      <th>month</th>\n",
       "      <th></th>\n",
       "      <th></th>\n",
       "      <th></th>\n",
       "    </tr>\n",
       "  </thead>\n",
       "  <tbody>\n",
       "    <tr>\n",
       "      <th>2023-01-31</th>\n",
       "      <td>325.520</td>\n",
       "      <td>102.7476</td>\n",
       "      <td>4.69</td>\n",
       "    </tr>\n",
       "    <tr>\n",
       "      <th>2023-02-28</th>\n",
       "      <td>327.499</td>\n",
       "      <td>102.8003</td>\n",
       "      <td>4.93</td>\n",
       "    </tr>\n",
       "    <tr>\n",
       "      <th>2023-03-31</th>\n",
       "      <td>328.457</td>\n",
       "      <td>102.8143</td>\n",
       "      <td>4.68</td>\n",
       "    </tr>\n",
       "    <tr>\n",
       "      <th>2023-04-30</th>\n",
       "      <td>329.868</td>\n",
       "      <td>103.2241</td>\n",
       "      <td>4.68</td>\n",
       "    </tr>\n",
       "    <tr>\n",
       "      <th>2023-05-31</th>\n",
       "      <td>330.663</td>\n",
       "      <td>102.9809</td>\n",
       "      <td>4.91</td>\n",
       "    </tr>\n",
       "  </tbody>\n",
       "</table>\n",
       "</div>"
      ],
      "text/plain": [
       "            potential_inflation  industrial_prod  risk_free\n",
       "month                                                      \n",
       "2023-01-31              325.520         102.7476       4.69\n",
       "2023-02-28              327.499         102.8003       4.93\n",
       "2023-03-31              328.457         102.8143       4.68\n",
       "2023-04-30              329.868         103.2241       4.68\n",
       "2023-05-31              330.663         102.9809       4.91"
      ]
     },
     "execution_count": 3,
     "metadata": {},
     "output_type": "execute_result"
    }
   ],
   "source": [
    "### recall persisted FRED data\n",
    "scen1_fred = pd.read_csv(\"scen1_fred.csv\", index_col='month')\\\n",
    "                .drop('Unnamed: 0',axis=1)\n",
    "scen1_fred.head()"
   ]
  },
  {
   "cell_type": "code",
   "execution_count": 4,
   "id": "39ea60fc-2e89-4e29-9dd9-2b73144df897",
   "metadata": {
    "editable": true,
    "slideshow": {
     "slide_type": "subslide"
    },
    "tags": []
   },
   "outputs": [
    {
     "data": {
      "text/html": [
       "<div>\n",
       "<style scoped>\n",
       "    .dataframe tbody tr th:only-of-type {\n",
       "        vertical-align: middle;\n",
       "    }\n",
       "\n",
       "    .dataframe tbody tr th {\n",
       "        vertical-align: top;\n",
       "    }\n",
       "\n",
       "    .dataframe thead th {\n",
       "        text-align: right;\n",
       "    }\n",
       "</style>\n",
       "<table border=\"1\" class=\"dataframe\">\n",
       "  <thead>\n",
       "    <tr style=\"text-align: right;\">\n",
       "      <th></th>\n",
       "      <th>AMD</th>\n",
       "      <th>INTC</th>\n",
       "      <th>MSFT</th>\n",
       "      <th>NVDA</th>\n",
       "      <th>SPY</th>\n",
       "      <th>potential_inflation</th>\n",
       "      <th>industrial_prod</th>\n",
       "      <th>risk_free</th>\n",
       "    </tr>\n",
       "    <tr>\n",
       "      <th>fiscal_end</th>\n",
       "      <th></th>\n",
       "      <th></th>\n",
       "      <th></th>\n",
       "      <th></th>\n",
       "      <th></th>\n",
       "      <th></th>\n",
       "      <th></th>\n",
       "      <th></th>\n",
       "    </tr>\n",
       "  </thead>\n",
       "  <tbody>\n",
       "    <tr>\n",
       "      <th>2023-01-31</th>\n",
       "      <td>75.15</td>\n",
       "      <td>28.26</td>\n",
       "      <td>247.81</td>\n",
       "      <td>19.537</td>\n",
       "      <td>406.48</td>\n",
       "      <td>325.520</td>\n",
       "      <td>102.7476</td>\n",
       "      <td>4.69</td>\n",
       "    </tr>\n",
       "    <tr>\n",
       "      <th>2023-02-28</th>\n",
       "      <td>78.58</td>\n",
       "      <td>24.93</td>\n",
       "      <td>249.42</td>\n",
       "      <td>23.216</td>\n",
       "      <td>396.26</td>\n",
       "      <td>327.499</td>\n",
       "      <td>102.8003</td>\n",
       "      <td>4.93</td>\n",
       "    </tr>\n",
       "    <tr>\n",
       "      <th>2023-03-31</th>\n",
       "      <td>98.01</td>\n",
       "      <td>32.67</td>\n",
       "      <td>288.30</td>\n",
       "      <td>27.777</td>\n",
       "      <td>409.39</td>\n",
       "      <td>328.457</td>\n",
       "      <td>102.8143</td>\n",
       "      <td>4.68</td>\n",
       "    </tr>\n",
       "    <tr>\n",
       "      <th>2023-04-30</th>\n",
       "      <td>89.37</td>\n",
       "      <td>31.06</td>\n",
       "      <td>307.26</td>\n",
       "      <td>27.749</td>\n",
       "      <td>415.93</td>\n",
       "      <td>329.868</td>\n",
       "      <td>103.2241</td>\n",
       "      <td>4.68</td>\n",
       "    </tr>\n",
       "    <tr>\n",
       "      <th>2023-05-31</th>\n",
       "      <td>118.21</td>\n",
       "      <td>31.44</td>\n",
       "      <td>328.39</td>\n",
       "      <td>37.834</td>\n",
       "      <td>417.85</td>\n",
       "      <td>330.663</td>\n",
       "      <td>102.9809</td>\n",
       "      <td>4.91</td>\n",
       "    </tr>\n",
       "  </tbody>\n",
       "</table>\n",
       "</div>"
      ],
      "text/plain": [
       "               AMD   INTC    MSFT    NVDA     SPY  potential_inflation  \\\n",
       "fiscal_end                                                               \n",
       "2023-01-31   75.15  28.26  247.81  19.537  406.48              325.520   \n",
       "2023-02-28   78.58  24.93  249.42  23.216  396.26              327.499   \n",
       "2023-03-31   98.01  32.67  288.30  27.777  409.39              328.457   \n",
       "2023-04-30   89.37  31.06  307.26  27.749  415.93              329.868   \n",
       "2023-05-31  118.21  31.44  328.39  37.834  417.85              330.663   \n",
       "\n",
       "            industrial_prod  risk_free  \n",
       "fiscal_end                              \n",
       "2023-01-31         102.7476       4.69  \n",
       "2023-02-28         102.8003       4.93  \n",
       "2023-03-31         102.8143       4.68  \n",
       "2023-04-30         103.2241       4.68  \n",
       "2023-05-31         102.9809       4.91  "
      ]
     },
     "execution_count": 4,
     "metadata": {},
     "output_type": "execute_result"
    }
   ],
   "source": [
    "### Combine data\n",
    "scen1 = pd.merge(scen1_stocks, scen1_fred\n",
    "                 , left_index=True\n",
    "                 , right_index=True, how = 'inner')\n",
    "scen1.index.name = 'fiscal_end'\n",
    "scen1.head()"
   ]
  },
  {
   "cell_type": "code",
   "execution_count": 5,
   "id": "59ec226a-e898-4c04-86f5-55dc9a157f9b",
   "metadata": {
    "editable": true,
    "slideshow": {
     "slide_type": "slide"
    },
    "tags": []
   },
   "outputs": [
    {
     "data": {
      "text/html": [
       "<div>\n",
       "<style scoped>\n",
       "    .dataframe tbody tr th:only-of-type {\n",
       "        vertical-align: middle;\n",
       "    }\n",
       "\n",
       "    .dataframe tbody tr th {\n",
       "        vertical-align: top;\n",
       "    }\n",
       "\n",
       "    .dataframe thead th {\n",
       "        text-align: right;\n",
       "    }\n",
       "</style>\n",
       "<table border=\"1\" class=\"dataframe\">\n",
       "  <thead>\n",
       "    <tr style=\"text-align: right;\">\n",
       "      <th></th>\n",
       "      <th>AMD</th>\n",
       "      <th>INTC</th>\n",
       "      <th>MSFT</th>\n",
       "      <th>NVDA</th>\n",
       "      <th>SPY</th>\n",
       "      <th>potential_inflation</th>\n",
       "      <th>industrial_prod</th>\n",
       "      <th>risk_free</th>\n",
       "    </tr>\n",
       "    <tr>\n",
       "      <th>fiscal_end</th>\n",
       "      <th></th>\n",
       "      <th></th>\n",
       "      <th></th>\n",
       "      <th></th>\n",
       "      <th></th>\n",
       "      <th></th>\n",
       "      <th></th>\n",
       "      <th></th>\n",
       "    </tr>\n",
       "  </thead>\n",
       "  <tbody>\n",
       "    <tr>\n",
       "      <th>2023-02-28</th>\n",
       "      <td>0.045642</td>\n",
       "      <td>-0.117834</td>\n",
       "      <td>0.006497</td>\n",
       "      <td>0.188309</td>\n",
       "      <td>-0.025143</td>\n",
       "      <td>0.006080</td>\n",
       "      <td>0.000513</td>\n",
       "      <td>0.051173</td>\n",
       "    </tr>\n",
       "    <tr>\n",
       "      <th>2023-03-31</th>\n",
       "      <td>0.247264</td>\n",
       "      <td>0.310469</td>\n",
       "      <td>0.155882</td>\n",
       "      <td>0.196459</td>\n",
       "      <td>0.033135</td>\n",
       "      <td>0.002925</td>\n",
       "      <td>0.000136</td>\n",
       "      <td>-0.050710</td>\n",
       "    </tr>\n",
       "    <tr>\n",
       "      <th>2023-04-30</th>\n",
       "      <td>-0.088154</td>\n",
       "      <td>-0.049281</td>\n",
       "      <td>0.065765</td>\n",
       "      <td>-0.001008</td>\n",
       "      <td>0.015975</td>\n",
       "      <td>0.004296</td>\n",
       "      <td>0.003986</td>\n",
       "      <td>0.000000</td>\n",
       "    </tr>\n",
       "    <tr>\n",
       "      <th>2023-05-31</th>\n",
       "      <td>0.322703</td>\n",
       "      <td>0.012234</td>\n",
       "      <td>0.068769</td>\n",
       "      <td>0.363437</td>\n",
       "      <td>0.004616</td>\n",
       "      <td>0.002410</td>\n",
       "      <td>-0.002356</td>\n",
       "      <td>0.049145</td>\n",
       "    </tr>\n",
       "    <tr>\n",
       "      <th>2023-06-30</th>\n",
       "      <td>-0.036376</td>\n",
       "      <td>0.063613</td>\n",
       "      <td>0.036999</td>\n",
       "      <td>0.118095</td>\n",
       "      <td>0.060859</td>\n",
       "      <td>0.003411</td>\n",
       "      <td>-0.005826</td>\n",
       "      <td>0.067210</td>\n",
       "    </tr>\n",
       "  </tbody>\n",
       "</table>\n",
       "</div>"
      ],
      "text/plain": [
       "                 AMD      INTC      MSFT      NVDA       SPY  \\\n",
       "fiscal_end                                                     \n",
       "2023-02-28  0.045642 -0.117834  0.006497  0.188309 -0.025143   \n",
       "2023-03-31  0.247264  0.310469  0.155882  0.196459  0.033135   \n",
       "2023-04-30 -0.088154 -0.049281  0.065765 -0.001008  0.015975   \n",
       "2023-05-31  0.322703  0.012234  0.068769  0.363437  0.004616   \n",
       "2023-06-30 -0.036376  0.063613  0.036999  0.118095  0.060859   \n",
       "\n",
       "            potential_inflation  industrial_prod  risk_free  \n",
       "fiscal_end                                                   \n",
       "2023-02-28             0.006080         0.000513   0.051173  \n",
       "2023-03-31             0.002925         0.000136  -0.050710  \n",
       "2023-04-30             0.004296         0.003986   0.000000  \n",
       "2023-05-31             0.002410        -0.002356   0.049145  \n",
       "2023-06-30             0.003411        -0.005826   0.067210  "
      ]
     },
     "execution_count": 5,
     "metadata": {},
     "output_type": "execute_result"
    }
   ],
   "source": [
    "### Assess as rates of change or return\n",
    "scen1_returns = scen1.pct_change().dropna()\n",
    "scen1_returns.head()"
   ]
  },
  {
   "cell_type": "code",
   "execution_count": 6,
   "id": "04e50c59-f034-4607-ad5a-c09b18ddbdda",
   "metadata": {
    "editable": true,
    "slideshow": {
     "slide_type": "slide"
    },
    "tags": []
   },
   "outputs": [
    {
     "data": {
      "text/html": [
       "<div>\n",
       "<style scoped>\n",
       "    .dataframe tbody tr th:only-of-type {\n",
       "        vertical-align: middle;\n",
       "    }\n",
       "\n",
       "    .dataframe tbody tr th {\n",
       "        vertical-align: top;\n",
       "    }\n",
       "\n",
       "    .dataframe thead th {\n",
       "        text-align: right;\n",
       "    }\n",
       "</style>\n",
       "<table border=\"1\" class=\"dataframe\">\n",
       "  <thead>\n",
       "    <tr style=\"text-align: right;\">\n",
       "      <th></th>\n",
       "      <th>AMD</th>\n",
       "      <th>INTC</th>\n",
       "      <th>MSFT</th>\n",
       "      <th>NVDA</th>\n",
       "      <th>SPY</th>\n",
       "      <th>potential_inflation</th>\n",
       "      <th>industrial_prod</th>\n",
       "      <th>risk_free</th>\n",
       "      <th>excess_return_AMD</th>\n",
       "      <th>excess_return_INTC</th>\n",
       "      <th>excess_return_MSFT</th>\n",
       "      <th>excess_return_NVDA</th>\n",
       "      <th>excess_return_SPY</th>\n",
       "      <th>excess_return_potential_inflation</th>\n",
       "      <th>excess_return_industrial_prod</th>\n",
       "      <th>excess_return_risk_free</th>\n",
       "    </tr>\n",
       "    <tr>\n",
       "      <th>fiscal_end</th>\n",
       "      <th></th>\n",
       "      <th></th>\n",
       "      <th></th>\n",
       "      <th></th>\n",
       "      <th></th>\n",
       "      <th></th>\n",
       "      <th></th>\n",
       "      <th></th>\n",
       "      <th></th>\n",
       "      <th></th>\n",
       "      <th></th>\n",
       "      <th></th>\n",
       "      <th></th>\n",
       "      <th></th>\n",
       "      <th></th>\n",
       "      <th></th>\n",
       "    </tr>\n",
       "  </thead>\n",
       "  <tbody>\n",
       "    <tr>\n",
       "      <th>2024-07-31</th>\n",
       "      <td>-0.109303</td>\n",
       "      <td>-0.007427</td>\n",
       "      <td>-0.063989</td>\n",
       "      <td>-0.052776</td>\n",
       "      <td>0.012109</td>\n",
       "      <td>0.001327</td>\n",
       "      <td>-0.006967</td>\n",
       "      <td>-0.041096</td>\n",
       "      <td>-0.068207</td>\n",
       "      <td>0.033669</td>\n",
       "      <td>-0.022893</td>\n",
       "      <td>-0.011681</td>\n",
       "      <td>0.053205</td>\n",
       "      <td>0.042423</td>\n",
       "      <td>0.034129</td>\n",
       "      <td>0.0</td>\n",
       "    </tr>\n",
       "    <tr>\n",
       "      <th>2024-08-31</th>\n",
       "      <td>0.028239</td>\n",
       "      <td>-0.283019</td>\n",
       "      <td>-0.002892</td>\n",
       "      <td>0.020082</td>\n",
       "      <td>0.023366</td>\n",
       "      <td>0.000929</td>\n",
       "      <td>0.005355</td>\n",
       "      <td>-0.095918</td>\n",
       "      <td>0.124158</td>\n",
       "      <td>-0.187101</td>\n",
       "      <td>0.093026</td>\n",
       "      <td>0.116000</td>\n",
       "      <td>0.119284</td>\n",
       "      <td>0.096848</td>\n",
       "      <td>0.101274</td>\n",
       "      <td>0.0</td>\n",
       "    </tr>\n",
       "    <tr>\n",
       "      <th>2024-09-30</th>\n",
       "      <td>0.104470</td>\n",
       "      <td>0.064428</td>\n",
       "      <td>0.031548</td>\n",
       "      <td>0.017341</td>\n",
       "      <td>0.017882</td>\n",
       "      <td>0.001976</td>\n",
       "      <td>-0.005382</td>\n",
       "      <td>-0.090293</td>\n",
       "      <td>0.194763</td>\n",
       "      <td>0.154722</td>\n",
       "      <td>0.121842</td>\n",
       "      <td>0.107634</td>\n",
       "      <td>0.108176</td>\n",
       "      <td>0.092269</td>\n",
       "      <td>0.084911</td>\n",
       "      <td>0.0</td>\n",
       "    </tr>\n",
       "    <tr>\n",
       "      <th>2024-10-31</th>\n",
       "      <td>-0.121953</td>\n",
       "      <td>-0.082694</td>\n",
       "      <td>-0.055659</td>\n",
       "      <td>0.093215</td>\n",
       "      <td>-0.008924</td>\n",
       "      <td>0.001496</td>\n",
       "      <td>-0.004057</td>\n",
       "      <td>0.042184</td>\n",
       "      <td>-0.164136</td>\n",
       "      <td>-0.124878</td>\n",
       "      <td>-0.097842</td>\n",
       "      <td>0.051031</td>\n",
       "      <td>-0.051107</td>\n",
       "      <td>-0.040688</td>\n",
       "      <td>-0.046241</td>\n",
       "      <td>0.0</td>\n",
       "    </tr>\n",
       "    <tr>\n",
       "      <th>2024-11-30</th>\n",
       "      <td>-0.047859</td>\n",
       "      <td>0.117565</td>\n",
       "      <td>0.042107</td>\n",
       "      <td>0.041353</td>\n",
       "      <td>0.059634</td>\n",
       "      <td>-0.000099</td>\n",
       "      <td>-0.001471</td>\n",
       "      <td>0.030952</td>\n",
       "      <td>-0.078811</td>\n",
       "      <td>0.086613</td>\n",
       "      <td>0.011154</td>\n",
       "      <td>0.010400</td>\n",
       "      <td>0.028681</td>\n",
       "      <td>-0.031051</td>\n",
       "      <td>-0.032423</td>\n",
       "      <td>0.0</td>\n",
       "    </tr>\n",
       "  </tbody>\n",
       "</table>\n",
       "</div>"
      ],
      "text/plain": [
       "                 AMD      INTC      MSFT      NVDA       SPY  \\\n",
       "fiscal_end                                                     \n",
       "2024-07-31 -0.109303 -0.007427 -0.063989 -0.052776  0.012109   \n",
       "2024-08-31  0.028239 -0.283019 -0.002892  0.020082  0.023366   \n",
       "2024-09-30  0.104470  0.064428  0.031548  0.017341  0.017882   \n",
       "2024-10-31 -0.121953 -0.082694 -0.055659  0.093215 -0.008924   \n",
       "2024-11-30 -0.047859  0.117565  0.042107  0.041353  0.059634   \n",
       "\n",
       "            potential_inflation  industrial_prod  risk_free  \\\n",
       "fiscal_end                                                    \n",
       "2024-07-31             0.001327        -0.006967  -0.041096   \n",
       "2024-08-31             0.000929         0.005355  -0.095918   \n",
       "2024-09-30             0.001976        -0.005382  -0.090293   \n",
       "2024-10-31             0.001496        -0.004057   0.042184   \n",
       "2024-11-30            -0.000099        -0.001471   0.030952   \n",
       "\n",
       "            excess_return_AMD  excess_return_INTC  excess_return_MSFT  \\\n",
       "fiscal_end                                                              \n",
       "2024-07-31          -0.068207            0.033669           -0.022893   \n",
       "2024-08-31           0.124158           -0.187101            0.093026   \n",
       "2024-09-30           0.194763            0.154722            0.121842   \n",
       "2024-10-31          -0.164136           -0.124878           -0.097842   \n",
       "2024-11-30          -0.078811            0.086613            0.011154   \n",
       "\n",
       "            excess_return_NVDA  excess_return_SPY  \\\n",
       "fiscal_end                                          \n",
       "2024-07-31           -0.011681           0.053205   \n",
       "2024-08-31            0.116000           0.119284   \n",
       "2024-09-30            0.107634           0.108176   \n",
       "2024-10-31            0.051031          -0.051107   \n",
       "2024-11-30            0.010400           0.028681   \n",
       "\n",
       "            excess_return_potential_inflation  excess_return_industrial_prod  \\\n",
       "fiscal_end                                                                     \n",
       "2024-07-31                           0.042423                       0.034129   \n",
       "2024-08-31                           0.096848                       0.101274   \n",
       "2024-09-30                           0.092269                       0.084911   \n",
       "2024-10-31                          -0.040688                      -0.046241   \n",
       "2024-11-30                          -0.031051                      -0.032423   \n",
       "\n",
       "            excess_return_risk_free  \n",
       "fiscal_end                           \n",
       "2024-07-31                      0.0  \n",
       "2024-08-31                      0.0  \n",
       "2024-09-30                      0.0  \n",
       "2024-10-31                      0.0  \n",
       "2024-11-30                      0.0  "
      ]
     },
     "execution_count": 6,
     "metadata": {},
     "output_type": "execute_result"
    }
   ],
   "source": [
    "### Calculate excess returns\n",
    "cols = scen1_returns.columns\n",
    "for i in cols:\n",
    "    scen1_returns[\"excess_return_\"+str(i)] \n",
    "    = scen1_returns[i] - scen1_returns['risk_free']\n",
    "scen1_returns.tail()"
   ]
  },
  {
   "cell_type": "markdown",
   "id": "545c3006-a206-47ae-9e8a-49bcec60469b",
   "metadata": {
    "editable": true,
    "slideshow": {
     "slide_type": "slide"
    },
    "tags": []
   },
   "source": [
    "## File operations"
   ]
  },
  {
   "cell_type": "code",
   "execution_count": 7,
   "id": "111109ca-2f0a-4f77-be53-e8ad4d243de0",
   "metadata": {
    "editable": true,
    "slideshow": {
     "slide_type": "fragment"
    },
    "tags": []
   },
   "outputs": [],
   "source": [
    "### Persist\n",
    "scen1_returns.to_csv('p2m2_scen1_returns.csv')"
   ]
  },
  {
   "cell_type": "code",
   "execution_count": 3,
   "id": "f36d2811-0881-4480-827d-8fea91060f11",
   "metadata": {
    "editable": true,
    "slideshow": {
     "slide_type": "fragment"
    },
    "tags": []
   },
   "outputs": [
    {
     "data": {
      "text/html": [
       "<div>\n",
       "<style scoped>\n",
       "    .dataframe tbody tr th:only-of-type {\n",
       "        vertical-align: middle;\n",
       "    }\n",
       "\n",
       "    .dataframe tbody tr th {\n",
       "        vertical-align: top;\n",
       "    }\n",
       "\n",
       "    .dataframe thead th {\n",
       "        text-align: right;\n",
       "    }\n",
       "</style>\n",
       "<table border=\"1\" class=\"dataframe\">\n",
       "  <thead>\n",
       "    <tr style=\"text-align: right;\">\n",
       "      <th></th>\n",
       "      <th>AMD</th>\n",
       "      <th>INTC</th>\n",
       "      <th>MSFT</th>\n",
       "      <th>NVDA</th>\n",
       "      <th>SPY</th>\n",
       "      <th>potential_inflation</th>\n",
       "      <th>industrial_prod</th>\n",
       "      <th>risk_free</th>\n",
       "      <th>excess_return_AMD</th>\n",
       "      <th>excess_return_INTC</th>\n",
       "      <th>excess_return_MSFT</th>\n",
       "      <th>excess_return_NVDA</th>\n",
       "      <th>excess_return_SPY</th>\n",
       "      <th>excess_return_potential_inflation</th>\n",
       "      <th>excess_return_industrial_prod</th>\n",
       "      <th>excess_return_risk_free</th>\n",
       "    </tr>\n",
       "    <tr>\n",
       "      <th>fiscal_end</th>\n",
       "      <th></th>\n",
       "      <th></th>\n",
       "      <th></th>\n",
       "      <th></th>\n",
       "      <th></th>\n",
       "      <th></th>\n",
       "      <th></th>\n",
       "      <th></th>\n",
       "      <th></th>\n",
       "      <th></th>\n",
       "      <th></th>\n",
       "      <th></th>\n",
       "      <th></th>\n",
       "      <th></th>\n",
       "      <th></th>\n",
       "      <th></th>\n",
       "    </tr>\n",
       "  </thead>\n",
       "  <tbody>\n",
       "    <tr>\n",
       "      <th>2023-02-28</th>\n",
       "      <td>0.045642</td>\n",
       "      <td>-0.117834</td>\n",
       "      <td>0.006497</td>\n",
       "      <td>0.188309</td>\n",
       "      <td>-0.025143</td>\n",
       "      <td>0.006080</td>\n",
       "      <td>0.000513</td>\n",
       "      <td>0.051173</td>\n",
       "      <td>-0.005531</td>\n",
       "      <td>-0.169007</td>\n",
       "      <td>-0.044676</td>\n",
       "      <td>0.137137</td>\n",
       "      <td>-0.076315</td>\n",
       "      <td>-0.045093</td>\n",
       "      <td>-0.050660</td>\n",
       "      <td>0.0</td>\n",
       "    </tr>\n",
       "    <tr>\n",
       "      <th>2023-03-31</th>\n",
       "      <td>0.247264</td>\n",
       "      <td>0.310469</td>\n",
       "      <td>0.155882</td>\n",
       "      <td>0.196459</td>\n",
       "      <td>0.033135</td>\n",
       "      <td>0.002925</td>\n",
       "      <td>0.000136</td>\n",
       "      <td>-0.050710</td>\n",
       "      <td>0.297974</td>\n",
       "      <td>0.361179</td>\n",
       "      <td>0.206592</td>\n",
       "      <td>0.247169</td>\n",
       "      <td>0.083845</td>\n",
       "      <td>0.053635</td>\n",
       "      <td>0.050846</td>\n",
       "      <td>0.0</td>\n",
       "    </tr>\n",
       "    <tr>\n",
       "      <th>2023-04-30</th>\n",
       "      <td>-0.088154</td>\n",
       "      <td>-0.049281</td>\n",
       "      <td>0.065765</td>\n",
       "      <td>-0.001008</td>\n",
       "      <td>0.015975</td>\n",
       "      <td>0.004296</td>\n",
       "      <td>0.003986</td>\n",
       "      <td>0.000000</td>\n",
       "      <td>-0.088154</td>\n",
       "      <td>-0.049281</td>\n",
       "      <td>0.065765</td>\n",
       "      <td>-0.001008</td>\n",
       "      <td>0.015975</td>\n",
       "      <td>0.004296</td>\n",
       "      <td>0.003986</td>\n",
       "      <td>0.0</td>\n",
       "    </tr>\n",
       "    <tr>\n",
       "      <th>2023-05-31</th>\n",
       "      <td>0.322703</td>\n",
       "      <td>0.012234</td>\n",
       "      <td>0.068769</td>\n",
       "      <td>0.363437</td>\n",
       "      <td>0.004616</td>\n",
       "      <td>0.002410</td>\n",
       "      <td>-0.002356</td>\n",
       "      <td>0.049145</td>\n",
       "      <td>0.273558</td>\n",
       "      <td>-0.036911</td>\n",
       "      <td>0.019624</td>\n",
       "      <td>0.314291</td>\n",
       "      <td>-0.044529</td>\n",
       "      <td>-0.046735</td>\n",
       "      <td>-0.051501</td>\n",
       "      <td>0.0</td>\n",
       "    </tr>\n",
       "    <tr>\n",
       "      <th>2023-06-30</th>\n",
       "      <td>-0.036376</td>\n",
       "      <td>0.063613</td>\n",
       "      <td>0.036999</td>\n",
       "      <td>0.118095</td>\n",
       "      <td>0.060859</td>\n",
       "      <td>0.003411</td>\n",
       "      <td>-0.005826</td>\n",
       "      <td>0.067210</td>\n",
       "      <td>-0.103586</td>\n",
       "      <td>-0.003597</td>\n",
       "      <td>-0.030211</td>\n",
       "      <td>0.050885</td>\n",
       "      <td>-0.006351</td>\n",
       "      <td>-0.063798</td>\n",
       "      <td>-0.073036</td>\n",
       "      <td>0.0</td>\n",
       "    </tr>\n",
       "  </tbody>\n",
       "</table>\n",
       "</div>"
      ],
      "text/plain": [
       "                 AMD      INTC      MSFT      NVDA       SPY  \\\n",
       "fiscal_end                                                     \n",
       "2023-02-28  0.045642 -0.117834  0.006497  0.188309 -0.025143   \n",
       "2023-03-31  0.247264  0.310469  0.155882  0.196459  0.033135   \n",
       "2023-04-30 -0.088154 -0.049281  0.065765 -0.001008  0.015975   \n",
       "2023-05-31  0.322703  0.012234  0.068769  0.363437  0.004616   \n",
       "2023-06-30 -0.036376  0.063613  0.036999  0.118095  0.060859   \n",
       "\n",
       "            potential_inflation  industrial_prod  risk_free  \\\n",
       "fiscal_end                                                    \n",
       "2023-02-28             0.006080         0.000513   0.051173   \n",
       "2023-03-31             0.002925         0.000136  -0.050710   \n",
       "2023-04-30             0.004296         0.003986   0.000000   \n",
       "2023-05-31             0.002410        -0.002356   0.049145   \n",
       "2023-06-30             0.003411        -0.005826   0.067210   \n",
       "\n",
       "            excess_return_AMD  excess_return_INTC  excess_return_MSFT  \\\n",
       "fiscal_end                                                              \n",
       "2023-02-28          -0.005531           -0.169007           -0.044676   \n",
       "2023-03-31           0.297974            0.361179            0.206592   \n",
       "2023-04-30          -0.088154           -0.049281            0.065765   \n",
       "2023-05-31           0.273558           -0.036911            0.019624   \n",
       "2023-06-30          -0.103586           -0.003597           -0.030211   \n",
       "\n",
       "            excess_return_NVDA  excess_return_SPY  \\\n",
       "fiscal_end                                          \n",
       "2023-02-28            0.137137          -0.076315   \n",
       "2023-03-31            0.247169           0.083845   \n",
       "2023-04-30           -0.001008           0.015975   \n",
       "2023-05-31            0.314291          -0.044529   \n",
       "2023-06-30            0.050885          -0.006351   \n",
       "\n",
       "            excess_return_potential_inflation  excess_return_industrial_prod  \\\n",
       "fiscal_end                                                                     \n",
       "2023-02-28                          -0.045093                      -0.050660   \n",
       "2023-03-31                           0.053635                       0.050846   \n",
       "2023-04-30                           0.004296                       0.003986   \n",
       "2023-05-31                          -0.046735                      -0.051501   \n",
       "2023-06-30                          -0.063798                      -0.073036   \n",
       "\n",
       "            excess_return_risk_free  \n",
       "fiscal_end                           \n",
       "2023-02-28                      0.0  \n",
       "2023-03-31                      0.0  \n",
       "2023-04-30                      0.0  \n",
       "2023-05-31                      0.0  \n",
       "2023-06-30                      0.0  "
      ]
     },
     "execution_count": 3,
     "metadata": {},
     "output_type": "execute_result"
    }
   ],
   "source": [
    "### Read back in\n",
    "scen1_inputs = pd.read_csv('p2m2_scen1_returns.csv')\\\n",
    "                .set_index('fiscal_end')\n",
    "scen1_inputs.head()"
   ]
  },
  {
   "cell_type": "code",
   "execution_count": 4,
   "id": "d827f3e9-3d39-4b39-808e-44010ba920e8",
   "metadata": {},
   "outputs": [
    {
     "name": "stdout",
     "output_type": "stream",
     "text": [
      "<class 'pandas.core.frame.DataFrame'>\n",
      "Index: 22 entries, 2023-02-28 to 2024-11-30\n",
      "Data columns (total 16 columns):\n",
      " #   Column                             Non-Null Count  Dtype  \n",
      "---  ------                             --------------  -----  \n",
      " 0   AMD                                22 non-null     float64\n",
      " 1   INTC                               22 non-null     float64\n",
      " 2   MSFT                               22 non-null     float64\n",
      " 3   NVDA                               22 non-null     float64\n",
      " 4   SPY                                22 non-null     float64\n",
      " 5   potential_inflation                22 non-null     float64\n",
      " 6   industrial_prod                    22 non-null     float64\n",
      " 7   risk_free                          22 non-null     float64\n",
      " 8   excess_return_AMD                  22 non-null     float64\n",
      " 9   excess_return_INTC                 22 non-null     float64\n",
      " 10  excess_return_MSFT                 22 non-null     float64\n",
      " 11  excess_return_NVDA                 22 non-null     float64\n",
      " 12  excess_return_SPY                  22 non-null     float64\n",
      " 13  excess_return_potential_inflation  22 non-null     float64\n",
      " 14  excess_return_industrial_prod      22 non-null     float64\n",
      " 15  excess_return_risk_free            22 non-null     float64\n",
      "dtypes: float64(16)\n",
      "memory usage: 2.9+ KB\n"
     ]
    }
   ],
   "source": [
    "### Read back in\n",
    "scen1_inputs = pd.read_csv('p2m2_scen1_returns.csv')\\\n",
    "                .set_index('fiscal_end')\n",
    "scen1_inputs.info()"
   ]
  },
  {
   "cell_type": "markdown",
   "id": "07e65414-9eea-4f7d-827e-ac7ae40e92b8",
   "metadata": {
    "editable": true,
    "slideshow": {
     "slide_type": "slide"
    },
    "tags": []
   },
   "source": [
    "## Visualization"
   ]
  },
  {
   "cell_type": "code",
   "execution_count": 9,
   "id": "e971b7db-a996-4f11-b46a-53c8f268a53b",
   "metadata": {
    "editable": true,
    "slideshow": {
     "slide_type": "fragment"
    },
    "tags": []
   },
   "outputs": [
    {
     "name": "stdout",
     "output_type": "stream",
     "text": [
      "['excess_return_AMD', 'excess_return_INTC', 'excess_return_MSFT', 'excess_return_NVDA', 'excess_return_SPY', 'excess_return_potential_inflation', 'excess_return_industrial_prod']\n"
     ]
    }
   ],
   "source": [
    "### Get only excess returns columns\n",
    "excess_ret = [c for c in scen1_inputs.columns \n",
    "              if c.startswith('excess_return') \n",
    "              and not(c.endswith('risk_free'))]\n",
    "print(excess_ret)"
   ]
  },
  {
   "cell_type": "code",
   "execution_count": 10,
   "id": "de2cdcc0-eb5f-4361-952c-e3265b150573",
   "metadata": {
    "editable": true,
    "slideshow": {
     "slide_type": "fragment"
    },
    "tags": []
   },
   "outputs": [],
   "source": [
    "### rename list for visibility\n",
    "xs_ren_list = {'excess_return_AMD':'amd'\n",
    "    ,'excess_return_INTC':'intc'\n",
    "    ,'excess_return_MSFT':'msft'\n",
    "    ,'excess_return_NVDA':'nvda'\n",
    "    ,'excess_return_SPY':'sp500'\n",
    "    ,'excess_return_potential_inflation':'inflation'\n",
    "    ,'excess_return_industrial_prod':'ind_activity'}"
   ]
  },
  {
   "cell_type": "code",
   "execution_count": 11,
   "id": "4cf0322e-d3db-406d-a0c4-62080e9e1fd8",
   "metadata": {
    "editable": true,
    "slideshow": {
     "slide_type": "slide"
    },
    "tags": []
   },
   "outputs": [
    {
     "data": {
      "image/png": "[encoded data removed]",
      "text/plain": [
       "<Figure size 640x480 with 2 Axes>"
      ]
     },
     "metadata": {},
     "output_type": "display_data"
    }
   ],
   "source": [
    "### Visualize correlations on a heat map\n",
    "scen1_xs = scen1_inputs[excess_ret].rename(xs_ren_list,axis=1)\n",
    "heat_corr = scen1_xs.corr()\n",
    "sns.heatmap(heat_corr, annot=True)\n",
    "plt.title(\"Correlation Matrix\")\n",
    "plt.show()"
   ]
  },
  {
   "cell_type": "code",
   "execution_count": 12,
   "id": "b43254d7-3410-4bdc-b330-0a4ede42a9db",
   "metadata": {
    "editable": true,
    "slideshow": {
     "slide_type": "slide"
    },
    "tags": []
   },
   "outputs": [
    {
     "data": {
      "image/png": "[encoded data removed]",
      "text/plain": [
       "<Figure size 1000x400 with 6 Axes>"
      ]
     },
     "metadata": {},
     "output_type": "display_data"
    }
   ],
   "source": [
    "row_vars = ['msft', 'nvda']\n",
    "col_vars = ['sp500', 'inflation', 'ind_activity']\n",
    "\n",
    "fig, axes = plt.subplots(len(row_vars), len(col_vars), figsize=(10, 4)\n",
    "                         , constrained_layout=True)\n",
    "\n",
    "for i, row in enumerate(row_vars):\n",
    "    for j, col in enumerate(col_vars):\n",
    "        ax = axes[i, j]\n",
    "        sns.regplot(x=scen1_xs[col], y=scen1_xs[row]\n",
    "                    , scatter_kws={'alpha':0.5, 's':10}\n",
    "                    , line_kws={'color':'red'}\n",
    "                    , ax=ax, label=None)\n",
    "        corr_coeff = np.corrcoef(scen1_xs[col]\n",
    "                             , scen1_xs[row])[0, 1]\n",
    "        ax.set_title(f'{col} | r = {corr_coeff:.2f}', fontsize=10)\n",
    "        ax.tick_params(axis='both', labelsize=8)\n",
    "plt.show()"
   ]
  },
  {
   "cell_type": "markdown",
   "id": "400928fe-f671-47f7-9284-df5ab1c8e076",
   "metadata": {
    "editable": true,
    "slideshow": {
     "slide_type": "slide"
    },
    "tags": []
   },
   "source": [
    "## Build the APT Model"
   ]
  },
  {
   "cell_type": "markdown",
   "id": "8f437604-6831-4236-9341-9bd42e04501e",
   "metadata": {
    "editable": true,
    "slideshow": {
     "slide_type": "fragment"
    },
    "tags": []
   },
   "source": [
    "$\n",
    "r_{\\text{MSFT}} - r_f = \\alpha + \\beta_{\\text{SPY}} (r_{\\text{SPY}} - r_f) + \\beta_{\\text{CPIe}} (r_{\\text{CPIe}} - r_f) + \\beta_{\\text{IndProd}} (r_{\\text{IndProd}} - r_f) + \\epsilon\n",
    "$\n"
   ]
  },
  {
   "cell_type": "code",
   "execution_count": 13,
   "id": "3d950ef6-7de7-4872-bf28-b37b6685f6d9",
   "metadata": {
    "editable": true,
    "slideshow": {
     "slide_type": "fragment"
    },
    "tags": []
   },
   "outputs": [
    {
     "name": "stdout",
     "output_type": "stream",
     "text": [
      "['excess_return_SPY', 'excess_return_potential_inflation', 'excess_return_industrial_prod']\n"
     ]
    }
   ],
   "source": [
    "all_x = ['excess_return_SPY'\n",
    "         , 'excess_return_potential_inflation'\n",
    "         , 'excess_return_industrial_prod']\n",
    "print(all_x)"
   ]
  },
  {
   "cell_type": "code",
   "execution_count": 15,
   "id": "095973c5-b358-48ee-8e9e-1fc1856868fe",
   "metadata": {
    "editable": true,
    "slideshow": {
     "slide_type": "slide"
    },
    "tags": []
   },
   "outputs": [],
   "source": [
    "### Build model - going back to the dataframe we brought back in\n",
    "y_msft = scen1_inputs['excess_return_MSFT']\n",
    "X = scen1_inputs[all_x]\n",
    "X = sm.add_constant(X, prepend=False)\n",
    "APT_MSFT = sm.OLS(y_msft, X)\n",
    "APT_results_MSFT = APT_MSFT.fit()"
   ]
  },
  {
   "cell_type": "code",
   "execution_count": 16,
   "id": "394e95e8-69c3-47be-bf82-030b9d9c80ef",
   "metadata": {
    "editable": true,
    "slideshow": {
     "slide_type": "slide"
    },
    "tags": []
   },
   "outputs": [
    {
     "data": {
      "text/html": [
       "<table class=\"simpletable\">\n",
       "<caption>OLS Regression Results</caption>\n",
       "<tr>\n",
       "  <th>Dep. Variable:</th>    <td>excess_return_MSFT</td> <th>  R-squared:         </th> <td>   0.618</td>\n",
       "</tr>\n",
       "<tr>\n",
       "  <th>Model:</th>                    <td>OLS</td>        <th>  Adj. R-squared:    </th> <td>   0.554</td>\n",
       "</tr>\n",
       "<tr>\n",
       "  <th>Method:</th>              <td>Least Squares</td>   <th>  F-statistic:       </th> <td>   9.697</td>\n",
       "</tr>\n",
       "<tr>\n",
       "  <th>Date:</th>              <td>Mon, 31 Mar 2025</td>  <th>  Prob (F-statistic):</th> <td>0.000497</td>\n",
       "</tr>\n",
       "<tr>\n",
       "  <th>Time:</th>                  <td>23:52:12</td>      <th>  Log-Likelihood:    </th> <td>  35.733</td>\n",
       "</tr>\n",
       "<tr>\n",
       "  <th>No. Observations:</th>       <td>    22</td>       <th>  AIC:               </th> <td>  -63.47</td>\n",
       "</tr>\n",
       "<tr>\n",
       "  <th>Df Residuals:</th>           <td>    18</td>       <th>  BIC:               </th> <td>  -59.10</td>\n",
       "</tr>\n",
       "<tr>\n",
       "  <th>Df Model:</th>               <td>     3</td>       <th>                     </th>     <td> </td>   \n",
       "</tr>\n",
       "<tr>\n",
       "  <th>Covariance Type:</th>       <td>nonrobust</td>     <th>                     </th>     <td> </td>   \n",
       "</tr>\n",
       "</table>\n",
       "<table class=\"simpletable\">\n",
       "<tr>\n",
       "                  <td></td>                     <th>coef</th>     <th>std err</th>      <th>t</th>      <th>P>|t|</th>  <th>[0.025</th>    <th>0.975]</th>  \n",
       "</tr>\n",
       "<tr>\n",
       "  <th>excess_return_SPY</th>                 <td>    0.9171</td> <td>    0.347</td> <td>    2.643</td> <td> 0.017</td> <td>    0.188</td> <td>    1.646</td>\n",
       "</tr>\n",
       "<tr>\n",
       "  <th>excess_return_potential_inflation</th> <td>    0.6593</td> <td>    2.051</td> <td>    0.321</td> <td> 0.752</td> <td>   -3.650</td> <td>    4.969</td>\n",
       "</tr>\n",
       "<tr>\n",
       "  <th>excess_return_industrial_prod</th>     <td>   -0.4826</td> <td>    2.138</td> <td>   -0.226</td> <td> 0.824</td> <td>   -4.975</td> <td>    4.010</td>\n",
       "</tr>\n",
       "<tr>\n",
       "  <th>const</th>                             <td>    0.0070</td> <td>    0.015</td> <td>    0.472</td> <td> 0.643</td> <td>   -0.024</td> <td>    0.038</td>\n",
       "</tr>\n",
       "</table>\n",
       "<table class=\"simpletable\">\n",
       "<tr>\n",
       "  <th>Omnibus:</th>       <td> 0.893</td> <th>  Durbin-Watson:     </th> <td>   1.502</td>\n",
       "</tr>\n",
       "<tr>\n",
       "  <th>Prob(Omnibus):</th> <td> 0.640</td> <th>  Jarque-Bera (JB):  </th> <td>   0.615</td>\n",
       "</tr>\n",
       "<tr>\n",
       "  <th>Skew:</th>          <td> 0.394</td> <th>  Prob(JB):          </th> <td>   0.735</td>\n",
       "</tr>\n",
       "<tr>\n",
       "  <th>Kurtosis:</th>      <td> 2.774</td> <th>  Cond. No.          </th> <td>    262.</td>\n",
       "</tr>\n",
       "</table><br/><br/>Notes:<br/>[1] Standard Errors assume that the covariance matrix of the errors is correctly specified."
      ],
      "text/latex": [
       "\\begin{center}\n",
       "\\begin{tabular}{lclc}\n",
       "\\toprule\n",
       "\\textbf{Dep. Variable:}                       & excess\\_return\\_MSFT & \\textbf{  R-squared:         } &     0.618   \\\\\n",
       "\\textbf{Model:}                               &         OLS          & \\textbf{  Adj. R-squared:    } &     0.554   \\\\\n",
       "\\textbf{Method:}                              &    Least Squares     & \\textbf{  F-statistic:       } &     9.697   \\\\\n",
       "\\textbf{Date:}                                &   Mon, 31 Mar 2025   & \\textbf{  Prob (F-statistic):} &  0.000497   \\\\\n",
       "\\textbf{Time:}                                &       23:52:12       & \\textbf{  Log-Likelihood:    } &    35.733   \\\\\n",
       "\\textbf{No. Observations:}                    &            22        & \\textbf{  AIC:               } &    -63.47   \\\\\n",
       "\\textbf{Df Residuals:}                        &            18        & \\textbf{  BIC:               } &    -59.10   \\\\\n",
       "\\textbf{Df Model:}                            &             3        & \\textbf{                     } &             \\\\\n",
       "\\textbf{Covariance Type:}                     &      nonrobust       & \\textbf{                     } &             \\\\\n",
       "\\bottomrule\n",
       "\\end{tabular}\n",
       "\\begin{tabular}{lcccccc}\n",
       "                                              & \\textbf{coef} & \\textbf{std err} & \\textbf{t} & \\textbf{P$> |$t$|$} & \\textbf{[0.025} & \\textbf{0.975]}  \\\\\n",
       "\\midrule\n",
       "\\textbf{excess\\_return\\_SPY}                  &       0.9171  &        0.347     &     2.643  &         0.017        &        0.188    &        1.646     \\\\\n",
       "\\textbf{excess\\_return\\_potential\\_inflation} &       0.6593  &        2.051     &     0.321  &         0.752        &       -3.650    &        4.969     \\\\\n",
       "\\textbf{excess\\_return\\_industrial\\_prod}     &      -0.4826  &        2.138     &    -0.226  &         0.824        &       -4.975    &        4.010     \\\\\n",
       "\\textbf{const}                                &       0.0070  &        0.015     &     0.472  &         0.643        &       -0.024    &        0.038     \\\\\n",
       "\\bottomrule\n",
       "\\end{tabular}\n",
       "\\begin{tabular}{lclc}\n",
       "\\textbf{Omnibus:}       &  0.893 & \\textbf{  Durbin-Watson:     } &    1.502  \\\\\n",
       "\\textbf{Prob(Omnibus):} &  0.640 & \\textbf{  Jarque-Bera (JB):  } &    0.615  \\\\\n",
       "\\textbf{Skew:}          &  0.394 & \\textbf{  Prob(JB):          } &    0.735  \\\\\n",
       "\\textbf{Kurtosis:}      &  2.774 & \\textbf{  Cond. No.          } &     262.  \\\\\n",
       "\\bottomrule\n",
       "\\end{tabular}\n",
       "%\\caption{OLS Regression Results}\n",
       "\\end{center}\n",
       "\n",
       "Notes: \\newline\n",
       " [1] Standard Errors assume that the covariance matrix of the errors is correctly specified."
      ],
      "text/plain": [
       "<class 'statsmodels.iolib.summary.Summary'>\n",
       "\"\"\"\n",
       "                            OLS Regression Results                            \n",
       "==============================================================================\n",
       "Dep. Variable:     excess_return_MSFT   R-squared:                       0.618\n",
       "Model:                            OLS   Adj. R-squared:                  0.554\n",
       "Method:                 Least Squares   F-statistic:                     9.697\n",
       "Date:                Mon, 31 Mar 2025   Prob (F-statistic):           0.000497\n",
       "Time:                        23:52:12   Log-Likelihood:                 35.733\n",
       "No. Observations:                  22   AIC:                            -63.47\n",
       "Df Residuals:                      18   BIC:                            -59.10\n",
       "Df Model:                           3                                         \n",
       "Covariance Type:            nonrobust                                         \n",
       "=====================================================================================================\n",
       "                                        coef    std err          t      P>|t|      [0.025      0.975]\n",
       "-----------------------------------------------------------------------------------------------------\n",
       "excess_return_SPY                     0.9171      0.347      2.643      0.017       0.188       1.646\n",
       "excess_return_potential_inflation     0.6593      2.051      0.321      0.752      -3.650       4.969\n",
       "excess_return_industrial_prod        -0.4826      2.138     -0.226      0.824      -4.975       4.010\n",
       "const                                 0.0070      0.015      0.472      0.643      -0.024       0.038\n",
       "==============================================================================\n",
       "Omnibus:                        0.893   Durbin-Watson:                   1.502\n",
       "Prob(Omnibus):                  0.640   Jarque-Bera (JB):                0.615\n",
       "Skew:                           0.394   Prob(JB):                        0.735\n",
       "Kurtosis:                       2.774   Cond. No.                         262.\n",
       "==============================================================================\n",
       "\n",
       "Notes:\n",
       "[1] Standard Errors assume that the covariance matrix of the errors is correctly specified.\n",
       "\"\"\""
      ]
     },
     "execution_count": 16,
     "metadata": {},
     "output_type": "execute_result"
    }
   ],
   "source": [
    "APT_results_MSFT.summary()"
   ]
  },
  {
   "cell_type": "code",
   "execution_count": 17,
   "id": "6c8452f3-9601-4672-b371-df2c873f18c7",
   "metadata": {
    "editable": true,
    "slideshow": {
     "slide_type": "slide"
    },
    "tags": []
   },
   "outputs": [
    {
     "name": "stdout",
     "output_type": "stream",
     "text": [
      "For Microsoft - MSFT\n",
      "                         Beta   p-value\n",
      "S&P500 ETF           0.917059  0.016518\n",
      "Inflation            0.659255  0.751601\n",
      "Industrial Activity -0.482561  0.824001\n",
      "Constant             0.007019  0.642802\n"
     ]
    }
   ],
   "source": [
    "MSFT_out = pd.DataFrame(\n",
    "    zip(APT_results_MSFT.params, APT_results_MSFT.pvalues),\n",
    "    columns=['Beta', 'p-value'],\n",
    "    index=['S&P500 ETF'\n",
    "           , 'Inflation'\n",
    "           , 'Industrial Activity'\n",
    "           , 'Constant']\n",
    ")\n",
    "print(\"For Microsoft - MSFT\")\n",
    "print(MSFT_out)"
   ]
  },
  {
   "cell_type": "code",
   "execution_count": 18,
   "id": "7c6eebfe-7a95-4d27-823f-3193ce36bd4d",
   "metadata": {
    "editable": true,
    "slideshow": {
     "slide_type": "slide"
    },
    "tags": []
   },
   "outputs": [],
   "source": [
    "### Model for supplier/competitor NVDA\n",
    "y_nvda = scen1_inputs['excess_return_NVDA']\n",
    "X = scen1_inputs[all_x]\n",
    "X = sm.add_constant(X, prepend=False)\n",
    "APT_NVDA = sm.OLS(y_nvda, X)\n",
    "APT_results_NVDA = APT_NVDA.fit()"
   ]
  },
  {
   "cell_type": "code",
   "execution_count": 19,
   "id": "c216eac5-08a2-4711-a97c-ff92acb73461",
   "metadata": {
    "editable": true,
    "slideshow": {
     "slide_type": "slide"
    },
    "tags": []
   },
   "outputs": [
    {
     "name": "stdout",
     "output_type": "stream",
     "text": [
      "For NVDA\n",
      "                         Beta   p-value\n",
      "S&P500 ETF           1.680226  0.038291\n",
      "Inflation            0.264861  0.953128\n",
      "Industrial Activity -1.809522  0.700678\n",
      "Constant             0.069316  0.045370\n"
     ]
    }
   ],
   "source": [
    "NVDA_out = pd.DataFrame(\n",
    "    zip(APT_results_NVDA.params, APT_results_NVDA.pvalues),\n",
    "    columns=['Beta', 'p-value'],\n",
    "    index=['S&P500 ETF'\n",
    "           , 'Inflation'\n",
    "           , 'Industrial Activity'\n",
    "           , 'Constant']\n",
    ")\n",
    "print(\"For NVDA\")\n",
    "print(NVDA_out)"
   ]
  },
  {
   "cell_type": "code",
   "execution_count": 20,
   "id": "92bb8ac5-b734-4389-b5fc-e647bf479fe6",
   "metadata": {
    "editable": true,
    "slideshow": {
     "slide_type": "slide"
    },
    "tags": []
   },
   "outputs": [
    {
     "data": {
      "text/html": [
       "<div>\n",
       "<style scoped>\n",
       "    .dataframe tbody tr th:only-of-type {\n",
       "        vertical-align: middle;\n",
       "    }\n",
       "\n",
       "    .dataframe tbody tr th {\n",
       "        vertical-align: top;\n",
       "    }\n",
       "\n",
       "    .dataframe thead tr th {\n",
       "        text-align: left;\n",
       "    }\n",
       "</style>\n",
       "<table border=\"1\" class=\"dataframe\">\n",
       "  <thead>\n",
       "    <tr>\n",
       "      <th></th>\n",
       "      <th colspan=\"2\" halign=\"left\">NVDA</th>\n",
       "      <th colspan=\"2\" halign=\"left\">MSFT</th>\n",
       "    </tr>\n",
       "    <tr>\n",
       "      <th></th>\n",
       "      <th>Beta</th>\n",
       "      <th>p-value</th>\n",
       "      <th>Beta</th>\n",
       "      <th>p-value</th>\n",
       "    </tr>\n",
       "  </thead>\n",
       "  <tbody>\n",
       "    <tr>\n",
       "      <th>S&amp;P500 ETF</th>\n",
       "      <td>1.680226</td>\n",
       "      <td>0.038291</td>\n",
       "      <td>0.917059</td>\n",
       "      <td>0.016518</td>\n",
       "    </tr>\n",
       "    <tr>\n",
       "      <th>Inflation</th>\n",
       "      <td>0.264861</td>\n",
       "      <td>0.953128</td>\n",
       "      <td>0.659255</td>\n",
       "      <td>0.751601</td>\n",
       "    </tr>\n",
       "    <tr>\n",
       "      <th>Industrial Activity</th>\n",
       "      <td>-1.809522</td>\n",
       "      <td>0.700678</td>\n",
       "      <td>-0.482561</td>\n",
       "      <td>0.824001</td>\n",
       "    </tr>\n",
       "    <tr>\n",
       "      <th>Constant</th>\n",
       "      <td>0.069316</td>\n",
       "      <td>0.045370</td>\n",
       "      <td>0.007019</td>\n",
       "      <td>0.642802</td>\n",
       "    </tr>\n",
       "  </tbody>\n",
       "</table>\n",
       "</div>"
      ],
      "text/plain": [
       "                         NVDA                MSFT          \n",
       "                         Beta   p-value      Beta   p-value\n",
       "S&P500 ETF           1.680226  0.038291  0.917059  0.016518\n",
       "Inflation            0.264861  0.953128  0.659255  0.751601\n",
       "Industrial Activity -1.809522  0.700678 -0.482561  0.824001\n",
       "Constant             0.069316  0.045370  0.007019  0.642802"
      ]
     },
     "metadata": {},
     "output_type": "display_data"
    }
   ],
   "source": [
    "### Side by side\n",
    "display(pd.concat([NVDA_out, MSFT_out], axis=1, keys=[\"NVDA\", \"MSFT\"]))"
   ]
  },
  {
   "cell_type": "code",
   "execution_count": 21,
   "id": "640bf2b3-98b7-4b30-8868-930fedea670b",
   "metadata": {
    "editable": true,
    "slideshow": {
     "slide_type": "slide"
    },
    "tags": []
   },
   "outputs": [],
   "source": [
    "# Set the stock value relative to first month\n",
    "scen1_show = scen1_stocks.copy()\n",
    "scen1_show = scen1_show / scen1_show.iloc[0]"
   ]
  },
  {
   "cell_type": "code",
   "execution_count": null,
   "id": "eb57aa06-9c06-45a9-bcfa-eb6e46021f76",
   "metadata": {
    "editable": true,
    "slideshow": {
     "slide_type": "slide"
    },
    "tags": []
   },
   "outputs": [],
   "source": [
    "fig, axes = plt.subplots(1, 2, figsize=(14, 6))  # 1 row, 2 columns\n",
    "\n",
    "# First plot: Month-end close relative to Jan 2023\n",
    "sns.lineplot(data=scen1_show[['MSFT', 'NVDA', 'SPY']], ax=axes[0])\n",
    "axes[0].set_title('Month-end close relative to Jan 2023')  \n",
    "axes[0].set_ylabel('Multiples of Jan 2023 Price')\n",
    "axes[0].tick_params(axis='x', rotation=45, labelsize=10)  \n",
    "\n",
    "# Second plot: Excess Returns, percent rate\n",
    "sns.lineplot(data=scen1_inputs[['MSFT', 'NVDA','SPY']], ax=axes[1])\n",
    "axes[1].set_title('Month-over-month returns') \n",
    "axes[1].set_ylabel('Excess Returns')\n",
    "axes[1].tick_params(axis='x', rotation=45, labelsize=10) \n",
    "\n",
    "plt.tight_layout()  # Adjust layout to prevent overlap\n",
    "plt.show()"
   ]
  },
  {
   "cell_type": "code",
   "execution_count": 103,
   "id": "b94c3793-7066-47da-93f5-3ab17b10b28e",
   "metadata": {
    "editable": true,
    "slideshow": {
     "slide_type": "slide"
    },
    "tags": []
   },
   "outputs": [
    {
     "data": {
      "image/png": "[encoded data removed]",
      "text/plain": [
       "<Figure size 1400x600 with 2 Axes>"
      ]
     },
     "metadata": {},
     "output_type": "display_data"
    }
   ],
   "source": [
    "### Visualization confirms MSFT is blue-chip, NVDA is rapid growth"
   ]
  }
 ],
 "metadata": {
  "kernelspec": {
   "display_name": "Python 3 (ipykernel)",
   "language": "python",
   "name": "python3"
  },
  "language_info": {
   "codemirror_mode": {
    "name": "ipython",
    "version": 3
   },
   "file_extension": ".py",
   "mimetype": "text/x-python",
   "name": "python",
   "nbconvert_exporter": "python",
   "pygments_lexer": "ipython3",
   "version": "3.12.4"
  }
 },
 "nbformat": 4,
 "nbformat_minor": 5
}
