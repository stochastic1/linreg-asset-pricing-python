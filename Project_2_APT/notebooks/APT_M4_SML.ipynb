{
 "cells": [
  {
   "cell_type": "markdown",
   "id": "04a313fb-d84d-4853-a08b-364f8b348cb2",
   "metadata": {
    "editable": true,
    "slideshow": {
     "slide_type": "slide"
    },
    "tags": []
   },
   "source": [
    "# Linear Regression for Asset Pricing\n",
    "## Project 2: APT (Arbitrage Price Theory)\n",
    "### Milestone 4: Comparing APT and CAPM"
   ]
  },
  {
   "cell_type": "code",
   "execution_count": 3,
   "id": "9729a6df-0832-4108-87d1-db908e647ac7",
   "metadata": {
    "editable": true,
    "scrolled": true,
    "slideshow": {
     "slide_type": "slide"
    },
    "tags": []
   },
   "outputs": [],
   "source": [
    "import pandas as pd          ## Data engine\n",
    "import numpy as np\n",
    "\n",
    "import statsmodels.api as sm ## Model\n",
    "\n",
    "import seaborn as sns        ## Visualization\n",
    "from matplotlib import pyplot as plt"
   ]
  },
  {
   "cell_type": "markdown",
   "id": "3b54f7be-a9d1-46ea-95d1-01e5698d456c",
   "metadata": {
    "editable": true,
    "slideshow": {
     "slide_type": "slide"
    },
    "tags": []
   },
   "source": [
    "### Define functions to help us"
   ]
  },
  {
   "cell_type": "code",
   "execution_count": 2,
   "id": "bc85a92c-1fac-478f-ab36-1cf1ae9a922c",
   "metadata": {
    "editable": true,
    "slideshow": {
     "slide_type": "fragment"
    },
    "tags": []
   },
   "outputs": [],
   "source": [
    "### Reminder - CAPM is two lines of code\n",
    "# CAPM_AAPL = sm.OLS(y_aapl, X_tech)\n",
    "# CAPM_results_AAPL = CAPM_AAPL.fit()"
   ]
  },
  {
   "cell_type": "code",
   "execution_count": 3,
   "id": "aacef0b1-e9ad-46f7-8779-87c4358fc90e",
   "metadata": {
    "editable": true,
    "slideshow": {
     "slide_type": "slide"
    },
    "tags": []
   },
   "outputs": [],
   "source": [
    "def apt_output(df, asset, factors, market):\n",
    "    '''\n",
    "    asset = stock, etc\n",
    "    factors = predictors used in regression\n",
    "    returns loadings (factor Betas), mean return and the market beta\n",
    "    '''\n",
    "    X = sm.add_constant(df[factors])  # Add intercept\n",
    "    y = df[asset]\n",
    "    model = sm.OLS(y, X)\n",
    "    model_out = model.fit()\n",
    "    \n",
    "    # Extract factor loadings only (no constant)\n",
    "    loadings = [model_out.params.loc[factor] for factor in factors]\n",
    "    beta_market = model_out.params.loc[factors[0]]\n",
    "\n",
    "    # Actual mean excess return\n",
    "    mean_return = y.mean()\n",
    "    \n",
    "    # Market beta \n",
    "    beta_market = model_out.params.loc[market]\n",
    "\n",
    "    # alpha\n",
    "    alpha_term = model_out.params.loc['const']\n",
    "    \n",
    "    return loadings, mean_return, beta_market, alpha_term"
   ]
  },
  {
   "cell_type": "markdown",
   "id": "a6cd9a26-b2ff-4fea-aead-98f4310d1109",
   "metadata": {
    "editable": true,
    "slideshow": {
     "slide_type": "skip"
    },
    "tags": []
   },
   "source": [
    "### SML"
   ]
  },
  {
   "cell_type": "code",
   "execution_count": 4,
   "id": "934a0836-b964-442c-8d5b-724f6584535a",
   "metadata": {
    "editable": true,
    "slideshow": {
     "slide_type": "skip"
    },
    "tags": []
   },
   "outputs": [],
   "source": [
    "def SML(rf, rm, betas, beta_names, use_actual=False, actual_ret=[0,0,0,0]):\n",
    "    '''\n",
    "    params:\n",
    "        rf: risk-free rate, mean value\n",
    "        ret: market return rate, mean\n",
    "        betas: output of the CAPM fit, beta coefficient, as python list\n",
    "        beta_names: for labels only, a list same length as betas\n",
    "        use_actual: False if use CAPM to plot stock points, True if pass actual returns\n",
    "        actual_ret: a list of returns, same length as betas and beta_names\n",
    "    '''\n",
    "    asset_ret = [rf + (rm - rf) * i for i in betas]\n",
    "    plt.plot(betas, asset_ret, label='SML')\n",
    "    plt.xlabel(\"Asset Beta\")\n",
    "    plt.ylabel(\"Asset Return\")\n",
    "    plt.title(\"Security Market Line\")\n",
    "    \n",
    "    # Determine if the asset is underpriced or overpriced\n",
    "    if use_actual:\n",
    "        asset_ret = actual_ret\n",
    "    \n",
    "    for beta, return_value, beta_name in zip(betas, asset_ret, beta_names):\n",
    "        \n",
    "        # Plot each point\n",
    "        if return_value > rm:\n",
    "            plt.plot(beta, return_value, 'go')\n",
    "            plt.text(beta, return_value, '%s - Underpriced' %beta_name, fontsize=9, color='green')\n",
    "        elif return_value < rm:\n",
    "            plt.plot(beta, return_value, 'ro')\n",
    "            plt.text(beta, return_value, '%s - Overpriced' %beta_name, fontsize=9, color='red')\n",
    "\n",
    "    # plt.plot(1, ret, \"ro\", label='Asset Return')\n",
    "    plt.legend()\n",
    "    plt.grid()\n",
    "    plt.show()"
   ]
  },
  {
   "cell_type": "markdown",
   "id": "d8e5951b-3718-4712-be47-2fab2ace23da",
   "metadata": {
    "editable": true,
    "slideshow": {
     "slide_type": "slide"
    },
    "tags": []
   },
   "source": [
    "### SML - for CAPM"
   ]
  },
  {
   "cell_type": "code",
   "execution_count": null,
   "id": "c909db91-1456-4732-846a-5795e03afea4",
   "metadata": {
    "editable": true,
    "slideshow": {
     "slide_type": "fragment"
    },
    "tags": []
   },
   "outputs": [],
   "source": [
    "def SML(rf, rm, betas, beta_names, use_actual=False, actual_ret=[0,0,0,0]):\n",
    "    '''\n",
    "    params:\n",
    "        rf: risk-free rate, mean value\n",
    "        ret: market return rate, mean\n",
    "        betas: output of the CAPM fit, beta coefficient, as python list\n",
    "        beta_names: for labels only, a list same length as betas\n",
    "        use_actual: False if use CAPM to plot stock points, True if pass actual returns\n",
    "        actual_ret: a list of returns, same length as betas and beta_names\n",
    "    '''\n",
    "    asset_ret = [rf + (rm - rf) * i for i in betas]\n",
    "    plt.plot(betas, asset_ret, label='SML')\n",
    "    plt.xlabel(\"Asset Beta\")\n",
    "    plt.ylabel(\"Asset Return\")\n",
    "    plt.title(\"Security Market Line\")"
   ]
  },
  {
   "cell_type": "markdown",
   "id": "6e69dee9-ee55-4f78-aa37-9986d9d80158",
   "metadata": {
    "editable": true,
    "slideshow": {
     "slide_type": "slide"
    },
    "tags": []
   },
   "source": [
    "### SML - for CAPM"
   ]
  },
  {
   "cell_type": "code",
   "execution_count": null,
   "id": "a435ec63-3180-4668-add2-879d2237f05e",
   "metadata": {
    "editable": true,
    "slideshow": {
     "slide_type": "fragment"
    },
    "tags": []
   },
   "outputs": [],
   "source": [
    "    # Determine if the asset is underpriced or overpriced\n",
    "    if use_actual:\n",
    "        asset_ret = actual_ret\n",
    "    \n",
    "    for beta, return_value, beta_name in zip(betas, asset_ret, beta_names):\n",
    "        \n",
    "        # Plot each point\n",
    "        if return_value > rm:\n",
    "            plt.plot(beta, return_value, 'go')\n",
    "            plt.text(beta, return_value, '%s - Underpriced' %beta_name\n",
    "                     , fontsize=9, color='green')\n",
    "        elif return_value < rm:\n",
    "            plt.plot(beta, return_value, 'ro')\n",
    "            plt.text(beta, return_value, '%s - Overpriced' %beta_name\n",
    "                     , fontsize=9, color='red')\n",
    "\n",
    "    plt.legend()\n",
    "    plt.grid()\n",
    "    plt.show()"
   ]
  },
  {
   "cell_type": "markdown",
   "id": "57e3cc44-098c-4af4-92ee-f53e4527526e",
   "metadata": {
    "editable": true,
    "slideshow": {
     "slide_type": "slide"
    },
    "tags": []
   },
   "source": [
    "# Data set #1 - Recent data"
   ]
  },
  {
   "cell_type": "markdown",
   "id": "8b4abfaa-0e03-4e18-8f88-2ca1a7f290ce",
   "metadata": {
    "editable": true,
    "slideshow": {
     "slide_type": "fragment"
    },
    "tags": []
   },
   "source": [
    "<b>Tickers</b>: semiconductor/AI + S&P500\\\n",
    "<b>Period</b>: 2 most recent years\\\n",
    "<b>Periodicity</b>: Monthly"
   ]
  },
  {
   "cell_type": "code",
   "execution_count": 4,
   "id": "84db7015-4c11-4efa-8046-371cdb454dda",
   "metadata": {
    "editable": true,
    "slideshow": {
     "slide_type": "subslide"
    },
    "tags": []
   },
   "outputs": [
    {
     "name": "stdout",
     "output_type": "stream",
     "text": [
      "<class 'pandas.core.frame.DataFrame'>\n",
      "Index: 22 entries, 2023-02-28 to 2024-11-30\n",
      "Data columns (total 8 columns):\n",
      " #   Column                             Non-Null Count  Dtype  \n",
      "---  ------                             --------------  -----  \n",
      " 0   excess_return_AMD                  22 non-null     float64\n",
      " 1   excess_return_INTC                 22 non-null     float64\n",
      " 2   excess_return_MSFT                 22 non-null     float64\n",
      " 3   excess_return_NVDA                 22 non-null     float64\n",
      " 4   excess_return_SPY                  22 non-null     float64\n",
      " 5   excess_return_potential_inflation  22 non-null     float64\n",
      " 6   excess_return_industrial_prod      22 non-null     float64\n",
      " 7   excess_return_risk_free            22 non-null     float64\n",
      "dtypes: float64(8)\n",
      "memory usage: 1.5+ KB\n"
     ]
    }
   ],
   "source": [
    "### Restore our prior data set\n",
    "scen1_inputs = pd.read_csv('p2m2_scen1_returns.csv')\\\n",
    "                .set_index('fiscal_end')\n",
    "\n",
    "### Keep only excess returns for model\n",
    "keepers1 = [c for c in scen1_inputs.columns if c.startswith('excess')]\n",
    "scen1_inputs = scen1_inputs[keepers1]\n",
    "scen1_inputs.info()"
   ]
  },
  {
   "cell_type": "code",
   "execution_count": 5,
   "id": "5e33d5ab-7f19-488d-8460-dafea65ab999",
   "metadata": {
    "editable": true,
    "slideshow": {
     "slide_type": "subslide"
    },
    "tags": []
   },
   "outputs": [
    {
     "data": {
      "text/html": [
       "<div>\n",
       "<style scoped>\n",
       "    .dataframe tbody tr th:only-of-type {\n",
       "        vertical-align: middle;\n",
       "    }\n",
       "\n",
       "    .dataframe tbody tr th {\n",
       "        vertical-align: top;\n",
       "    }\n",
       "\n",
       "    .dataframe thead th {\n",
       "        text-align: right;\n",
       "    }\n",
       "</style>\n",
       "<table border=\"1\" class=\"dataframe\">\n",
       "  <thead>\n",
       "    <tr style=\"text-align: right;\">\n",
       "      <th></th>\n",
       "      <th>excess_return_AMD</th>\n",
       "      <th>excess_return_INTC</th>\n",
       "      <th>excess_return_SPY</th>\n",
       "      <th>excess_return_potential_inflation</th>\n",
       "      <th>excess_return_risk_free</th>\n",
       "    </tr>\n",
       "    <tr>\n",
       "      <th>fiscal_end</th>\n",
       "      <th></th>\n",
       "      <th></th>\n",
       "      <th></th>\n",
       "      <th></th>\n",
       "      <th></th>\n",
       "    </tr>\n",
       "  </thead>\n",
       "  <tbody>\n",
       "    <tr>\n",
       "      <th>2023-02-28</th>\n",
       "      <td>-0.005531</td>\n",
       "      <td>-0.169007</td>\n",
       "      <td>-0.076315</td>\n",
       "      <td>-0.045093</td>\n",
       "      <td>0.0</td>\n",
       "    </tr>\n",
       "    <tr>\n",
       "      <th>2023-03-31</th>\n",
       "      <td>0.297974</td>\n",
       "      <td>0.361179</td>\n",
       "      <td>0.083845</td>\n",
       "      <td>0.053635</td>\n",
       "      <td>0.0</td>\n",
       "    </tr>\n",
       "    <tr>\n",
       "      <th>2023-04-30</th>\n",
       "      <td>-0.088154</td>\n",
       "      <td>-0.049281</td>\n",
       "      <td>0.015975</td>\n",
       "      <td>0.004296</td>\n",
       "      <td>0.0</td>\n",
       "    </tr>\n",
       "    <tr>\n",
       "      <th>2023-05-31</th>\n",
       "      <td>0.273558</td>\n",
       "      <td>-0.036911</td>\n",
       "      <td>-0.044529</td>\n",
       "      <td>-0.046735</td>\n",
       "      <td>0.0</td>\n",
       "    </tr>\n",
       "    <tr>\n",
       "      <th>2023-06-30</th>\n",
       "      <td>-0.103586</td>\n",
       "      <td>-0.003597</td>\n",
       "      <td>-0.006351</td>\n",
       "      <td>-0.063798</td>\n",
       "      <td>0.0</td>\n",
       "    </tr>\n",
       "  </tbody>\n",
       "</table>\n",
       "</div>"
      ],
      "text/plain": [
       "            excess_return_AMD  excess_return_INTC  excess_return_SPY  \\\n",
       "fiscal_end                                                             \n",
       "2023-02-28          -0.005531           -0.169007          -0.076315   \n",
       "2023-03-31           0.297974            0.361179           0.083845   \n",
       "2023-04-30          -0.088154           -0.049281           0.015975   \n",
       "2023-05-31           0.273558           -0.036911          -0.044529   \n",
       "2023-06-30          -0.103586           -0.003597          -0.006351   \n",
       "\n",
       "            excess_return_potential_inflation  excess_return_risk_free  \n",
       "fiscal_end                                                              \n",
       "2023-02-28                          -0.045093                      0.0  \n",
       "2023-03-31                           0.053635                      0.0  \n",
       "2023-04-30                           0.004296                      0.0  \n",
       "2023-05-31                          -0.046735                      0.0  \n",
       "2023-06-30                          -0.063798                      0.0  "
      ]
     },
     "execution_count": 5,
     "metadata": {},
     "output_type": "execute_result"
    }
   ],
   "source": [
    "scen1_inputs[['excess_return_AMD','excess_return_INTC','excess_return_SPY'\n",
    "              ,'excess_return_potential_inflation','excess_return_risk_free']].head()"
   ]
  },
  {
   "cell_type": "code",
   "execution_count": 7,
   "id": "1464c628-e42a-4c91-85be-6c8fc0d0caef",
   "metadata": {
    "editable": true,
    "slideshow": {
     "slide_type": "slide"
    },
    "tags": []
   },
   "outputs": [
    {
     "data": {
      "text/html": [
       "<div>\n",
       "<style scoped>\n",
       "    .dataframe tbody tr th:only-of-type {\n",
       "        vertical-align: middle;\n",
       "    }\n",
       "\n",
       "    .dataframe tbody tr th {\n",
       "        vertical-align: top;\n",
       "    }\n",
       "\n",
       "    .dataframe thead th {\n",
       "        text-align: right;\n",
       "    }\n",
       "</style>\n",
       "<table border=\"1\" class=\"dataframe\">\n",
       "  <thead>\n",
       "    <tr style=\"text-align: right;\">\n",
       "      <th></th>\n",
       "      <th>potential_inflation</th>\n",
       "      <th>industrial_prod</th>\n",
       "      <th>risk_free</th>\n",
       "    </tr>\n",
       "    <tr>\n",
       "      <th>month</th>\n",
       "      <th></th>\n",
       "      <th></th>\n",
       "      <th></th>\n",
       "    </tr>\n",
       "  </thead>\n",
       "  <tbody>\n",
       "    <tr>\n",
       "      <th>2023-01-31</th>\n",
       "      <td>325.520</td>\n",
       "      <td>102.7476</td>\n",
       "      <td>4.69</td>\n",
       "    </tr>\n",
       "    <tr>\n",
       "      <th>2023-02-28</th>\n",
       "      <td>327.499</td>\n",
       "      <td>102.8003</td>\n",
       "      <td>4.93</td>\n",
       "    </tr>\n",
       "  </tbody>\n",
       "</table>\n",
       "</div>"
      ],
      "text/plain": [
       "            potential_inflation  industrial_prod  risk_free\n",
       "month                                                      \n",
       "2023-01-31              325.520         102.7476       4.69\n",
       "2023-02-28              327.499         102.8003       4.93"
      ]
     },
     "execution_count": 7,
     "metadata": {},
     "output_type": "execute_result"
    }
   ],
   "source": [
    "### Need to restore risk-free rate\n",
    "scen1_fred = pd.read_csv('scen1_fred.csv').drop('Unnamed: 0', axis=1)\\\n",
    "            .set_index('month')\n",
    "scen1_fred.head(2)"
   ]
  },
  {
   "cell_type": "code",
   "execution_count": 8,
   "id": "816ae56d-2c38-42e4-8ffd-bd72d78759fb",
   "metadata": {
    "editable": true,
    "slideshow": {
     "slide_type": "fragment"
    },
    "tags": []
   },
   "outputs": [
    {
     "data": {
      "text/html": [
       "<div>\n",
       "<style scoped>\n",
       "    .dataframe tbody tr th:only-of-type {\n",
       "        vertical-align: middle;\n",
       "    }\n",
       "\n",
       "    .dataframe tbody tr th {\n",
       "        vertical-align: top;\n",
       "    }\n",
       "\n",
       "    .dataframe thead th {\n",
       "        text-align: right;\n",
       "    }\n",
       "</style>\n",
       "<table border=\"1\" class=\"dataframe\">\n",
       "  <thead>\n",
       "    <tr style=\"text-align: right;\">\n",
       "      <th></th>\n",
       "      <th>excess_return_AMD</th>\n",
       "      <th>excess_return_INTC</th>\n",
       "      <th>excess_return_MSFT</th>\n",
       "      <th>excess_return_NVDA</th>\n",
       "      <th>excess_return_SPY</th>\n",
       "      <th>excess_return_potential_inflation</th>\n",
       "      <th>excess_return_industrial_prod</th>\n",
       "      <th>risk_free</th>\n",
       "    </tr>\n",
       "  </thead>\n",
       "  <tbody>\n",
       "    <tr>\n",
       "      <th>0</th>\n",
       "      <td>-0.005531</td>\n",
       "      <td>-0.169007</td>\n",
       "      <td>-0.044676</td>\n",
       "      <td>0.137137</td>\n",
       "      <td>-0.076315</td>\n",
       "      <td>-0.045093</td>\n",
       "      <td>-0.050660</td>\n",
       "      <td>4.93</td>\n",
       "    </tr>\n",
       "    <tr>\n",
       "      <th>1</th>\n",
       "      <td>0.297974</td>\n",
       "      <td>0.361179</td>\n",
       "      <td>0.206592</td>\n",
       "      <td>0.247169</td>\n",
       "      <td>0.083845</td>\n",
       "      <td>0.053635</td>\n",
       "      <td>0.050846</td>\n",
       "      <td>4.68</td>\n",
       "    </tr>\n",
       "    <tr>\n",
       "      <th>2</th>\n",
       "      <td>-0.088154</td>\n",
       "      <td>-0.049281</td>\n",
       "      <td>0.065765</td>\n",
       "      <td>-0.001008</td>\n",
       "      <td>0.015975</td>\n",
       "      <td>0.004296</td>\n",
       "      <td>0.003986</td>\n",
       "      <td>4.68</td>\n",
       "    </tr>\n",
       "    <tr>\n",
       "      <th>3</th>\n",
       "      <td>0.273558</td>\n",
       "      <td>-0.036911</td>\n",
       "      <td>0.019624</td>\n",
       "      <td>0.314291</td>\n",
       "      <td>-0.044529</td>\n",
       "      <td>-0.046735</td>\n",
       "      <td>-0.051501</td>\n",
       "      <td>4.91</td>\n",
       "    </tr>\n",
       "    <tr>\n",
       "      <th>4</th>\n",
       "      <td>-0.103586</td>\n",
       "      <td>-0.003597</td>\n",
       "      <td>-0.030211</td>\n",
       "      <td>0.050885</td>\n",
       "      <td>-0.006351</td>\n",
       "      <td>-0.063798</td>\n",
       "      <td>-0.073036</td>\n",
       "      <td>5.24</td>\n",
       "    </tr>\n",
       "  </tbody>\n",
       "</table>\n",
       "</div>"
      ],
      "text/plain": [
       "   excess_return_AMD  excess_return_INTC  excess_return_MSFT  \\\n",
       "0          -0.005531           -0.169007           -0.044676   \n",
       "1           0.297974            0.361179            0.206592   \n",
       "2          -0.088154           -0.049281            0.065765   \n",
       "3           0.273558           -0.036911            0.019624   \n",
       "4          -0.103586           -0.003597           -0.030211   \n",
       "\n",
       "   excess_return_NVDA  excess_return_SPY  excess_return_potential_inflation  \\\n",
       "0            0.137137          -0.076315                          -0.045093   \n",
       "1            0.247169           0.083845                           0.053635   \n",
       "2           -0.001008           0.015975                           0.004296   \n",
       "3            0.314291          -0.044529                          -0.046735   \n",
       "4            0.050885          -0.006351                          -0.063798   \n",
       "\n",
       "   excess_return_industrial_prod  risk_free  \n",
       "0                      -0.050660       4.93  \n",
       "1                       0.050846       4.68  \n",
       "2                       0.003986       4.68  \n",
       "3                      -0.051501       4.91  \n",
       "4                      -0.073036       5.24  "
      ]
     },
     "execution_count": 8,
     "metadata": {},
     "output_type": "execute_result"
    }
   ],
   "source": [
    "### Join\n",
    "scen1_presml = scen1_inputs.drop('excess_return_risk_free',axis=1)\\\n",
    "                           .merge(scen1_fred['risk_free']\n",
    "                                  ,left_on='fiscal_end'\n",
    "                                  ,right_on='month'\n",
    "                                  ,how='inner')\n",
    "scen1_presml.head()"
   ]
  },
  {
   "cell_type": "markdown",
   "id": "c572563a-173c-4d08-bfae-110ba8e7d1a0",
   "metadata": {
    "editable": true,
    "slideshow": {
     "slide_type": "slide"
    },
    "tags": []
   },
   "source": [
    "### Data Set #1 - CAPM"
   ]
  },
  {
   "cell_type": "code",
   "execution_count": 10,
   "id": "a8f6d8c9-4608-479d-b3e4-053b586db31b",
   "metadata": {
    "editable": true,
    "slideshow": {
     "slide_type": "fragment"
    },
    "tags": []
   },
   "outputs": [
    {
     "name": "stdout",
     "output_type": "stream",
     "text": [
      "Market Beta for AMD: 1.510\n",
      "Market Beta for INTC: 1.453\n",
      "Market Beta for MSFT: 1.010\n",
      "Market Beta for NVDA: 0.736\n"
     ]
    }
   ],
   "source": [
    "### Generate CAPM\n",
    "X_tech = sm.add_constant(scen1_presml['excess_return_SPY'], prepend=False)\n",
    "tech_names = ['AMD','INTC','MSFT','NVDA']\n",
    "tech_betas = []\n",
    "tech_alphas = []\n",
    "for i in tech_names:\n",
    "    CAPM_ = sm.OLS(scen1_presml['excess_return_%s' %i], X_tech)\n",
    "    CAPM_results_ = CAPM_.fit()\n",
    "    tech_betas.append(CAPM_results_.params.loc['excess_return_SPY'])\n",
    "    tech_alphas.append(CAPM_results_.params.loc['const'])\n",
    "    print(\"Market Beta for %s: %.3f\" %(i, CAPM_results_.params.loc['excess_return_SPY']))"
   ]
  },
  {
   "cell_type": "markdown",
   "id": "8dd8f20e-f80e-4b33-b35c-58b013cbd0a5",
   "metadata": {
    "editable": true,
    "slideshow": {
     "slide_type": "slide"
    },
    "tags": []
   },
   "source": [
    "### Data set #1 - APT"
   ]
  },
  {
   "cell_type": "code",
   "execution_count": 12,
   "id": "2794c9c4-eb3c-4740-b6e4-410ba6e1bcd3",
   "metadata": {
    "editable": true,
    "slideshow": {
     "slide_type": "subslide"
    },
    "tags": []
   },
   "outputs": [],
   "source": [
    "### X vars for APT\n",
    "X_apt_scen1 = ['excess_return_SPY'\n",
    "         , 'excess_return_potential_inflation'\n",
    "         , 'excess_return_industrial_prod']"
   ]
  },
  {
   "cell_type": "code",
   "execution_count": 13,
   "id": "976b8c83-d58b-4d46-ae0f-4fbbbfb6983d",
   "metadata": {
    "editable": true,
    "slideshow": {
     "slide_type": "subslide"
    },
    "tags": []
   },
   "outputs": [],
   "source": [
    "### Run APT models\n",
    "tech_market = 'excess_return_SPY'\n",
    "APT_results_AMD = \n",
    "    apt_output(scen1_presml, 'excess_return_AMD', X_apt_scen1, tech_market)\n",
    "APT_results_MSFT = \n",
    "    apt_output(scen1_presml, 'excess_return_MSFT', X_apt_scen1, tech_market)\n",
    "APT_results_INTC = \n",
    "    apt_output(scen1_presml, 'excess_return_INTC', X_apt_scen1, tech_market)\n",
    "APT_results_NVDA = \n",
    "    apt_output(scen1_presml, 'excess_return_NVDA', X_apt_scen1, tech_market)"
   ]
  },
  {
   "cell_type": "code",
   "execution_count": 14,
   "id": "b90ec248-8c58-415b-a0b4-fdbb55be6ba0",
   "metadata": {
    "editable": true,
    "slideshow": {
     "slide_type": "fragment"
    },
    "tags": []
   },
   "outputs": [
    {
     "name": "stdout",
     "output_type": "stream",
     "text": [
      "Conditional Market Beta for AMD: 1.322\n",
      "Conditional Market Beta for INTC: 2.244\n",
      "Conditional Market Beta for MSFT: 0.917\n",
      "Conditional Market Beta for NVDA: 1.680\n"
     ]
    }
   ],
   "source": [
    "tech_names = ['AMD','INTC','MSFT','NVDA']\n",
    "res_dict = {'AMD':APT_results_AMD, 'MSFT':APT_results_MSFT,\n",
    "            'INTC':APT_results_INTC,'NVDA':APT_results_NVDA}\n",
    "tech_cdtl_betas = []\n",
    "tech_cdtl_alphas = []\n",
    "for tn in tech_names:\n",
    "    tech_cdtl_betas.append(res_dict[tn][2])\n",
    "    tech_cdtl_alphas.append(res_dict[tn][3])\n",
    "    print(\"Conditional Market Beta for %s: %.3f\" %(tn, res_dict[tn][2]))\n",
    "# APT_results_AMD[2]"
   ]
  },
  {
   "cell_type": "code",
   "execution_count": 24,
   "id": "b914788e-3200-4629-8d7a-065ccd226a6a",
   "metadata": {
    "editable": true,
    "slideshow": {
     "slide_type": "slide"
    },
    "tags": []
   },
   "outputs": [
    {
     "data": {
      "text/html": [
       "<div>\n",
       "<style scoped>\n",
       "    .dataframe tbody tr th:only-of-type {\n",
       "        vertical-align: middle;\n",
       "    }\n",
       "\n",
       "    .dataframe tbody tr th {\n",
       "        vertical-align: top;\n",
       "    }\n",
       "\n",
       "    .dataframe thead th {\n",
       "        text-align: right;\n",
       "    }\n",
       "</style>\n",
       "<table border=\"1\" class=\"dataframe\">\n",
       "  <thead>\n",
       "    <tr style=\"text-align: right;\">\n",
       "      <th></th>\n",
       "      <th>CAPM Beta</th>\n",
       "      <th>APT Condl Beta</th>\n",
       "      <th>CAPM Alpha</th>\n",
       "      <th>APT Alpha</th>\n",
       "    </tr>\n",
       "  </thead>\n",
       "  <tbody>\n",
       "    <tr>\n",
       "      <th>AMD</th>\n",
       "      <td>1.509835</td>\n",
       "      <td>1.322440</td>\n",
       "      <td>0.005810</td>\n",
       "      <td>0.008287</td>\n",
       "    </tr>\n",
       "    <tr>\n",
       "      <th>INTC</th>\n",
       "      <td>1.453234</td>\n",
       "      <td>2.244379</td>\n",
       "      <td>-0.025738</td>\n",
       "      <td>-0.039239</td>\n",
       "    </tr>\n",
       "    <tr>\n",
       "      <th>MSFT</th>\n",
       "      <td>1.010363</td>\n",
       "      <td>0.917059</td>\n",
       "      <td>0.007390</td>\n",
       "      <td>0.007019</td>\n",
       "    </tr>\n",
       "    <tr>\n",
       "      <th>NVDA</th>\n",
       "      <td>0.735891</td>\n",
       "      <td>1.680226</td>\n",
       "      <td>0.086629</td>\n",
       "      <td>0.069316</td>\n",
       "    </tr>\n",
       "  </tbody>\n",
       "</table>\n",
       "</div>"
      ],
      "text/plain": [
       "      CAPM Beta  APT Condl Beta  CAPM Alpha  APT Alpha\n",
       "AMD    1.509835        1.322440    0.005810   0.008287\n",
       "INTC   1.453234        2.244379   -0.025738  -0.039239\n",
       "MSFT   1.010363        0.917059    0.007390   0.007019\n",
       "NVDA   0.735891        1.680226    0.086629   0.069316"
      ]
     },
     "execution_count": 24,
     "metadata": {},
     "output_type": "execute_result"
    }
   ],
   "source": [
    "### Compare alphas and betas\n",
    "_tb = zip(tech_betas, tech_cdtl_betas, tech_alphas, tech_cdtl_alphas)\n",
    "apt_labels=['CAPM Beta','APT Condl Beta','CAPM Alpha','APT Alpha']\n",
    "_tb_df = pd.DataFrame(_tb, columns = apt_labels, index=tech_names)\n",
    "_tb_df.head()"
   ]
  },
  {
   "cell_type": "markdown",
   "id": "a20bbbaa-52fd-480e-b228-fbc796e13dab",
   "metadata": {
    "editable": true,
    "slideshow": {
     "slide_type": "slide"
    },
    "tags": []
   },
   "source": [
    "### Security Market lines"
   ]
  },
  {
   "cell_type": "code",
   "execution_count": 18,
   "id": "18a144d1-971c-49fd-acd0-b2739ce4b6ed",
   "metadata": {
    "editable": true,
    "slideshow": {
     "slide_type": "fragment"
    },
    "tags": []
   },
   "outputs": [
    {
     "data": {
      "image/png": "[encoded data removed]",
      "text/plain": [
       "<Figure size 640x480 with 1 Axes>"
      ]
     },
     "metadata": {},
     "output_type": "display_data"
    }
   ],
   "source": [
    "## Generate SML for CAPM\n",
    "rm_tech = X_tech.mean().iloc[0] \n",
    "rf_mean_tech = scen1_presml['risk_free'].mean()\n",
    "SML(rf=rf_mean_tech, rm=rm_tech\n",
    "    , betas=tech_betas, beta_names=tech_names)"
   ]
  },
  {
   "cell_type": "markdown",
   "id": "98f6b451-0645-4228-b37c-241e490472d5",
   "metadata": {
    "editable": true,
    "slideshow": {
     "slide_type": "slide"
    },
    "tags": []
   },
   "source": [
    "### Conditional Security Market Line"
   ]
  },
  {
   "cell_type": "code",
   "execution_count": 20,
   "id": "2c1e06bf-0bc3-4567-ab8d-e8d5e04b5f71",
   "metadata": {
    "editable": true,
    "slideshow": {
     "slide_type": "fragment"
    },
    "tags": []
   },
   "outputs": [
    {
     "data": {
      "image/png": "[encoded data removed]",
      "text/plain": [
       "<Figure size 640x480 with 1 Axes>"
      ]
     },
     "metadata": {},
     "output_type": "display_data"
    }
   ],
   "source": [
    "## Generate conditional SML for APT\n",
    "rm_tech = X_tech.mean().iloc[0] \n",
    "rf_mean_tech = scen1_presml['risk_free'].mean()\n",
    "SML(rf=rf_mean_tech, rm=rm_tech\n",
    "    , betas=tech_cdtl_betas, beta_names=tech_names)"
   ]
  }
 ],
 "metadata": {
  "kernelspec": {
   "display_name": "Python 3 (ipykernel)",
   "language": "python",
   "name": "python3"
  },
  "language_info": {
   "codemirror_mode": {
    "name": "ipython",
    "version": 3
   },
   "file_extension": ".py",
   "mimetype": "text/x-python",
   "name": "python",
   "nbconvert_exporter": "python",
   "pygments_lexer": "ipython3",
   "version": "3.12.4"
  }
 },
 "nbformat": 4,
 "nbformat_minor": 5
}
