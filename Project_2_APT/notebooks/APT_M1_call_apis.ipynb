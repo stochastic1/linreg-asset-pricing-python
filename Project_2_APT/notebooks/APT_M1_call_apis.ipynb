{
 "cells": [
  {
   "cell_type": "code",
   "execution_count": 2,
   "id": "9729a6df-0832-4108-87d1-db908e647ac7",
   "metadata": {
    "editable": true,
    "scrolled": true,
    "slideshow": {
     "slide_type": "slide"
    },
    "tags": []
   },
   "outputs": [],
   "source": [
    "from fredapi import Fred\n",
    "import yfinance as yf\n",
    "\n",
    "import pandas as pd\n",
    "import numpy as np\n",
    "\n",
    "import requests\n",
    "from io import StringIO\n",
    "from string import Template\n",
    "\n",
    "from datetime import datetime, timezone\n",
    "import pytz\n",
    "from pandas.tseries.offsets import MonthEnd\n",
    "import pandas_market_calendars as mcal"
   ]
  },
  {
   "cell_type": "markdown",
   "id": "e1641ce3-54e2-4ba2-adde-f563ad838b5f",
   "metadata": {
    "editable": true,
    "slideshow": {
     "slide_type": "slide"
    },
    "tags": []
   },
   "source": [
    "## Remember your API keys!"
   ]
  },
  {
   "cell_type": "code",
   "execution_count": null,
   "id": "1e3f7933-9bd7-4abf-aa53-714c948fff50",
   "metadata": {
    "editable": true,
    "slideshow": {
     "slide_type": "fragment"
    },
    "tags": []
   },
   "outputs": [],
   "source": [
    "polygonapi = \"PPALKDJ62Y8781AA\"\n",
    "fredapi = \"AOIDLAKEJF873LAJ\""
   ]
  },
  {
   "cell_type": "markdown",
   "id": "57e3cc44-098c-4af4-92ee-f53e4527526e",
   "metadata": {
    "editable": true,
    "slideshow": {
     "slide_type": "slide"
    },
    "tags": []
   },
   "source": [
    "# Data set #1 - Recent data"
   ]
  },
  {
   "cell_type": "markdown",
   "id": "8b4abfaa-0e03-4e18-8f88-2ca1a7f290ce",
   "metadata": {
    "editable": true,
    "slideshow": {
     "slide_type": "fragment"
    },
    "tags": []
   },
   "source": [
    "<b>Tickers</b>: semiconductor/AI + S&P500\\\n",
    "<b>Period</b>: 2 most recent years\\\n",
    "<b>Periodicity</b>: Monthly"
   ]
  },
  {
   "cell_type": "markdown",
   "id": "4967e02c-96d6-4d5b-81e4-2536997cdbef",
   "metadata": {
    "editable": true,
    "slideshow": {
     "slide_type": "slide"
    },
    "tags": []
   },
   "source": [
    "### Polygon.io"
   ]
  },
  {
   "cell_type": "code",
   "execution_count": 3,
   "id": "d0b6e241-b413-4cdf-99e2-d9b93cd04c94",
   "metadata": {
    "editable": true,
    "slideshow": {
     "slide_type": "fragment"
    },
    "tags": []
   },
   "outputs": [],
   "source": [
    "polygon_template =  Template(\"\"\"https://api.polygon.io/v2/aggs\n",
    "                /ticker/$tckr\n",
    "                /range/$mult/$tmper\n",
    "                /$start\n",
    "                /$end\n",
    "                ?adjusted=true\n",
    "                &sort=asc\n",
    "                &apiKey=$polygonapi\"\"\")\n"
   ]
  },
  {
   "cell_type": "code",
   "execution_count": 11,
   "id": "f7cf7266-9091-4337-ba93-5499017a5270",
   "metadata": {
    "editable": true,
    "slideshow": {
     "slide_type": "fragment"
    },
    "tags": []
   },
   "outputs": [],
   "source": [
    "polygon_template =  Template(\"\"\"https://api.polygon.io/v2/aggs/ticker/$tckr/range/$mult/$tmper/$start/$end?adjusted=true&sort=asc&apiKey=$polygonapi\"\"\")"
   ]
  },
  {
   "cell_type": "markdown",
   "id": "1d383890-1c84-47cc-a7d3-303ce8261bb5",
   "metadata": {
    "editable": true,
    "slideshow": {
     "slide_type": "slide"
    },
    "tags": []
   },
   "source": [
    "#### Polygon.io Call"
   ]
  },
  {
   "cell_type": "code",
   "execution_count": 168,
   "id": "3ecc2cf1-f73d-403c-a1da-885d799698d5",
   "metadata": {
    "editable": true,
    "slideshow": {
     "slide_type": "fragment"
    },
    "tags": []
   },
   "outputs": [],
   "source": [
    "single_day = polygon_template.substitute(\n",
    "    tckr='AAPL',\n",
    "    mult=1,\n",
    "    tmper='day',\n",
    "    start='2024-11-29',\n",
    "    end='2024-11-29',\n",
    "    polygonapi = polygonapi\n",
    ")"
   ]
  },
  {
   "cell_type": "code",
   "execution_count": 169,
   "id": "b1002b94-989e-42b6-a2ca-590bbfe8cb43",
   "metadata": {
    "editable": true,
    "slideshow": {
     "slide_type": "fragment"
    },
    "tags": []
   },
   "outputs": [
    {
     "name": "stdout",
     "output_type": "stream",
     "text": [
      "https://api.polygon.io/v2/aggs/ticker/AAPL/range/1/day/2024-11-29/2024-11-29?adjusted=true&sort=asc&apiKey=k0w9tcO6Aho4ApjKFQtCgD4hqPdhpSXN\n"
     ]
    }
   ],
   "source": [
    "print(single_day)"
   ]
  },
  {
   "cell_type": "markdown",
   "id": "82b764e5-3f9e-489a-a20f-12c88ae872d4",
   "metadata": {
    "editable": true,
    "slideshow": {
     "slide_type": "slide"
    },
    "tags": []
   },
   "source": [
    "#### Polygon.io Response"
   ]
  },
  {
   "cell_type": "code",
   "execution_count": 170,
   "id": "1bb62ecd-06c4-4123-9676-e12839725899",
   "metadata": {
    "editable": true,
    "slideshow": {
     "slide_type": "fragment"
    },
    "tags": []
   },
   "outputs": [],
   "source": [
    "single_day_polygon_response = requests.get(single_day)"
   ]
  },
  {
   "cell_type": "code",
   "execution_count": 171,
   "id": "b77a2085-de6f-4aab-a354-d7b3395915fb",
   "metadata": {
    "editable": true,
    "slideshow": {
     "slide_type": "fragment"
    },
    "tags": []
   },
   "outputs": [
    {
     "data": {
      "text/plain": [
       "<Response [200]>"
      ]
     },
     "execution_count": 171,
     "metadata": {},
     "output_type": "execute_result"
    }
   ],
   "source": [
    "single_day_polygon_response"
   ]
  },
  {
   "cell_type": "code",
   "execution_count": 172,
   "id": "af2662f6-7623-48da-ba9f-cb1c6ade0728",
   "metadata": {
    "editable": true,
    "slideshow": {
     "slide_type": "fragment"
    },
    "tags": []
   },
   "outputs": [
    {
     "data": {
      "text/plain": [
       "True"
      ]
     },
     "execution_count": 172,
     "metadata": {},
     "output_type": "execute_result"
    }
   ],
   "source": [
    "single_day_polygon_response.ok"
   ]
  },
  {
   "cell_type": "markdown",
   "id": "8c6bc117-0a52-4763-9408-a9a711050734",
   "metadata": {
    "editable": true,
    "slideshow": {
     "slide_type": "slide"
    },
    "tags": []
   },
   "source": [
    "#### Polygon.io Payload"
   ]
  },
  {
   "cell_type": "code",
   "execution_count": 173,
   "id": "eb8eb18e-837b-45c7-8ea6-19aa7ccf3ac7",
   "metadata": {
    "editable": true,
    "slideshow": {
     "slide_type": "fragment"
    },
    "tags": []
   },
   "outputs": [
    {
     "data": {
      "text/plain": [
       "{'ticker': 'AAPL',\n",
       " 'queryCount': 1,\n",
       " 'resultsCount': 1,\n",
       " 'adjusted': True,\n",
       " 'results': [{'v': 25317735.0,\n",
       "   'vw': 236.5349,\n",
       "   'o': 234.805,\n",
       "   'c': 237.33,\n",
       "   'h': 237.81,\n",
       "   'l': 233.97,\n",
       "   't': 1732856400000,\n",
       "   'n': 268866}],\n",
       " 'status': 'OK',\n",
       " 'request_id': '27167a7d0a8f447badaa40fbb0794d7e',\n",
       " 'count': 1}"
      ]
     },
     "execution_count": 173,
     "metadata": {},
     "output_type": "execute_result"
    }
   ],
   "source": [
    "single_day_data = single_day_polygon_response.json()\n",
    "single_day_data"
   ]
  },
  {
   "cell_type": "markdown",
   "id": "cc5a03f8-7651-4153-ab27-6368885654e7",
   "metadata": {
    "editable": true,
    "slideshow": {
     "slide_type": "slide"
    },
    "tags": []
   },
   "source": [
    "#### Payload Elements"
   ]
  },
  {
   "cell_type": "code",
   "execution_count": 174,
   "id": "acf444d1-be2d-4b49-aef1-0a7493dafe8c",
   "metadata": {
    "editable": true,
    "slideshow": {
     "slide_type": "fragment"
    },
    "tags": []
   },
   "outputs": [
    {
     "data": {
      "text/plain": [
       "'AAPL'"
      ]
     },
     "execution_count": 174,
     "metadata": {},
     "output_type": "execute_result"
    }
   ],
   "source": [
    "single_day_data[\"ticker\"]"
   ]
  },
  {
   "cell_type": "code",
   "execution_count": 175,
   "id": "68307f40-0fde-47b9-a48b-dee9712f38f3",
   "metadata": {
    "editable": true,
    "slideshow": {
     "slide_type": "fragment"
    },
    "tags": []
   },
   "outputs": [
    {
     "data": {
      "text/plain": [
       "[{'v': 25317735.0,\n",
       "  'vw': 236.5349,\n",
       "  'o': 234.805,\n",
       "  'c': 237.33,\n",
       "  'h': 237.81,\n",
       "  'l': 233.97,\n",
       "  't': 1732856400000,\n",
       "  'n': 268866}]"
      ]
     },
     "execution_count": 175,
     "metadata": {},
     "output_type": "execute_result"
    }
   ],
   "source": [
    "single_day_data[\"results\"]"
   ]
  },
  {
   "cell_type": "code",
   "execution_count": 176,
   "id": "119da8fc-1f89-4a91-9de6-4433e4a21a40",
   "metadata": {
    "editable": true,
    "slideshow": {
     "slide_type": "fragment"
    },
    "tags": []
   },
   "outputs": [
    {
     "name": "stdout",
     "output_type": "stream",
     "text": [
      "237.33\n"
     ]
    }
   ],
   "source": [
    "single_day_results = single_day_data[\"results\"]\n",
    "for item in single_day_results:\n",
    "    closing_price = item[\"c\"]\n",
    "    print(closing_price)"
   ]
  },
  {
   "cell_type": "markdown",
   "id": "7fecd9ec-2b14-491e-a28f-6207e2f494d2",
   "metadata": {
    "editable": true,
    "slideshow": {
     "slide_type": "slide"
    },
    "tags": []
   },
   "source": [
    "#### Polygon.io Timestamps"
   ]
  },
  {
   "cell_type": "code",
   "execution_count": 177,
   "id": "3556b71b-1bf4-46a0-a4a3-e5fbb0a4fc1a",
   "metadata": {
    "editable": true,
    "slideshow": {
     "slide_type": "fragment"
    },
    "tags": []
   },
   "outputs": [
    {
     "name": "stdout",
     "output_type": "stream",
     "text": [
      "1732856400.0\n"
     ]
    }
   ],
   "source": [
    "json_timestamp = single_day_results[0][\"t\"]/1000\n",
    "print(json_timestamp)"
   ]
  },
  {
   "cell_type": "code",
   "execution_count": 178,
   "id": "bd923b0b-8dbf-41dc-bb01-e7a33d69d360",
   "metadata": {
    "editable": true,
    "slideshow": {
     "slide_type": "fragment"
    },
    "tags": []
   },
   "outputs": [
    {
     "name": "stdout",
     "output_type": "stream",
     "text": [
      "2024-11-28 23:00:00\n"
     ]
    }
   ],
   "source": [
    "json_time = datetime.fromtimestamp(single_day_results[0][\"t\"]/1000)\n",
    "print(json_time)"
   ]
  },
  {
   "cell_type": "markdown",
   "id": "e6597f68-72b3-4e99-a012-ede63012dc83",
   "metadata": {
    "editable": true,
    "slideshow": {
     "slide_type": "subslide"
    },
    "tags": []
   },
   "source": [
    "### Solving for Time Zone"
   ]
  },
  {
   "cell_type": "code",
   "execution_count": 179,
   "id": "4524156d-6cb9-4e7f-950c-fa257aa75363",
   "metadata": {
    "editable": true,
    "slideshow": {
     "slide_type": "fragment"
    },
    "tags": []
   },
   "outputs": [
    {
     "name": "stdout",
     "output_type": "stream",
     "text": [
      "2024-11-29 05:00:00+00:00\n"
     ]
    }
   ],
   "source": [
    "utc_time = datetime.fromtimestamp(single_day_results[0][\"t\"]/1000\n",
    "                                  , tz=timezone.utc)\n",
    "print(utc_time)"
   ]
  },
  {
   "cell_type": "code",
   "execution_count": 180,
   "id": "9ccbbf48-02d5-4bdb-8e04-a359f7de1eae",
   "metadata": {
    "editable": true,
    "slideshow": {
     "slide_type": "fragment"
    },
    "tags": []
   },
   "outputs": [
    {
     "name": "stdout",
     "output_type": "stream",
     "text": [
      "2024-11-29 00:00:00-05:00\n"
     ]
    }
   ],
   "source": [
    "eastern = pytz.timezone('America/New_York')\n",
    "local_time = utc_time.astimezone(eastern)\n",
    "date = pd.Timestamp(local_time.date(), tz=eastern)\n",
    "print(date)"
   ]
  },
  {
   "cell_type": "code",
   "execution_count": 181,
   "id": "7bdb6c5f-1ad1-4eb5-a9d2-0d5a300b23d7",
   "metadata": {
    "editable": true,
    "slideshow": {
     "slide_type": "fragment"
    },
    "tags": []
   },
   "outputs": [
    {
     "name": "stdout",
     "output_type": "stream",
     "text": [
      "2024-11-30 00:00:00-05:00\n"
     ]
    }
   ],
   "source": [
    "### Solving for Month End\n",
    "date = date + MonthEnd(0)\n",
    "print(date)"
   ]
  },
  {
   "cell_type": "markdown",
   "id": "0c23cb75-fd99-4002-8cac-6a599b1a9b5a",
   "metadata": {
    "editable": true,
    "slideshow": {
     "slide_type": "slide"
    },
    "tags": []
   },
   "source": [
    "### Solving for trading day"
   ]
  },
  {
   "cell_type": "code",
   "execution_count": 194,
   "id": "cc1fbf2c-87ae-47f5-b489-b1b0d0c3180c",
   "metadata": {
    "editable": true,
    "slideshow": {
     "slide_type": "fragment"
    },
    "tags": []
   },
   "outputs": [
    {
     "name": "stdout",
     "output_type": "stream",
     "text": [
      "2024-11-29\n"
     ]
    }
   ],
   "source": [
    "nyse = mcal.get_calendar(\"NYSE\")\n",
    "schedule = nyse.schedule(start_date='2024-11-25', end_date='2024-12-05')\n",
    "trading_days = mcal.date_range(schedule, frequency=\"1D\")\n",
    "last_trading_day = trading_days[trading_days <= date].max().date()\n",
    "print(last_trading_day)"
   ]
  },
  {
   "cell_type": "code",
   "execution_count": 191,
   "id": "85278ff1-7beb-4a98-a0d0-9a476bf4e994",
   "metadata": {
    "editable": true,
    "slideshow": {
     "slide_type": "subslide"
    },
    "tags": []
   },
   "outputs": [
    {
     "data": {
      "text/plain": [
       "DatetimeIndex(['2024-11-25 21:00:00+00:00', '2024-11-26 21:00:00+00:00',\n",
       "               '2024-11-27 21:00:00+00:00', '2024-11-29 18:00:00+00:00',\n",
       "               '2024-12-02 21:00:00+00:00', '2024-12-03 21:00:00+00:00',\n",
       "               '2024-12-04 21:00:00+00:00', '2024-12-05 21:00:00+00:00'],\n",
       "              dtype='datetime64[ns, UTC]', freq=None)"
      ]
     },
     "execution_count": 191,
     "metadata": {},
     "output_type": "execute_result"
    }
   ],
   "source": [
    "trading_days"
   ]
  },
  {
   "cell_type": "markdown",
   "id": "25c1b89e-ecfd-4ec6-9d6f-451decc35015",
   "metadata": {
    "editable": true,
    "slideshow": {
     "slide_type": "slide"
    },
    "tags": []
   },
   "source": [
    "### All together"
   ]
  },
  {
   "cell_type": "code",
   "execution_count": 196,
   "id": "7b5ce37e-61d9-48a2-bd8f-2c0f6555f9bc",
   "metadata": {
    "editable": true,
    "slideshow": {
     "slide_type": "subslide"
    },
    "tags": []
   },
   "outputs": [
    {
     "name": "stdout",
     "output_type": "stream",
     "text": [
      "2024-11-29\n"
     ]
    }
   ],
   "source": [
    "### Setup time zone and dates\n",
    "eastern = pytz.timezone('America/New_York')\n",
    "nyse = mcal.get_calendar(\"NYSE\")\n",
    "schedule = nyse.schedule(start_date='2024-11-25'\n",
    "                         , end_date='2024-12-05')\n",
    "trading_days = mcal.date_range(schedule, frequency=\"1D\")\n",
    "\n",
    "### Polygon.io time element to last trading day\n",
    "utc_time = datetime.fromtimestamp(single_day_results[0][\"t\"]/1000\n",
    "                                  , tz=timezone.utc)\n",
    "local_time = utc_time.astimezone(eastern)\n",
    "date = pd.Timestamp(local_time.date(), tz=eastern)\n",
    "date = date + MonthEnd(0)\n",
    "last_trading_day = trading_days[trading_days <= date].max().date()\n",
    "print(last_trading_day)"
   ]
  },
  {
   "cell_type": "code",
   "execution_count": 24,
   "id": "12b3a57c-04c8-4252-a977-4f605963d66d",
   "metadata": {
    "editable": true,
    "slideshow": {
     "slide_type": "skip"
    },
    "tags": []
   },
   "outputs": [
    {
     "name": "stdout",
     "output_type": "stream",
     "text": [
      "https://api.polygon.io/v2/aggs/ticker/AAPL/range/1/day/2024-08-30/2024-10-01?adjusted=true&sort=asc&apiKey=k0w9tcO6Aho4ApjKFQtCgD4hqPdhpSXN\n"
     ]
    }
   ],
   "source": [
    "# Populating the template\n",
    "daily_polygon_request = polygon_template.substitute(\n",
    "    tckr='AAPL',\n",
    "    mult=1,\n",
    "    tmper='day',\n",
    "    start='2024-08-30',\n",
    "    end='2024-10-01',\n",
    "    polygonapi=polygonapi\n",
    ")\n",
    "\n",
    "eastern = pytz.timezone('America/New_York')\n",
    "\n",
    "print(daily_polygon_request)"
   ]
  },
  {
   "cell_type": "code",
   "execution_count": 25,
   "id": "ae81cbce-92f9-4095-a15b-a6218cd3f0ce",
   "metadata": {
    "editable": true,
    "slideshow": {
     "slide_type": "skip"
    },
    "tags": []
   },
   "outputs": [
    {
     "name": "stdout",
     "output_type": "stream",
     "text": [
      "   ticker        date   close\n",
      "0    AAPL  2024-08-30  229.00\n",
      "1    AAPL  2024-09-03  222.77\n",
      "2    AAPL  2024-09-04  220.85\n",
      "3    AAPL  2024-09-05  222.38\n",
      "4    AAPL  2024-09-06  220.82\n",
      "5    AAPL  2024-09-09  220.91\n",
      "6    AAPL  2024-09-10  220.11\n",
      "7    AAPL  2024-09-11  222.66\n",
      "8    AAPL  2024-09-12  222.77\n",
      "9    AAPL  2024-09-13  222.50\n",
      "10   AAPL  2024-09-16  216.32\n",
      "11   AAPL  2024-09-17  216.79\n",
      "12   AAPL  2024-09-18  220.69\n",
      "13   AAPL  2024-09-19  228.87\n",
      "14   AAPL  2024-09-20  228.20\n",
      "15   AAPL  2024-09-23  226.47\n",
      "16   AAPL  2024-09-24  227.37\n",
      "17   AAPL  2024-09-25  226.37\n",
      "18   AAPL  2024-09-26  227.52\n",
      "19   AAPL  2024-09-27  227.79\n",
      "20   AAPL  2024-09-30  233.00\n",
      "21   AAPL  2024-10-01  226.21\n"
     ]
    },
    {
     "name": "stderr",
     "output_type": "stream",
     "text": [
      "C:\\Users\\ThaddeusRyan.000\\AppData\\Local\\Temp\\ipykernel_16564\\3320351770.py:6: DeprecationWarning: datetime.datetime.utcfromtimestamp() is deprecated and scheduled for removal in a future version. Use timezone-aware objects to represent datetimes in UTC: datetime.datetime.fromtimestamp(timestamp, datetime.UTC).\n",
      "  utc_time = datetime.utcfromtimestamp(item[\"t\"] / 1000)\n"
     ]
    }
   ],
   "source": [
    "daily_polygon_response = requests.get(daily_polygon_request)\n",
    "ticker= daily_polygon_response.json()[\"ticker\"]\n",
    "daily_data = daily_polygon_response.json()['results']\n",
    "parsed_data = []\n",
    "for item in daily_data:\n",
    "    utc_time = datetime.utcfromtimestamp(item[\"t\"] / 1000)\n",
    "    date = utc_time.replace(tzinfo=pytz.utc).astimezone(eastern).strftime('%Y-%m-%d')\n",
    "    closing_price = item[\"c\"]\n",
    "    parsed_data.append({\"ticker\": ticker, \"date\": date, \"close\": closing_price})\n",
    "\n",
    "daily_df = pd.DataFrame(parsed_data)\n",
    "print(daily_df)"
   ]
  },
  {
   "cell_type": "code",
   "execution_count": 212,
   "id": "125ea828-00b4-488c-a6b9-ce900baef446",
   "metadata": {
    "editable": true,
    "slideshow": {
     "slide_type": "skip"
    },
    "tags": []
   },
   "outputs": [],
   "source": [
    "def polygon_eom(ticker, start, end):\n",
    "    '''\n",
    "    Gets month-end ticker price from polygon.io\n",
    "    ticker: string, valid stock symbol\n",
    "    start: date\n",
    "    end: date\n",
    "    '''\n",
    "    ## setup\n",
    "    parsed_data = []\n",
    "    polygon_template = Template(\"https://api.polygon.io/v2/aggs/ticker/$tckr/range/$mult/$tmper/$start/$end?adjusted=true&sort=asc&apiKey=$polygonapi\")\n",
    "    ## timezone\n",
    "    eastern = pytz.timezone('America/New_York')\n",
    "    \n",
    "    ## string sub into template\n",
    "    polygon_request = polygon_template.substitute(\n",
    "                tckr=ticker, mult=1,\n",
    "                tmper='month', start=start,\n",
    "                end=end, polygonapi=polygonapi)\n",
    "    ## request\n",
    "    polygon_response = requests.get(polygon_request)\n",
    "    ## response / payload\n",
    "    if polygon_response.ok == True:\n",
    "        # try:\n",
    "        ticker = polygon_response.json()[\"ticker\"]\n",
    "        data = polygon_response.json()['results']\n",
    "        for item in data:\n",
    "            utc_time = datetime.fromtimestamp(item[\"t\"] / 1000, tz=timezone.utc)\n",
    "            local_time = utc_time.astimezone(eastern)\n",
    "            date = pd.Timestamp(local_time.date(), tz=eastern) + MonthEnd(0)\n",
    "            closing_price = item[\"c\"]\n",
    "            parsed_data.append({\"ticker\": ticker, \"date\": date.strftime('%Y-%m-%d'), \"close\": closing_price})\n",
    "        parsed_df = pd.DataFrame(parsed_data)\n",
    "        return parsed_df\n",
    "        # except KeyError:\n",
    "        #     print(\"Symbol %s was not found\" %ticker)\n",
    "    else:\n",
    "        print('Failed on symbol: %s on response %s' %(ticker, str(polygon_response)))"
   ]
  },
  {
   "cell_type": "code",
   "execution_count": null,
   "id": "4d6e2dca-e831-444f-b6fe-2e0e63e2ce7d",
   "metadata": {
    "editable": true,
    "slideshow": {
     "slide_type": "subslide"
    },
    "tags": []
   },
   "outputs": [],
   "source": [
    "def polygon_eom(ticker, start, end):\n",
    "    '''\n",
    "    Gets month-end ticker price from polygon.io\n",
    "    ticker: string, valid stock symbol\n",
    "    start: date\n",
    "    end: date\n",
    "    '''\n",
    "    ## setup\n",
    "    parsed_data = []\n",
    "    polygon_template = Template(\"\"\"https://api.polygon.io/v2/aggs/ticker/$tckr\n",
    "                                /range/$mult/$tmper/$start/$end\n",
    "                                ?adjusted=true&sort=asc&apiKey=$polygonapi\"\"\")\n",
    "    ## timezone\n",
    "    eastern = pytz.timezone('America/New_York')\n",
    "    \n",
    "    ## string sub into template\n",
    "    polygon_request = polygon_template.substitute(\n",
    "                tckr=ticker, mult=1,\n",
    "                tmper='month', start=start,\n",
    "                end=end, polygonapi=polygonapi)\n",
    "    "
   ]
  },
  {
   "cell_type": "code",
   "execution_count": null,
   "id": "39b34bea-79f1-4ea5-8ab6-6eff9d528dcf",
   "metadata": {
    "editable": true,
    "slideshow": {
     "slide_type": "subslide"
    },
    "tags": []
   },
   "outputs": [],
   "source": [
    "<continuing> def polygon_eom(ticker, start, end):\n",
    "    ...\n",
    "    ## request\n",
    "    polygon_response = requests.get(polygon_request)\n",
    "    ## response / payload\n",
    "    if polygon_response.ok == True:\n",
    "        # try:\n",
    "        ticker = polygon_response.json()[\"ticker\"]\n",
    "        data = polygon_response.json()['results']\n",
    "        for item in data:\n",
    "            utc_time = datetime.fromtimestamp(item[\"t\"] / 1000\n",
    "                                              , tz=timezone.utc)\n",
    "            local_time = utc_time.astimezone(eastern)\n",
    "            date = pd.Timestamp(local_time.date(), tz=eastern) + MonthEnd(0)\n",
    "            closing_price = item[\"c\"]\n",
    "            parsed_data.append({\"ticker\": ticker\n",
    "                                , \"date\": date.strftime('%Y-%m-%d')\n",
    "                                , \"close\": closing_price})\n",
    "        parsed_df = pd.DataFrame(parsed_data)\n",
    "        return parsed_df\n",
    "        # except KeyError:\n",
    "        #     print(\"Symbol %s was not found\" %ticker)\n",
    "    else:\n",
    "        print('Failed on symbol: %s on response %s' %(ticker, str(polygon_response)))"
   ]
  },
  {
   "cell_type": "code",
   "execution_count": 213,
   "id": "ca4d6eca-ece3-440f-918a-435d30d50a3f",
   "metadata": {
    "editable": true,
    "slideshow": {
     "slide_type": "skip"
    },
    "tags": []
   },
   "outputs": [],
   "source": [
    "nvda = ['NVDA']\n",
    "all_df = polygon_iter(nvda,'2023-01-01','2024-02-01')"
   ]
  },
  {
   "cell_type": "code",
   "execution_count": 73,
   "id": "9873597d-5562-47d2-abca-5ad3599557da",
   "metadata": {
    "editable": true,
    "slideshow": {
     "slide_type": "subslide"
    },
    "tags": []
   },
   "outputs": [],
   "source": [
    "def polygon_iter(tickers, start, end):\n",
    "    '''\n",
    "    Iterates over a list of tickers\n",
    "    ticker: list of string symbols\n",
    "    start: date\n",
    "    end: date\n",
    "    '''\n",
    "    collected_data = []\n",
    "    \n",
    "    for ticker in tickers:\n",
    "        try:\n",
    "            t_df = polygon_eom(ticker, start, end)\n",
    "            if not t_df.empty:\n",
    "                collected_data.append(t_df)\n",
    "        except Exception as e:\n",
    "            print(f\"Error processing {ticker}: {e}\")\n",
    "            \n",
    "    # Combine df from all tickers\n",
    "    if collected_data:\n",
    "        combined_df = pd.concat(collected_data, ignore_index=True)\n",
    "    else:\n",
    "        combined_df = pd.DataFrame()\n",
    "    return combined_df"
   ]
  },
  {
   "cell_type": "code",
   "execution_count": 227,
   "id": "e10eba8b-80c1-4326-b2fa-2b8696acd627",
   "metadata": {
    "editable": true,
    "slideshow": {
     "slide_type": "slide"
    },
    "tags": []
   },
   "outputs": [
    {
     "data": {
      "text/plain": [
       "ticker\n",
       "AMD     24\n",
       "INTC    24\n",
       "MSFT    24\n",
       "NVDA    24\n",
       "SPY     24\n",
       "Name: date, dtype: int64"
      ]
     },
     "execution_count": 227,
     "metadata": {},
     "output_type": "execute_result"
    }
   ],
   "source": [
    "### polygon.io - Go back 2 years, up to 5 symbols\n",
    "tickerz = ['NVDA','AMD','INTC','MSFT','SPY']\n",
    "post_df = polygon_iter(tickerz,'2023-01-01','2024-12-31')\n",
    "post_df.groupby('ticker')['date'].agg('count')"
   ]
  },
  {
   "cell_type": "code",
   "execution_count": 228,
   "id": "5b7fe69e-7b2e-4aa9-8772-6e1ccc80d53a",
   "metadata": {
    "editable": true,
    "slideshow": {
     "slide_type": "slide"
    },
    "tags": []
   },
   "outputs": [
    {
     "data": {
      "text/html": [
       "<div>\n",
       "<style scoped>\n",
       "    .dataframe tbody tr th:only-of-type {\n",
       "        vertical-align: middle;\n",
       "    }\n",
       "\n",
       "    .dataframe tbody tr th {\n",
       "        vertical-align: top;\n",
       "    }\n",
       "\n",
       "    .dataframe thead th {\n",
       "        text-align: right;\n",
       "    }\n",
       "</style>\n",
       "<table border=\"1\" class=\"dataframe\">\n",
       "  <thead>\n",
       "    <tr style=\"text-align: right;\">\n",
       "      <th></th>\n",
       "      <th>earliest</th>\n",
       "      <th>latest</th>\n",
       "      <th>lowest</th>\n",
       "      <th>highest</th>\n",
       "    </tr>\n",
       "    <tr>\n",
       "      <th>ticker</th>\n",
       "      <th></th>\n",
       "      <th></th>\n",
       "      <th></th>\n",
       "      <th></th>\n",
       "    </tr>\n",
       "  </thead>\n",
       "  <tbody>\n",
       "    <tr>\n",
       "      <th>AMD</th>\n",
       "      <td>2023-01-31</td>\n",
       "      <td>2024-12-31</td>\n",
       "      <td>75.150</td>\n",
       "      <td>192.53</td>\n",
       "    </tr>\n",
       "    <tr>\n",
       "      <th>INTC</th>\n",
       "      <td>2023-01-31</td>\n",
       "      <td>2024-12-31</td>\n",
       "      <td>20.050</td>\n",
       "      <td>50.25</td>\n",
       "    </tr>\n",
       "    <tr>\n",
       "      <th>MSFT</th>\n",
       "      <td>2023-01-31</td>\n",
       "      <td>2024-12-31</td>\n",
       "      <td>247.810</td>\n",
       "      <td>446.95</td>\n",
       "    </tr>\n",
       "    <tr>\n",
       "      <th>NVDA</th>\n",
       "      <td>2023-01-31</td>\n",
       "      <td>2024-12-31</td>\n",
       "      <td>19.537</td>\n",
       "      <td>138.25</td>\n",
       "    </tr>\n",
       "    <tr>\n",
       "      <th>SPY</th>\n",
       "      <td>2023-01-31</td>\n",
       "      <td>2024-12-31</td>\n",
       "      <td>396.260</td>\n",
       "      <td>602.55</td>\n",
       "    </tr>\n",
       "  </tbody>\n",
       "</table>\n",
       "</div>"
      ],
      "text/plain": [
       "          earliest      latest   lowest  highest\n",
       "ticker                                          \n",
       "AMD     2023-01-31  2024-12-31   75.150   192.53\n",
       "INTC    2023-01-31  2024-12-31   20.050    50.25\n",
       "MSFT    2023-01-31  2024-12-31  247.810   446.95\n",
       "NVDA    2023-01-31  2024-12-31   19.537   138.25\n",
       "SPY     2023-01-31  2024-12-31  396.260   602.55"
      ]
     },
     "execution_count": 228,
     "metadata": {},
     "output_type": "execute_result"
    }
   ],
   "source": [
    "post_df.groupby('ticker')\\\n",
    "            .agg(earliest=('date','min')\n",
    "                ,latest=('date','max')\n",
    "                ,lowest=('close','min')\n",
    "                ,highest=('close','max'))"
   ]
  },
  {
   "cell_type": "markdown",
   "id": "64a13db0-cf68-4ea9-9eb7-6fe27e06b2ff",
   "metadata": {
    "editable": true,
    "slideshow": {
     "slide_type": "slide"
    },
    "tags": []
   },
   "source": [
    "### Pivot the stock data"
   ]
  },
  {
   "cell_type": "code",
   "execution_count": 246,
   "id": "3f405c89-ac8c-4e54-9b33-b1da78fc2e84",
   "metadata": {
    "editable": true,
    "slideshow": {
     "slide_type": "fragment"
    },
    "tags": []
   },
   "outputs": [
    {
     "data": {
      "text/html": [
       "<div>\n",
       "<style scoped>\n",
       "    .dataframe tbody tr th:only-of-type {\n",
       "        vertical-align: middle;\n",
       "    }\n",
       "\n",
       "    .dataframe tbody tr th {\n",
       "        vertical-align: top;\n",
       "    }\n",
       "\n",
       "    .dataframe thead th {\n",
       "        text-align: right;\n",
       "    }\n",
       "</style>\n",
       "<table border=\"1\" class=\"dataframe\">\n",
       "  <thead>\n",
       "    <tr style=\"text-align: right;\">\n",
       "      <th>ticker</th>\n",
       "      <th>AMD</th>\n",
       "      <th>INTC</th>\n",
       "      <th>MSFT</th>\n",
       "      <th>NVDA</th>\n",
       "      <th>SPY</th>\n",
       "    </tr>\n",
       "    <tr>\n",
       "      <th>date</th>\n",
       "      <th></th>\n",
       "      <th></th>\n",
       "      <th></th>\n",
       "      <th></th>\n",
       "      <th></th>\n",
       "    </tr>\n",
       "  </thead>\n",
       "  <tbody>\n",
       "    <tr>\n",
       "      <th>2023-01-31</th>\n",
       "      <td>75.15</td>\n",
       "      <td>28.26</td>\n",
       "      <td>247.81</td>\n",
       "      <td>19.537</td>\n",
       "      <td>406.48</td>\n",
       "    </tr>\n",
       "    <tr>\n",
       "      <th>2023-02-28</th>\n",
       "      <td>78.58</td>\n",
       "      <td>24.93</td>\n",
       "      <td>249.42</td>\n",
       "      <td>23.216</td>\n",
       "      <td>396.26</td>\n",
       "    </tr>\n",
       "    <tr>\n",
       "      <th>2023-03-31</th>\n",
       "      <td>98.01</td>\n",
       "      <td>32.67</td>\n",
       "      <td>288.30</td>\n",
       "      <td>27.777</td>\n",
       "      <td>409.39</td>\n",
       "    </tr>\n",
       "    <tr>\n",
       "      <th>2023-04-30</th>\n",
       "      <td>89.37</td>\n",
       "      <td>31.06</td>\n",
       "      <td>307.26</td>\n",
       "      <td>27.749</td>\n",
       "      <td>415.93</td>\n",
       "    </tr>\n",
       "    <tr>\n",
       "      <th>2023-05-31</th>\n",
       "      <td>118.21</td>\n",
       "      <td>31.44</td>\n",
       "      <td>328.39</td>\n",
       "      <td>37.834</td>\n",
       "      <td>417.85</td>\n",
       "    </tr>\n",
       "  </tbody>\n",
       "</table>\n",
       "</div>"
      ],
      "text/plain": [
       "ticker         AMD   INTC    MSFT    NVDA     SPY\n",
       "date                                             \n",
       "2023-01-31   75.15  28.26  247.81  19.537  406.48\n",
       "2023-02-28   78.58  24.93  249.42  23.216  396.26\n",
       "2023-03-31   98.01  32.67  288.30  27.777  409.39\n",
       "2023-04-30   89.37  31.06  307.26  27.749  415.93\n",
       "2023-05-31  118.21  31.44  328.39  37.834  417.85"
      ]
     },
     "execution_count": 246,
     "metadata": {},
     "output_type": "execute_result"
    }
   ],
   "source": [
    "pivoted_df = post_df.pivot(index=\"date\"\n",
    "                           , columns=\"ticker\"\n",
    "                           , values=\"close\")\n",
    "pivoted_df.head()"
   ]
  },
  {
   "cell_type": "markdown",
   "id": "83870e71-2b1c-4269-8875-91ffcc99b84b",
   "metadata": {
    "editable": true,
    "slideshow": {
     "slide_type": "slide"
    },
    "tags": []
   },
   "source": [
    "### Persist the stock data"
   ]
  },
  {
   "cell_type": "code",
   "execution_count": 248,
   "id": "bff7aea1-8428-4c0f-a679-e03ad9260eba",
   "metadata": {
    "editable": true,
    "slideshow": {
     "slide_type": "fragment"
    },
    "tags": []
   },
   "outputs": [],
   "source": [
    "pivoted_df.to_csv('scen1_stocks.csv')"
   ]
  },
  {
   "cell_type": "code",
   "execution_count": 249,
   "id": "84db7015-4c11-4efa-8046-371cdb454dda",
   "metadata": {
    "editable": true,
    "slideshow": {
     "slide_type": "fragment"
    },
    "tags": []
   },
   "outputs": [
    {
     "data": {
      "text/html": [
       "<div>\n",
       "<style scoped>\n",
       "    .dataframe tbody tr th:only-of-type {\n",
       "        vertical-align: middle;\n",
       "    }\n",
       "\n",
       "    .dataframe tbody tr th {\n",
       "        vertical-align: top;\n",
       "    }\n",
       "\n",
       "    .dataframe thead th {\n",
       "        text-align: right;\n",
       "    }\n",
       "</style>\n",
       "<table border=\"1\" class=\"dataframe\">\n",
       "  <thead>\n",
       "    <tr style=\"text-align: right;\">\n",
       "      <th></th>\n",
       "      <th>AMD</th>\n",
       "      <th>INTC</th>\n",
       "      <th>MSFT</th>\n",
       "      <th>NVDA</th>\n",
       "      <th>SPY</th>\n",
       "    </tr>\n",
       "    <tr>\n",
       "      <th>date</th>\n",
       "      <th></th>\n",
       "      <th></th>\n",
       "      <th></th>\n",
       "      <th></th>\n",
       "      <th></th>\n",
       "    </tr>\n",
       "  </thead>\n",
       "  <tbody>\n",
       "    <tr>\n",
       "      <th>2023-01-31</th>\n",
       "      <td>75.15</td>\n",
       "      <td>28.26</td>\n",
       "      <td>247.81</td>\n",
       "      <td>19.537</td>\n",
       "      <td>406.48</td>\n",
       "    </tr>\n",
       "    <tr>\n",
       "      <th>2023-02-28</th>\n",
       "      <td>78.58</td>\n",
       "      <td>24.93</td>\n",
       "      <td>249.42</td>\n",
       "      <td>23.216</td>\n",
       "      <td>396.26</td>\n",
       "    </tr>\n",
       "    <tr>\n",
       "      <th>2023-03-31</th>\n",
       "      <td>98.01</td>\n",
       "      <td>32.67</td>\n",
       "      <td>288.30</td>\n",
       "      <td>27.777</td>\n",
       "      <td>409.39</td>\n",
       "    </tr>\n",
       "    <tr>\n",
       "      <th>2023-04-30</th>\n",
       "      <td>89.37</td>\n",
       "      <td>31.06</td>\n",
       "      <td>307.26</td>\n",
       "      <td>27.749</td>\n",
       "      <td>415.93</td>\n",
       "    </tr>\n",
       "    <tr>\n",
       "      <th>2023-05-31</th>\n",
       "      <td>118.21</td>\n",
       "      <td>31.44</td>\n",
       "      <td>328.39</td>\n",
       "      <td>37.834</td>\n",
       "      <td>417.85</td>\n",
       "    </tr>\n",
       "  </tbody>\n",
       "</table>\n",
       "</div>"
      ],
      "text/plain": [
       "               AMD   INTC    MSFT    NVDA     SPY\n",
       "date                                             \n",
       "2023-01-31   75.15  28.26  247.81  19.537  406.48\n",
       "2023-02-28   78.58  24.93  249.42  23.216  396.26\n",
       "2023-03-31   98.01  32.67  288.30  27.777  409.39\n",
       "2023-04-30   89.37  31.06  307.26  27.749  415.93\n",
       "2023-05-31  118.21  31.44  328.39  37.834  417.85"
      ]
     },
     "execution_count": 249,
     "metadata": {},
     "output_type": "execute_result"
    }
   ],
   "source": [
    "### Restore the stock data\n",
    "scen1_stocks = pd.read_csv('scen1_stocks.csv', index_col='date')\n",
    "scen1_stocks.head()"
   ]
  },
  {
   "cell_type": "code",
   "execution_count": 82,
   "id": "6fb5c9ec-2786-42b9-b7e1-acb503316d8c",
   "metadata": {
    "editable": true,
    "slideshow": {
     "slide_type": "skip"
    },
    "tags": []
   },
   "outputs": [
    {
     "name": "stdout",
     "output_type": "stream",
     "text": [
      "https://api.polygon.io/v2/aggs/ticker/AAPL/range/1/month/2023-10-01/2024-10-02?adjusted=true&sort=asc&apiKey=k0w9tcO6Aho4ApjKFQtCgD4hqPdhpSXN\n"
     ]
    }
   ],
   "source": [
    "polygon_template = Template(\"https://api.polygon.io/v2/aggs/ticker/$tckr/range/$mult/$tmper/$start/$end?adjusted=true&sort=asc&apiKey=$polygonapi\")\n",
    "eastern = pytz.timezone('America/New_York')\n",
    "\n",
    "# Populating the template\n",
    "polygon_request = polygon_template.substitute(\n",
    "    tckr='AAPL',\n",
    "    mult=1,\n",
    "    tmper='month',\n",
    "    start='2023-10-01',\n",
    "    end='2024-10-02',\n",
    "    polygonapi=polygonapi\n",
    ")\n",
    "\n",
    "print(polygon_request)"
   ]
  },
  {
   "cell_type": "code",
   "execution_count": 83,
   "id": "86ea7343-39fb-4d1f-b4f8-52c65eb7945b",
   "metadata": {
    "editable": true,
    "slideshow": {
     "slide_type": "skip"
    },
    "tags": []
   },
   "outputs": [],
   "source": [
    "### Call the request\n",
    "polygon_response = requests.get(polygon_request)"
   ]
  },
  {
   "cell_type": "code",
   "execution_count": 84,
   "id": "3e62acd1-ce68-4ca9-b401-5d2a5e5c6471",
   "metadata": {
    "editable": true,
    "slideshow": {
     "slide_type": "skip"
    },
    "tags": []
   },
   "outputs": [
    {
     "name": "stdout",
     "output_type": "stream",
     "text": [
      "   ticker        date   close\n",
      "0    AAPL  2023-10-31  170.77\n",
      "1    AAPL  2023-11-30  189.95\n",
      "2    AAPL  2023-12-31  192.53\n",
      "3    AAPL  2024-01-31  184.40\n",
      "4    AAPL  2024-02-29  180.75\n",
      "5    AAPL  2024-03-31  171.48\n",
      "6    AAPL  2024-04-30  170.33\n",
      "7    AAPL  2024-05-31  192.25\n",
      "8    AAPL  2024-06-30  210.62\n",
      "9    AAPL  2024-07-31  222.08\n",
      "10   AAPL  2024-08-31  229.00\n",
      "11   AAPL  2024-09-30  233.00\n",
      "12   AAPL  2024-10-31  225.91\n"
     ]
    }
   ],
   "source": [
    "parsed_data = []\n",
    "ticker = polygon_response.json()[\"ticker\"]\n",
    "data = polygon_response.json()['results']\n",
    "for item in data:\n",
    "    utc_time = datetime.fromtimestamp(item[\"t\"] / 1000, tz=timezone.utc)\n",
    "    local_time = utc_time.astimezone(eastern)\n",
    "    date = pd.Timestamp(local_time.date(), tz=eastern) + MonthEnd(0)\n",
    "    closing_price = item[\"c\"]\n",
    "    parsed_data.append({\"ticker\": ticker, \"date\": date.strftime(\"%Y-%m-%d\"), \"close\": closing_price})\n",
    "\n",
    "df = pd.DataFrame(parsed_data)\n",
    "print(df)"
   ]
  },
  {
   "cell_type": "markdown",
   "id": "a4e7346c-f7e4-4aaf-9cf7-d9c58351ad28",
   "metadata": {
    "editable": true,
    "slideshow": {
     "slide_type": "slide"
    },
    "tags": []
   },
   "source": [
    "### FRED"
   ]
  },
  {
   "cell_type": "code",
   "execution_count": 3,
   "id": "30f4397c-d626-4cfe-a5fd-8d14246c2aa5",
   "metadata": {
    "editable": true,
    "slideshow": {
     "slide_type": "fragment"
    },
    "tags": []
   },
   "outputs": [],
   "source": [
    "fred = Fred(api_key = fredapi)"
   ]
  },
  {
   "cell_type": "code",
   "execution_count": 5,
   "id": "182fcd05-032b-4a04-8c13-62db4b045800",
   "metadata": {
    "editable": true,
    "slideshow": {
     "slide_type": "slide"
    },
    "tags": []
   },
   "outputs": [
    {
     "data": {
      "text/html": [
       "<div>\n",
       "<style scoped>\n",
       "    .dataframe tbody tr th:only-of-type {\n",
       "        vertical-align: middle;\n",
       "    }\n",
       "\n",
       "    .dataframe tbody tr th {\n",
       "        vertical-align: top;\n",
       "    }\n",
       "\n",
       "    .dataframe thead th {\n",
       "        text-align: right;\n",
       "    }\n",
       "</style>\n",
       "<table border=\"1\" class=\"dataframe\">\n",
       "  <thead>\n",
       "    <tr style=\"text-align: right;\">\n",
       "      <th></th>\n",
       "      <th>id</th>\n",
       "      <th>realtime_start</th>\n",
       "      <th>realtime_end</th>\n",
       "      <th>title</th>\n",
       "      <th>observation_start</th>\n",
       "      <th>observation_end</th>\n",
       "      <th>frequency</th>\n",
       "      <th>frequency_short</th>\n",
       "      <th>units</th>\n",
       "      <th>units_short</th>\n",
       "      <th>seasonal_adjustment</th>\n",
       "      <th>seasonal_adjustment_short</th>\n",
       "      <th>last_updated</th>\n",
       "      <th>popularity</th>\n",
       "      <th>notes</th>\n",
       "    </tr>\n",
       "    <tr>\n",
       "      <th>series id</th>\n",
       "      <th></th>\n",
       "      <th></th>\n",
       "      <th></th>\n",
       "      <th></th>\n",
       "      <th></th>\n",
       "      <th></th>\n",
       "      <th></th>\n",
       "      <th></th>\n",
       "      <th></th>\n",
       "      <th></th>\n",
       "      <th></th>\n",
       "      <th></th>\n",
       "      <th></th>\n",
       "      <th></th>\n",
       "      <th></th>\n",
       "    </tr>\n",
       "  </thead>\n",
       "  <tbody>\n",
       "    <tr>\n",
       "      <th>INDPRO</th>\n",
       "      <td>INDPRO</td>\n",
       "      <td>2025-01-11</td>\n",
       "      <td>2025-01-11</td>\n",
       "      <td>Industrial Production: Total Index</td>\n",
       "      <td>1919-01-01</td>\n",
       "      <td>2024-11-01</td>\n",
       "      <td>Monthly</td>\n",
       "      <td>M</td>\n",
       "      <td>Index 2017=100</td>\n",
       "      <td>Index 2017=100</td>\n",
       "      <td>Seasonally Adjusted</td>\n",
       "      <td>SA</td>\n",
       "      <td>2024-12-17 08:26:14-06:00</td>\n",
       "      <td>79</td>\n",
       "      <td>explanatory notes (https://www.federalreserve....</td>\n",
       "    </tr>\n",
       "    <tr>\n",
       "      <th>IPB50001N</th>\n",
       "      <td>IPB50001N</td>\n",
       "      <td>2025-01-11</td>\n",
       "      <td>2025-01-11</td>\n",
       "      <td>Industrial Production: Total Index</td>\n",
       "      <td>1919-01-01</td>\n",
       "      <td>2024-11-01</td>\n",
       "      <td>Monthly</td>\n",
       "      <td>M</td>\n",
       "      <td>Index 2017=100</td>\n",
       "      <td>Index 2017=100</td>\n",
       "      <td>Not Seasonally Adjusted</td>\n",
       "      <td>NSA</td>\n",
       "      <td>2024-12-17 08:26:38-06:00</td>\n",
       "      <td>39</td>\n",
       "      <td>explanatory notes (https://www.federalreserve....</td>\n",
       "    </tr>\n",
       "    <tr>\n",
       "      <th>IPB50001SQ</th>\n",
       "      <td>IPB50001SQ</td>\n",
       "      <td>2025-01-11</td>\n",
       "      <td>2025-01-11</td>\n",
       "      <td>Industrial Production: Total Index</td>\n",
       "      <td>1919-01-01</td>\n",
       "      <td>2024-07-01</td>\n",
       "      <td>Quarterly</td>\n",
       "      <td>Q</td>\n",
       "      <td>Index 2017=100</td>\n",
       "      <td>Index 2017=100</td>\n",
       "      <td>Seasonally Adjusted</td>\n",
       "      <td>SA</td>\n",
       "      <td>2024-12-17 08:26:52-06:00</td>\n",
       "      <td>24</td>\n",
       "      <td>explanatory notes (https://www.federalreserve....</td>\n",
       "    </tr>\n",
       "  </tbody>\n",
       "</table>\n",
       "</div>"
      ],
      "text/plain": [
       "                    id realtime_start realtime_end  \\\n",
       "series id                                            \n",
       "INDPRO          INDPRO     2025-01-11   2025-01-11   \n",
       "IPB50001N    IPB50001N     2025-01-11   2025-01-11   \n",
       "IPB50001SQ  IPB50001SQ     2025-01-11   2025-01-11   \n",
       "\n",
       "                                         title observation_start  \\\n",
       "series id                                                          \n",
       "INDPRO      Industrial Production: Total Index        1919-01-01   \n",
       "IPB50001N   Industrial Production: Total Index        1919-01-01   \n",
       "IPB50001SQ  Industrial Production: Total Index        1919-01-01   \n",
       "\n",
       "           observation_end  frequency frequency_short           units  \\\n",
       "series id                                                               \n",
       "INDPRO          2024-11-01    Monthly               M  Index 2017=100   \n",
       "IPB50001N       2024-11-01    Monthly               M  Index 2017=100   \n",
       "IPB50001SQ      2024-07-01  Quarterly               Q  Index 2017=100   \n",
       "\n",
       "               units_short      seasonal_adjustment seasonal_adjustment_short  \\\n",
       "series id                                                                       \n",
       "INDPRO      Index 2017=100      Seasonally Adjusted                        SA   \n",
       "IPB50001N   Index 2017=100  Not Seasonally Adjusted                       NSA   \n",
       "IPB50001SQ  Index 2017=100      Seasonally Adjusted                        SA   \n",
       "\n",
       "                         last_updated popularity  \\\n",
       "series id                                          \n",
       "INDPRO      2024-12-17 08:26:14-06:00         79   \n",
       "IPB50001N   2024-12-17 08:26:38-06:00         39   \n",
       "IPB50001SQ  2024-12-17 08:26:52-06:00         24   \n",
       "\n",
       "                                                        notes  \n",
       "series id                                                      \n",
       "INDPRO      explanatory notes (https://www.federalreserve....  \n",
       "IPB50001N   explanatory notes (https://www.federalreserve....  \n",
       "IPB50001SQ  explanatory notes (https://www.federalreserve....  "
      ]
     },
     "execution_count": 5,
     "metadata": {},
     "output_type": "execute_result"
    }
   ],
   "source": [
    "### Look for industrial production\n",
    "x = fred.search('industrial')\n",
    "x.head(3)"
   ]
  },
  {
   "cell_type": "code",
   "execution_count": 7,
   "id": "f3e06d84-126b-4fae-b329-451597b72709",
   "metadata": {
    "editable": true,
    "slideshow": {
     "slide_type": "slide"
    },
    "tags": []
   },
   "outputs": [
    {
     "data": {
      "text/html": [
       "<div>\n",
       "<style scoped>\n",
       "    .dataframe tbody tr th:only-of-type {\n",
       "        vertical-align: middle;\n",
       "    }\n",
       "\n",
       "    .dataframe tbody tr th {\n",
       "        vertical-align: top;\n",
       "    }\n",
       "\n",
       "    .dataframe thead th {\n",
       "        text-align: right;\n",
       "    }\n",
       "</style>\n",
       "<table border=\"1\" class=\"dataframe\">\n",
       "  <thead>\n",
       "    <tr style=\"text-align: right;\">\n",
       "      <th></th>\n",
       "      <th>id</th>\n",
       "      <th>realtime_start</th>\n",
       "      <th>realtime_end</th>\n",
       "      <th>title</th>\n",
       "      <th>observation_start</th>\n",
       "      <th>observation_end</th>\n",
       "      <th>frequency</th>\n",
       "      <th>frequency_short</th>\n",
       "      <th>units</th>\n",
       "      <th>units_short</th>\n",
       "      <th>seasonal_adjustment</th>\n",
       "      <th>seasonal_adjustment_short</th>\n",
       "      <th>last_updated</th>\n",
       "      <th>popularity</th>\n",
       "      <th>notes</th>\n",
       "    </tr>\n",
       "    <tr>\n",
       "      <th>series id</th>\n",
       "      <th></th>\n",
       "      <th></th>\n",
       "      <th></th>\n",
       "      <th></th>\n",
       "      <th></th>\n",
       "      <th></th>\n",
       "      <th></th>\n",
       "      <th></th>\n",
       "      <th></th>\n",
       "      <th></th>\n",
       "      <th></th>\n",
       "      <th></th>\n",
       "      <th></th>\n",
       "      <th></th>\n",
       "      <th></th>\n",
       "    </tr>\n",
       "  </thead>\n",
       "  <tbody>\n",
       "    <tr>\n",
       "      <th>CPIEALL</th>\n",
       "      <td>CPIEALL</td>\n",
       "      <td>2025-01-11</td>\n",
       "      <td>2025-01-11</td>\n",
       "      <td>Research Consumer Price Index: All Items</td>\n",
       "      <td>1982-12-01</td>\n",
       "      <td>2024-11-01</td>\n",
       "      <td>Monthly</td>\n",
       "      <td>M</td>\n",
       "      <td>Index 1982=100</td>\n",
       "      <td>Index 1982=100</td>\n",
       "      <td>Seasonally Adjusted</td>\n",
       "      <td>SA</td>\n",
       "      <td>2024-12-11 15:31:02-06:00</td>\n",
       "      <td>32</td>\n",
       "      <td>The BLS calculates a research price index call...</td>\n",
       "    </tr>\n",
       "    <tr>\n",
       "      <th>CPIEHOUSE</th>\n",
       "      <td>CPIEHOUSE</td>\n",
       "      <td>2025-01-11</td>\n",
       "      <td>2025-01-11</td>\n",
       "      <td>Research Consumer Price Index: Housing</td>\n",
       "      <td>1982-12-01</td>\n",
       "      <td>2024-11-01</td>\n",
       "      <td>Monthly</td>\n",
       "      <td>M</td>\n",
       "      <td>Index 1982=100</td>\n",
       "      <td>Index 1982=100</td>\n",
       "      <td>Seasonally Adjusted</td>\n",
       "      <td>SA</td>\n",
       "      <td>2024-12-11 15:31:01-06:00</td>\n",
       "      <td>32</td>\n",
       "      <td>The BLS calculates a research price index call...</td>\n",
       "    </tr>\n",
       "    <tr>\n",
       "      <th>CPIEMEDCARE</th>\n",
       "      <td>CPIEMEDCARE</td>\n",
       "      <td>2025-01-11</td>\n",
       "      <td>2025-01-11</td>\n",
       "      <td>Research Consumer Price Index: Medical Care</td>\n",
       "      <td>1982-12-01</td>\n",
       "      <td>2024-11-01</td>\n",
       "      <td>Monthly</td>\n",
       "      <td>M</td>\n",
       "      <td>Index 1982=100</td>\n",
       "      <td>Index 1982=100</td>\n",
       "      <td>Seasonally Adjusted</td>\n",
       "      <td>SA</td>\n",
       "      <td>2024-12-11 15:31:02-06:00</td>\n",
       "      <td>12</td>\n",
       "      <td>The BLS calculates a research price index call...</td>\n",
       "    </tr>\n",
       "  </tbody>\n",
       "</table>\n",
       "</div>"
      ],
      "text/plain": [
       "                      id realtime_start realtime_end  \\\n",
       "series id                                              \n",
       "CPIEALL          CPIEALL     2025-01-11   2025-01-11   \n",
       "CPIEHOUSE      CPIEHOUSE     2025-01-11   2025-01-11   \n",
       "CPIEMEDCARE  CPIEMEDCARE     2025-01-11   2025-01-11   \n",
       "\n",
       "                                                   title observation_start  \\\n",
       "series id                                                                    \n",
       "CPIEALL         Research Consumer Price Index: All Items        1982-12-01   \n",
       "CPIEHOUSE         Research Consumer Price Index: Housing        1982-12-01   \n",
       "CPIEMEDCARE  Research Consumer Price Index: Medical Care        1982-12-01   \n",
       "\n",
       "            observation_end frequency frequency_short           units  \\\n",
       "series id                                                               \n",
       "CPIEALL          2024-11-01   Monthly               M  Index 1982=100   \n",
       "CPIEHOUSE        2024-11-01   Monthly               M  Index 1982=100   \n",
       "CPIEMEDCARE      2024-11-01   Monthly               M  Index 1982=100   \n",
       "\n",
       "                units_short  seasonal_adjustment seasonal_adjustment_short  \\\n",
       "series id                                                                    \n",
       "CPIEALL      Index 1982=100  Seasonally Adjusted                        SA   \n",
       "CPIEHOUSE    Index 1982=100  Seasonally Adjusted                        SA   \n",
       "CPIEMEDCARE  Index 1982=100  Seasonally Adjusted                        SA   \n",
       "\n",
       "                         last_updated popularity  \\\n",
       "series id                                          \n",
       "CPIEALL     2024-12-11 15:31:02-06:00         32   \n",
       "CPIEHOUSE   2024-12-11 15:31:01-06:00         32   \n",
       "CPIEMEDCARE 2024-12-11 15:31:02-06:00         12   \n",
       "\n",
       "                                                         notes  \n",
       "series id                                                       \n",
       "CPIEALL      The BLS calculates a research price index call...  \n",
       "CPIEHOUSE    The BLS calculates a research price index call...  \n",
       "CPIEMEDCARE  The BLS calculates a research price index call...  "
      ]
     },
     "execution_count": 7,
     "metadata": {},
     "output_type": "execute_result"
    }
   ],
   "source": [
    "### Look for potential inflation\n",
    "x = fred.search('potential inflation consumer')\n",
    "x.head(3)"
   ]
  },
  {
   "cell_type": "code",
   "execution_count": 9,
   "id": "5ad611ae-66b8-4cd9-9ed4-113427aee341",
   "metadata": {
    "editable": true,
    "slideshow": {
     "slide_type": "slide"
    },
    "tags": []
   },
   "outputs": [
    {
     "data": {
      "text/html": [
       "<div>\n",
       "<style scoped>\n",
       "    .dataframe tbody tr th:only-of-type {\n",
       "        vertical-align: middle;\n",
       "    }\n",
       "\n",
       "    .dataframe tbody tr th {\n",
       "        vertical-align: top;\n",
       "    }\n",
       "\n",
       "    .dataframe thead th {\n",
       "        text-align: right;\n",
       "    }\n",
       "</style>\n",
       "<table border=\"1\" class=\"dataframe\">\n",
       "  <thead>\n",
       "    <tr style=\"text-align: right;\">\n",
       "      <th></th>\n",
       "      <th>id</th>\n",
       "      <th>realtime_start</th>\n",
       "      <th>realtime_end</th>\n",
       "      <th>title</th>\n",
       "      <th>observation_start</th>\n",
       "      <th>observation_end</th>\n",
       "      <th>frequency</th>\n",
       "      <th>frequency_short</th>\n",
       "      <th>units</th>\n",
       "      <th>units_short</th>\n",
       "      <th>seasonal_adjustment</th>\n",
       "      <th>seasonal_adjustment_short</th>\n",
       "      <th>last_updated</th>\n",
       "      <th>popularity</th>\n",
       "      <th>notes</th>\n",
       "    </tr>\n",
       "    <tr>\n",
       "      <th>series id</th>\n",
       "      <th></th>\n",
       "      <th></th>\n",
       "      <th></th>\n",
       "      <th></th>\n",
       "      <th></th>\n",
       "      <th></th>\n",
       "      <th></th>\n",
       "      <th></th>\n",
       "      <th></th>\n",
       "      <th></th>\n",
       "      <th></th>\n",
       "      <th></th>\n",
       "      <th></th>\n",
       "      <th></th>\n",
       "      <th></th>\n",
       "    </tr>\n",
       "  </thead>\n",
       "  <tbody>\n",
       "    <tr>\n",
       "      <th>DGS1</th>\n",
       "      <td>DGS1</td>\n",
       "      <td>2025-01-11</td>\n",
       "      <td>2025-01-11</td>\n",
       "      <td>Market Yield on U.S. Treasury Securities at 1-...</td>\n",
       "      <td>1962-01-02</td>\n",
       "      <td>2025-01-09</td>\n",
       "      <td>Daily</td>\n",
       "      <td>D</td>\n",
       "      <td>Percent</td>\n",
       "      <td>%</td>\n",
       "      <td>Not Seasonally Adjusted</td>\n",
       "      <td>NSA</td>\n",
       "      <td>2025-01-10 15:21:48-06:00</td>\n",
       "      <td>79</td>\n",
       "      <td>H.15 Statistical Release notes (https://www.fe...</td>\n",
       "    </tr>\n",
       "    <tr>\n",
       "      <th>WGS1YR</th>\n",
       "      <td>WGS1YR</td>\n",
       "      <td>2025-01-11</td>\n",
       "      <td>2025-01-11</td>\n",
       "      <td>Market Yield on U.S. Treasury Securities at 1-...</td>\n",
       "      <td>1962-01-05</td>\n",
       "      <td>2025-01-03</td>\n",
       "      <td>Weekly, Ending Friday</td>\n",
       "      <td>W</td>\n",
       "      <td>Percent</td>\n",
       "      <td>%</td>\n",
       "      <td>Not Seasonally Adjusted</td>\n",
       "      <td>NSA</td>\n",
       "      <td>2025-01-06 15:16:53-06:00</td>\n",
       "      <td>56</td>\n",
       "      <td>H.15 Statistical Release notes (https://www.fe...</td>\n",
       "    </tr>\n",
       "    <tr>\n",
       "      <th>GS1</th>\n",
       "      <td>GS1</td>\n",
       "      <td>2025-01-11</td>\n",
       "      <td>2025-01-11</td>\n",
       "      <td>Market Yield on U.S. Treasury Securities at 1-...</td>\n",
       "      <td>1953-04-01</td>\n",
       "      <td>2024-12-01</td>\n",
       "      <td>Monthly</td>\n",
       "      <td>M</td>\n",
       "      <td>Percent</td>\n",
       "      <td>%</td>\n",
       "      <td>Not Seasonally Adjusted</td>\n",
       "      <td>NSA</td>\n",
       "      <td>2025-01-02 16:44:46-06:00</td>\n",
       "      <td>55</td>\n",
       "      <td>H.15 Statistical Release notes (https://www.fe...</td>\n",
       "    </tr>\n",
       "  </tbody>\n",
       "</table>\n",
       "</div>"
      ],
      "text/plain": [
       "               id realtime_start realtime_end  \\\n",
       "series id                                       \n",
       "DGS1         DGS1     2025-01-11   2025-01-11   \n",
       "WGS1YR     WGS1YR     2025-01-11   2025-01-11   \n",
       "GS1           GS1     2025-01-11   2025-01-11   \n",
       "\n",
       "                                                       title  \\\n",
       "series id                                                      \n",
       "DGS1       Market Yield on U.S. Treasury Securities at 1-...   \n",
       "WGS1YR     Market Yield on U.S. Treasury Securities at 1-...   \n",
       "GS1        Market Yield on U.S. Treasury Securities at 1-...   \n",
       "\n",
       "          observation_start observation_end              frequency  \\\n",
       "series id                                                            \n",
       "DGS1             1962-01-02      2025-01-09                  Daily   \n",
       "WGS1YR           1962-01-05      2025-01-03  Weekly, Ending Friday   \n",
       "GS1              1953-04-01      2024-12-01                Monthly   \n",
       "\n",
       "          frequency_short    units units_short      seasonal_adjustment  \\\n",
       "series id                                                                 \n",
       "DGS1                    D  Percent           %  Not Seasonally Adjusted   \n",
       "WGS1YR                  W  Percent           %  Not Seasonally Adjusted   \n",
       "GS1                     M  Percent           %  Not Seasonally Adjusted   \n",
       "\n",
       "          seasonal_adjustment_short              last_updated popularity  \\\n",
       "series id                                                                  \n",
       "DGS1                            NSA 2025-01-10 15:21:48-06:00         79   \n",
       "WGS1YR                          NSA 2025-01-06 15:16:53-06:00         56   \n",
       "GS1                             NSA 2025-01-02 16:44:46-06:00         55   \n",
       "\n",
       "                                                       notes  \n",
       "series id                                                     \n",
       "DGS1       H.15 Statistical Release notes (https://www.fe...  \n",
       "WGS1YR     H.15 Statistical Release notes (https://www.fe...  \n",
       "GS1        H.15 Statistical Release notes (https://www.fe...  "
      ]
     },
     "execution_count": 9,
     "metadata": {},
     "output_type": "execute_result"
    }
   ],
   "source": [
    "### Look for risk free 1-year rate \n",
    "x = fred.search(\"risk free 1-Year\")\n",
    "x.head()"
   ]
  },
  {
   "cell_type": "code",
   "execution_count": 10,
   "id": "d55c20ee-5fd4-41eb-87ae-4cffc115cb7d",
   "metadata": {
    "editable": true,
    "slideshow": {
     "slide_type": "slide"
    },
    "tags": []
   },
   "outputs": [],
   "source": [
    "### industrial production\n",
    "ind = fred.get_series('INDPRO')\n",
    "### potential inflation\n",
    "inf = fred.get_series('CPIEALL')\n",
    "### risk-free rate\n",
    "risk_free = fred.get_series('GS1')"
   ]
  },
  {
   "cell_type": "code",
   "execution_count": 34,
   "id": "a31aeb79-6347-4c1c-8c41-074c95b724c8",
   "metadata": {
    "editable": true,
    "slideshow": {
     "slide_type": "slide"
    },
    "tags": []
   },
   "outputs": [],
   "source": [
    "### set Fred series to same months\n",
    "### dates are first day for whole month\n",
    "ind_1 = ind['2023-01-01':'2024-12-01']\n",
    "inf_1 = inf['2023-01-01':'2024-12-01']\n",
    "rf_1 = risk_free['2023-01-01':'2024-12-01']"
   ]
  },
  {
   "cell_type": "code",
   "execution_count": 71,
   "id": "5dcd775a-82fe-42fd-9bda-9a8eb36a9117",
   "metadata": {
    "editable": true,
    "slideshow": {
     "slide_type": "slide"
    },
    "tags": []
   },
   "outputs": [
    {
     "data": {
      "text/html": [
       "<div>\n",
       "<style scoped>\n",
       "    .dataframe tbody tr th:only-of-type {\n",
       "        vertical-align: middle;\n",
       "    }\n",
       "\n",
       "    .dataframe tbody tr th {\n",
       "        vertical-align: top;\n",
       "    }\n",
       "\n",
       "    .dataframe thead th {\n",
       "        text-align: right;\n",
       "    }\n",
       "</style>\n",
       "<table border=\"1\" class=\"dataframe\">\n",
       "  <thead>\n",
       "    <tr style=\"text-align: right;\">\n",
       "      <th></th>\n",
       "      <th>month</th>\n",
       "      <th>industrial_prod</th>\n",
       "    </tr>\n",
       "  </thead>\n",
       "  <tbody>\n",
       "    <tr>\n",
       "      <th>0</th>\n",
       "      <td>2023-01-01</td>\n",
       "      <td>102.7476</td>\n",
       "    </tr>\n",
       "    <tr>\n",
       "      <th>1</th>\n",
       "      <td>2023-02-01</td>\n",
       "      <td>102.8003</td>\n",
       "    </tr>\n",
       "    <tr>\n",
       "      <th>2</th>\n",
       "      <td>2023-03-01</td>\n",
       "      <td>102.8143</td>\n",
       "    </tr>\n",
       "    <tr>\n",
       "      <th>3</th>\n",
       "      <td>2023-04-01</td>\n",
       "      <td>103.2241</td>\n",
       "    </tr>\n",
       "    <tr>\n",
       "      <th>4</th>\n",
       "      <td>2023-05-01</td>\n",
       "      <td>102.9809</td>\n",
       "    </tr>\n",
       "  </tbody>\n",
       "</table>\n",
       "</div>"
      ],
      "text/plain": [
       "       month  industrial_prod\n",
       "0 2023-01-01         102.7476\n",
       "1 2023-02-01         102.8003\n",
       "2 2023-03-01         102.8143\n",
       "3 2023-04-01         103.2241\n",
       "4 2023-05-01         102.9809"
      ]
     },
     "execution_count": 71,
     "metadata": {},
     "output_type": "execute_result"
    }
   ],
   "source": [
    "### evaluate industrial prod data\n",
    "ind_0 = ind_1.reset_index()\\\n",
    "    .rename({'index':'month'\n",
    "             , 0:'industrial_prod'}\n",
    "            ,axis=1)\n",
    "ind_0.head()"
   ]
  },
  {
   "cell_type": "code",
   "execution_count": 250,
   "id": "374fa803-fe6c-4ac9-84d1-00b275e10702",
   "metadata": {
    "editable": true,
    "slideshow": {
     "slide_type": "slide"
    },
    "tags": []
   },
   "outputs": [
    {
     "data": {
      "text/html": [
       "<div>\n",
       "<style scoped>\n",
       "    .dataframe tbody tr th:only-of-type {\n",
       "        vertical-align: middle;\n",
       "    }\n",
       "\n",
       "    .dataframe tbody tr th {\n",
       "        vertical-align: top;\n",
       "    }\n",
       "\n",
       "    .dataframe thead th {\n",
       "        text-align: right;\n",
       "    }\n",
       "</style>\n",
       "<table border=\"1\" class=\"dataframe\">\n",
       "  <thead>\n",
       "    <tr style=\"text-align: right;\">\n",
       "      <th></th>\n",
       "      <th>month</th>\n",
       "      <th>potential_inflation</th>\n",
       "    </tr>\n",
       "  </thead>\n",
       "  <tbody>\n",
       "    <tr>\n",
       "      <th>0</th>\n",
       "      <td>2023-01-01</td>\n",
       "      <td>325.520</td>\n",
       "    </tr>\n",
       "    <tr>\n",
       "      <th>1</th>\n",
       "      <td>2023-02-01</td>\n",
       "      <td>327.499</td>\n",
       "    </tr>\n",
       "    <tr>\n",
       "      <th>2</th>\n",
       "      <td>2023-03-01</td>\n",
       "      <td>328.457</td>\n",
       "    </tr>\n",
       "    <tr>\n",
       "      <th>3</th>\n",
       "      <td>2023-04-01</td>\n",
       "      <td>329.868</td>\n",
       "    </tr>\n",
       "    <tr>\n",
       "      <th>4</th>\n",
       "      <td>2023-05-01</td>\n",
       "      <td>330.663</td>\n",
       "    </tr>\n",
       "  </tbody>\n",
       "</table>\n",
       "</div>"
      ],
      "text/plain": [
       "       month  potential_inflation\n",
       "0 2023-01-01              325.520\n",
       "1 2023-02-01              327.499\n",
       "2 2023-03-01              328.457\n",
       "3 2023-04-01              329.868\n",
       "4 2023-05-01              330.663"
      ]
     },
     "execution_count": 250,
     "metadata": {},
     "output_type": "execute_result"
    }
   ],
   "source": [
    "### evaluate inflation data\n",
    "inf_0 = inf_1.reset_index()\\\n",
    "    .rename({'index':'month'\n",
    "             , 0:'potential_inflation'}\n",
    "            ,axis=1)\n",
    "inf_0.head()"
   ]
  },
  {
   "cell_type": "code",
   "execution_count": 252,
   "id": "eb527c33-fa50-4d00-b044-c5670fa98ce3",
   "metadata": {
    "editable": true,
    "slideshow": {
     "slide_type": "slide"
    },
    "tags": []
   },
   "outputs": [
    {
     "data": {
      "text/html": [
       "<div>\n",
       "<style scoped>\n",
       "    .dataframe tbody tr th:only-of-type {\n",
       "        vertical-align: middle;\n",
       "    }\n",
       "\n",
       "    .dataframe tbody tr th {\n",
       "        vertical-align: top;\n",
       "    }\n",
       "\n",
       "    .dataframe thead th {\n",
       "        text-align: right;\n",
       "    }\n",
       "</style>\n",
       "<table border=\"1\" class=\"dataframe\">\n",
       "  <thead>\n",
       "    <tr style=\"text-align: right;\">\n",
       "      <th></th>\n",
       "      <th>month</th>\n",
       "      <th>risk_free</th>\n",
       "    </tr>\n",
       "  </thead>\n",
       "  <tbody>\n",
       "    <tr>\n",
       "      <th>0</th>\n",
       "      <td>2023-01-01</td>\n",
       "      <td>4.69</td>\n",
       "    </tr>\n",
       "    <tr>\n",
       "      <th>1</th>\n",
       "      <td>2023-02-01</td>\n",
       "      <td>4.93</td>\n",
       "    </tr>\n",
       "    <tr>\n",
       "      <th>2</th>\n",
       "      <td>2023-03-01</td>\n",
       "      <td>4.68</td>\n",
       "    </tr>\n",
       "    <tr>\n",
       "      <th>3</th>\n",
       "      <td>2023-04-01</td>\n",
       "      <td>4.68</td>\n",
       "    </tr>\n",
       "    <tr>\n",
       "      <th>4</th>\n",
       "      <td>2023-05-01</td>\n",
       "      <td>4.91</td>\n",
       "    </tr>\n",
       "  </tbody>\n",
       "</table>\n",
       "</div>"
      ],
      "text/plain": [
       "       month  risk_free\n",
       "0 2023-01-01       4.69\n",
       "1 2023-02-01       4.93\n",
       "2 2023-03-01       4.68\n",
       "3 2023-04-01       4.68\n",
       "4 2023-05-01       4.91"
      ]
     },
     "execution_count": 252,
     "metadata": {},
     "output_type": "execute_result"
    }
   ],
   "source": [
    "### evaluate risk-free\n",
    "rf_0 = rf_1.reset_index()\\\n",
    "    .rename({'index':'month'\n",
    "             , 0:'risk_free'}\n",
    "            ,axis=1)\n",
    "rf_0.head()"
   ]
  },
  {
   "cell_type": "code",
   "execution_count": 256,
   "id": "afa56bfd-a2e9-4a46-95c4-78888fe7fe0c",
   "metadata": {
    "editable": true,
    "slideshow": {
     "slide_type": "slide"
    },
    "tags": []
   },
   "outputs": [
    {
     "data": {
      "text/html": [
       "<div>\n",
       "<style scoped>\n",
       "    .dataframe tbody tr th:only-of-type {\n",
       "        vertical-align: middle;\n",
       "    }\n",
       "\n",
       "    .dataframe tbody tr th {\n",
       "        vertical-align: top;\n",
       "    }\n",
       "\n",
       "    .dataframe thead th {\n",
       "        text-align: right;\n",
       "    }\n",
       "</style>\n",
       "<table border=\"1\" class=\"dataframe\">\n",
       "  <thead>\n",
       "    <tr style=\"text-align: right;\">\n",
       "      <th></th>\n",
       "      <th>month</th>\n",
       "      <th>potential_inflation</th>\n",
       "      <th>industrial_prod</th>\n",
       "      <th>risk_free</th>\n",
       "    </tr>\n",
       "  </thead>\n",
       "  <tbody>\n",
       "    <tr>\n",
       "      <th>0</th>\n",
       "      <td>2023-01-01</td>\n",
       "      <td>325.520</td>\n",
       "      <td>102.7476</td>\n",
       "      <td>4.69</td>\n",
       "    </tr>\n",
       "    <tr>\n",
       "      <th>1</th>\n",
       "      <td>2023-02-01</td>\n",
       "      <td>327.499</td>\n",
       "      <td>102.8003</td>\n",
       "      <td>4.93</td>\n",
       "    </tr>\n",
       "    <tr>\n",
       "      <th>2</th>\n",
       "      <td>2023-03-01</td>\n",
       "      <td>328.457</td>\n",
       "      <td>102.8143</td>\n",
       "      <td>4.68</td>\n",
       "    </tr>\n",
       "    <tr>\n",
       "      <th>3</th>\n",
       "      <td>2023-04-01</td>\n",
       "      <td>329.868</td>\n",
       "      <td>103.2241</td>\n",
       "      <td>4.68</td>\n",
       "    </tr>\n",
       "    <tr>\n",
       "      <th>4</th>\n",
       "      <td>2023-05-01</td>\n",
       "      <td>330.663</td>\n",
       "      <td>102.9809</td>\n",
       "      <td>4.91</td>\n",
       "    </tr>\n",
       "  </tbody>\n",
       "</table>\n",
       "</div>"
      ],
      "text/plain": [
       "       month  potential_inflation  industrial_prod  risk_free\n",
       "0 2023-01-01              325.520         102.7476       4.69\n",
       "1 2023-02-01              327.499         102.8003       4.93\n",
       "2 2023-03-01              328.457         102.8143       4.68\n",
       "3 2023-04-01              329.868         103.2241       4.68\n",
       "4 2023-05-01              330.663         102.9809       4.91"
      ]
     },
     "execution_count": 256,
     "metadata": {},
     "output_type": "execute_result"
    }
   ],
   "source": [
    "### Align to a single dataframe\n",
    "scen1_fred = inf_0.merge(ind_0, left_index=True, right_index=True)\\\n",
    "                .merge(rf_0, left_index=True, right_index=True)\n",
    "scen1_fred = scen1_fred[['month','potential_inflation'\n",
    "                        ,'industrial_prod','risk_free']]\n",
    "scen1_fred.head()"
   ]
  },
  {
   "cell_type": "code",
   "execution_count": 258,
   "id": "b6c25b4a-f2ed-441d-b968-6c03a4d3561d",
   "metadata": {
    "editable": true,
    "slideshow": {
     "slide_type": "slide"
    },
    "tags": []
   },
   "outputs": [
    {
     "data": {
      "text/html": [
       "<div>\n",
       "<style scoped>\n",
       "    .dataframe tbody tr th:only-of-type {\n",
       "        vertical-align: middle;\n",
       "    }\n",
       "\n",
       "    .dataframe tbody tr th {\n",
       "        vertical-align: top;\n",
       "    }\n",
       "\n",
       "    .dataframe thead th {\n",
       "        text-align: right;\n",
       "    }\n",
       "</style>\n",
       "<table border=\"1\" class=\"dataframe\">\n",
       "  <thead>\n",
       "    <tr style=\"text-align: right;\">\n",
       "      <th></th>\n",
       "      <th>month</th>\n",
       "      <th>potential_inflation</th>\n",
       "      <th>industrial_prod</th>\n",
       "      <th>risk_free</th>\n",
       "    </tr>\n",
       "  </thead>\n",
       "  <tbody>\n",
       "    <tr>\n",
       "      <th>18</th>\n",
       "      <td>2024-07-31</td>\n",
       "      <td>343.324</td>\n",
       "      <td>102.5340</td>\n",
       "      <td>4.90</td>\n",
       "    </tr>\n",
       "    <tr>\n",
       "      <th>19</th>\n",
       "      <td>2024-08-31</td>\n",
       "      <td>343.643</td>\n",
       "      <td>103.0831</td>\n",
       "      <td>4.43</td>\n",
       "    </tr>\n",
       "    <tr>\n",
       "      <th>20</th>\n",
       "      <td>2024-09-30</td>\n",
       "      <td>344.322</td>\n",
       "      <td>102.5283</td>\n",
       "      <td>4.03</td>\n",
       "    </tr>\n",
       "    <tr>\n",
       "      <th>21</th>\n",
       "      <td>2024-10-31</td>\n",
       "      <td>344.837</td>\n",
       "      <td>102.1123</td>\n",
       "      <td>4.20</td>\n",
       "    </tr>\n",
       "    <tr>\n",
       "      <th>22</th>\n",
       "      <td>2024-11-30</td>\n",
       "      <td>344.803</td>\n",
       "      <td>101.9621</td>\n",
       "      <td>4.33</td>\n",
       "    </tr>\n",
       "  </tbody>\n",
       "</table>\n",
       "</div>"
      ],
      "text/plain": [
       "        month  potential_inflation  industrial_prod  risk_free\n",
       "18 2024-07-31              343.324         102.5340       4.90\n",
       "19 2024-08-31              343.643         103.0831       4.43\n",
       "20 2024-09-30              344.322         102.5283       4.03\n",
       "21 2024-10-31              344.837         102.1123       4.20\n",
       "22 2024-11-30              344.803         101.9621       4.33"
      ]
     },
     "execution_count": 258,
     "metadata": {},
     "output_type": "execute_result"
    }
   ],
   "source": [
    "### align to final day of month\n",
    "scen1_fred['month'] = scen1_fred['month'].apply(lambda x: x + MonthEnd(0))\n",
    "scen1_fred.tail()"
   ]
  },
  {
   "cell_type": "code",
   "execution_count": 260,
   "id": "62ba3cc5-e169-49b7-ba49-65934fc68001",
   "metadata": {
    "editable": true,
    "slideshow": {
     "slide_type": "slide"
    },
    "tags": []
   },
   "outputs": [
    {
     "data": {
      "text/html": [
       "<div>\n",
       "<style scoped>\n",
       "    .dataframe tbody tr th:only-of-type {\n",
       "        vertical-align: middle;\n",
       "    }\n",
       "\n",
       "    .dataframe tbody tr th {\n",
       "        vertical-align: top;\n",
       "    }\n",
       "\n",
       "    .dataframe thead th {\n",
       "        text-align: right;\n",
       "    }\n",
       "</style>\n",
       "<table border=\"1\" class=\"dataframe\">\n",
       "  <thead>\n",
       "    <tr style=\"text-align: right;\">\n",
       "      <th></th>\n",
       "      <th>Unnamed: 0</th>\n",
       "      <th>potential_inflation</th>\n",
       "      <th>industrial_prod</th>\n",
       "      <th>risk_free</th>\n",
       "    </tr>\n",
       "    <tr>\n",
       "      <th>month</th>\n",
       "      <th></th>\n",
       "      <th></th>\n",
       "      <th></th>\n",
       "      <th></th>\n",
       "    </tr>\n",
       "  </thead>\n",
       "  <tbody>\n",
       "    <tr>\n",
       "      <th>2023-01-31</th>\n",
       "      <td>0</td>\n",
       "      <td>325.520</td>\n",
       "      <td>102.7476</td>\n",
       "      <td>4.69</td>\n",
       "    </tr>\n",
       "    <tr>\n",
       "      <th>2023-02-28</th>\n",
       "      <td>1</td>\n",
       "      <td>327.499</td>\n",
       "      <td>102.8003</td>\n",
       "      <td>4.93</td>\n",
       "    </tr>\n",
       "    <tr>\n",
       "      <th>2023-03-31</th>\n",
       "      <td>2</td>\n",
       "      <td>328.457</td>\n",
       "      <td>102.8143</td>\n",
       "      <td>4.68</td>\n",
       "    </tr>\n",
       "    <tr>\n",
       "      <th>2023-04-30</th>\n",
       "      <td>3</td>\n",
       "      <td>329.868</td>\n",
       "      <td>103.2241</td>\n",
       "      <td>4.68</td>\n",
       "    </tr>\n",
       "    <tr>\n",
       "      <th>2023-05-31</th>\n",
       "      <td>4</td>\n",
       "      <td>330.663</td>\n",
       "      <td>102.9809</td>\n",
       "      <td>4.91</td>\n",
       "    </tr>\n",
       "  </tbody>\n",
       "</table>\n",
       "</div>"
      ],
      "text/plain": [
       "            Unnamed: 0  potential_inflation  industrial_prod  risk_free\n",
       "month                                                                  \n",
       "2023-01-31           0              325.520         102.7476       4.69\n",
       "2023-02-28           1              327.499         102.8003       4.93\n",
       "2023-03-31           2              328.457         102.8143       4.68\n",
       "2023-04-30           3              329.868         103.2241       4.68\n",
       "2023-05-31           4              330.663         102.9809       4.91"
      ]
     },
     "execution_count": 260,
     "metadata": {},
     "output_type": "execute_result"
    }
   ],
   "source": [
    "### persist data\n",
    "scen1_fred.to_csv(\"scen1_fred.csv\")\n",
    "\n",
    "### read back in as a test\n",
    "scen1_fred_test = pd.read_csv(\"scen1_fred.csv\", index_col='month')\n",
    "scen1_fred_test.head()"
   ]
  }
 ],
 "metadata": {
  "kernelspec": {
   "display_name": "Python 3 (ipykernel)",
   "language": "python",
   "name": "python3"
  },
  "language_info": {
   "codemirror_mode": {
    "name": "ipython",
    "version": 3
   },
   "file_extension": ".py",
   "mimetype": "text/x-python",
   "name": "python",
   "nbconvert_exporter": "python",
   "pygments_lexer": "ipython3",
   "version": "3.12.4"
  }
 },
 "nbformat": 4,
 "nbformat_minor": 5
}
