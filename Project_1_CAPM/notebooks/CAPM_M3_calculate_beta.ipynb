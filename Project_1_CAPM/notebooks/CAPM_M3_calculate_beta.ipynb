{
 "cells": [
  {
   "cell_type": "markdown",
   "id": "86f7ab5e-fe87-4ce5-b93c-14d38f9adb6d",
   "metadata": {
    "editable": true,
    "slideshow": {
     "slide_type": "slide"
    },
    "tags": []
   },
   "source": [
    "### Goals for Milestone 3:\n",
    "<li> Build to daily values </li>\n",
    "<li> Save off and reload </li>\n",
    "<li> Build regression </li>\n",
    "<li> Explain components of outputs </li>\n",
    "<li> Calculate Betas for Tech Scenario </li>\n",
    "<li> Evaluate Markets for Environmental Services </li>"
   ]
  },
  {
   "cell_type": "code",
   "execution_count": 5,
   "id": "4c8ea0b3-cad1-4e3b-bfb4-f56b965ddc3e",
   "metadata": {},
   "outputs": [],
   "source": [
    "fedkey = 'Need To Input Your FRed API Key Here'"
   ]
  },
  {
   "cell_type": "markdown",
   "id": "69a1eb93-e6c9-492f-b7a9-144e292e5c9f",
   "metadata": {
    "editable": true,
    "slideshow": {
     "slide_type": "slide"
    },
    "tags": []
   },
   "source": [
    "### Get libraries"
   ]
  },
  {
   "cell_type": "code",
   "execution_count": 1,
   "id": "9ba1cdc6-a3de-49aa-8817-59312ab6d343",
   "metadata": {
    "editable": true,
    "slideshow": {
     "slide_type": "fragment"
    },
    "tags": []
   },
   "outputs": [],
   "source": [
    "import os\n",
    "import yfinance as yf\n",
    "import numpy as np\n",
    "import pandas as pd\n",
    "import seaborn as sns; sns.set()\n",
    "import statsmodels.api as sm\n",
    "from matplotlib import pyplot as plt\n",
    "from fredapi import Fred"
   ]
  },
  {
   "cell_type": "markdown",
   "id": "4dca2100-5f85-4b8f-8b49-ccd7814c918d",
   "metadata": {
    "editable": true,
    "slideshow": {
     "slide_type": "slide"
    },
    "tags": []
   },
   "source": [
    "### Scenario 1: Tech sector Q1'21"
   ]
  },
  {
   "cell_type": "code",
   "execution_count": 2,
   "id": "56332523-b5d5-4ac6-ae09-3138826bc4be",
   "metadata": {
    "editable": true,
    "slideshow": {
     "slide_type": "fragment"
    },
    "tags": []
   },
   "outputs": [],
   "source": [
    "### parameters\n",
    "### tech stocks and use the S&P500 as market\n",
    "tickers = ['AAPL','IBM','INTC','MSFT','^GSPC']\n",
    "\n",
    "### FRED series code for 3-month T-bill\n",
    "rf_series = 'DGS3MO'\n",
    "\n",
    "### dates and interval\n",
    "_start = '2021-01-01'\n",
    "_end = '2021-04-01'\n",
    "_fedend = '2021-03-31'\n",
    "_interval = '1d'"
   ]
  },
  {
   "cell_type": "code",
   "execution_count": 3,
   "id": "b4e5edbd-90da-4835-a36a-e82bdf5b66f7",
   "metadata": {
    "editable": true,
    "slideshow": {
     "slide_type": "fragment"
    },
    "tags": []
   },
   "outputs": [
    {
     "name": "stderr",
     "output_type": "stream",
     "text": [
      "[*********************100%%**********************]  5 of 5 completed\n"
     ]
    }
   ],
   "source": [
    "### Stock data\n",
    "techstock = yf.download(tickers\n",
    "                        , start=_start\n",
    "                        , end=_end\n",
    "                        , interval=_interval)\n",
    "\n",
    "tech_prices=techstock['Close']\n",
    "tech_prices=tech_prices.rename({'^GSPC':'GSPC'}, axis='columns')"
   ]
  },
  {
   "cell_type": "code",
   "execution_count": 6,
   "id": "1e64fa52-b07a-4d2c-958d-a842106f7749",
   "metadata": {
    "editable": true,
    "slideshow": {
     "slide_type": "slide"
    },
    "tags": []
   },
   "outputs": [],
   "source": [
    "### Risk-free rate data\n",
    "fred = Fred(api_key = fedkey)\n",
    "risk_free=fred.get_series(series_id = rf_series).dropna()\n",
    "risk_free=risk_free[_start: _fedend]\n",
    "risk_free_daily = risk_free/252"
   ]
  },
  {
   "cell_type": "code",
   "execution_count": 7,
   "id": "7f66f156-3c19-4e15-8cf0-50eaaa3ad100",
   "metadata": {
    "editable": true,
    "slideshow": {
     "slide_type": "fragment"
    },
    "tags": []
   },
   "outputs": [],
   "source": [
    "### Single dataframe for modeling\n",
    "tech_prices_returns = tech_prices.pct_change().dropna()\n",
    "risk_free_daily = risk_free/252\n",
    "scen1_returns = tech_prices_returns.join(risk_free_daily.rename('rf_daily'))\n",
    "\n",
    "### Calculate excess returns\n",
    "tech_scen = [\"AAPL\", \"IBM\", \"MSFT\", \"INTC\", \"GSPC\"]\n",
    "for i in tech_scen:\n",
    "    scen1_returns[\"xs_rtn_\"+str(i)] = scen1_returns[i] - scen1_returns['rf_daily']"
   ]
  },
  {
   "cell_type": "code",
   "execution_count": 8,
   "id": "1ecb6f0a-83b1-49ce-a06d-fc400e792e1b",
   "metadata": {
    "editable": true,
    "slideshow": {
     "slide_type": "slide"
    },
    "tags": []
   },
   "outputs": [
    {
     "data": {
      "text/html": [
       "<div>\n",
       "<style scoped>\n",
       "    .dataframe tbody tr th:only-of-type {\n",
       "        vertical-align: middle;\n",
       "    }\n",
       "\n",
       "    .dataframe tbody tr th {\n",
       "        vertical-align: top;\n",
       "    }\n",
       "\n",
       "    .dataframe thead th {\n",
       "        text-align: right;\n",
       "    }\n",
       "</style>\n",
       "<table border=\"1\" class=\"dataframe\">\n",
       "  <thead>\n",
       "    <tr style=\"text-align: right;\">\n",
       "      <th></th>\n",
       "      <th>AAPL</th>\n",
       "      <th>IBM</th>\n",
       "      <th>INTC</th>\n",
       "      <th>MSFT</th>\n",
       "      <th>GSPC</th>\n",
       "      <th>rf_daily</th>\n",
       "      <th>xs_rtn_AAPL</th>\n",
       "      <th>xs_rtn_IBM</th>\n",
       "      <th>xs_rtn_MSFT</th>\n",
       "      <th>xs_rtn_INTC</th>\n",
       "      <th>xs_rtn_GSPC</th>\n",
       "    </tr>\n",
       "    <tr>\n",
       "      <th>Date</th>\n",
       "      <th></th>\n",
       "      <th></th>\n",
       "      <th></th>\n",
       "      <th></th>\n",
       "      <th></th>\n",
       "      <th></th>\n",
       "      <th></th>\n",
       "      <th></th>\n",
       "      <th></th>\n",
       "      <th></th>\n",
       "      <th></th>\n",
       "    </tr>\n",
       "  </thead>\n",
       "  <tbody>\n",
       "    <tr>\n",
       "      <th>2021-03-25</th>\n",
       "      <td>0.004164</td>\n",
       "      <td>0.018757</td>\n",
       "      <td>-0.000322</td>\n",
       "      <td>-0.013251</td>\n",
       "      <td>0.005240</td>\n",
       "      <td>0.000079</td>\n",
       "      <td>0.004084</td>\n",
       "      <td>0.018677</td>\n",
       "      <td>-0.013330</td>\n",
       "      <td>-0.000402</td>\n",
       "      <td>0.005161</td>\n",
       "    </tr>\n",
       "    <tr>\n",
       "      <th>2021-03-26</th>\n",
       "      <td>0.005141</td>\n",
       "      <td>0.024874</td>\n",
       "      <td>0.045953</td>\n",
       "      <td>0.017819</td>\n",
       "      <td>0.016631</td>\n",
       "      <td>0.000079</td>\n",
       "      <td>0.005062</td>\n",
       "      <td>0.024795</td>\n",
       "      <td>0.017739</td>\n",
       "      <td>0.045874</td>\n",
       "      <td>0.016552</td>\n",
       "    </tr>\n",
       "    <tr>\n",
       "      <th>2021-03-29</th>\n",
       "      <td>0.001485</td>\n",
       "      <td>-0.003813</td>\n",
       "      <td>-0.005704</td>\n",
       "      <td>-0.005244</td>\n",
       "      <td>-0.000868</td>\n",
       "      <td>0.000119</td>\n",
       "      <td>0.001366</td>\n",
       "      <td>-0.003932</td>\n",
       "      <td>-0.005363</td>\n",
       "      <td>-0.005823</td>\n",
       "      <td>-0.000987</td>\n",
       "    </tr>\n",
       "    <tr>\n",
       "      <th>2021-03-30</th>\n",
       "      <td>-0.012274</td>\n",
       "      <td>-0.008391</td>\n",
       "      <td>-0.011318</td>\n",
       "      <td>-0.014411</td>\n",
       "      <td>-0.003158</td>\n",
       "      <td>0.000079</td>\n",
       "      <td>-0.012354</td>\n",
       "      <td>-0.008470</td>\n",
       "      <td>-0.014490</td>\n",
       "      <td>-0.011397</td>\n",
       "      <td>-0.003237</td>\n",
       "    </tr>\n",
       "    <tr>\n",
       "      <th>2021-03-31</th>\n",
       "      <td>0.018766</td>\n",
       "      <td>-0.010837</td>\n",
       "      <td>0.003607</td>\n",
       "      <td>0.016907</td>\n",
       "      <td>0.003622</td>\n",
       "      <td>0.000119</td>\n",
       "      <td>0.018647</td>\n",
       "      <td>-0.010956</td>\n",
       "      <td>0.016788</td>\n",
       "      <td>0.003488</td>\n",
       "      <td>0.003503</td>\n",
       "    </tr>\n",
       "  </tbody>\n",
       "</table>\n",
       "</div>"
      ],
      "text/plain": [
       "                AAPL       IBM      INTC      MSFT      GSPC  rf_daily  \\\n",
       "Date                                                                     \n",
       "2021-03-25  0.004164  0.018757 -0.000322 -0.013251  0.005240  0.000079   \n",
       "2021-03-26  0.005141  0.024874  0.045953  0.017819  0.016631  0.000079   \n",
       "2021-03-29  0.001485 -0.003813 -0.005704 -0.005244 -0.000868  0.000119   \n",
       "2021-03-30 -0.012274 -0.008391 -0.011318 -0.014411 -0.003158  0.000079   \n",
       "2021-03-31  0.018766 -0.010837  0.003607  0.016907  0.003622  0.000119   \n",
       "\n",
       "            xs_rtn_AAPL  xs_rtn_IBM  xs_rtn_MSFT  xs_rtn_INTC  xs_rtn_GSPC  \n",
       "Date                                                                        \n",
       "2021-03-25     0.004084    0.018677    -0.013330    -0.000402     0.005161  \n",
       "2021-03-26     0.005062    0.024795     0.017739     0.045874     0.016552  \n",
       "2021-03-29     0.001366   -0.003932    -0.005363    -0.005823    -0.000987  \n",
       "2021-03-30    -0.012354   -0.008470    -0.014490    -0.011397    -0.003237  \n",
       "2021-03-31     0.018647   -0.010956     0.016788     0.003488     0.003503  "
      ]
     },
     "execution_count": 8,
     "metadata": {},
     "output_type": "execute_result"
    }
   ],
   "source": [
    "### A look pre-modeling\n",
    "scen1_returns.tail(5)"
   ]
  },
  {
   "cell_type": "markdown",
   "id": "e1eba743-35a0-4da7-aa27-8b37f643ee81",
   "metadata": {
    "editable": true,
    "slideshow": {
     "slide_type": "slide"
    },
    "tags": []
   },
   "source": [
    "## Good Practice - save your data version"
   ]
  },
  {
   "cell_type": "code",
   "execution_count": 9,
   "id": "99fa645f-ab74-4d4a-bdb1-7fb832804741",
   "metadata": {
    "editable": true,
    "slideshow": {
     "slide_type": "fragment"
    },
    "tags": []
   },
   "outputs": [],
   "source": [
    "### Save off for re-runs?\n",
    "os.chdir('B:\\\\Documents\\\\Manning')\n",
    "os.getcwd()\n",
    "scen1_returns.to_csv('scen1_tech_returns.csv')"
   ]
  },
  {
   "cell_type": "code",
   "execution_count": 10,
   "id": "7644b1b5-88e6-4499-b514-9192e2ec6c14",
   "metadata": {
    "editable": true,
    "slideshow": {
     "slide_type": "fragment"
    },
    "tags": []
   },
   "outputs": [
    {
     "data": {
      "text/html": [
       "<div>\n",
       "<style scoped>\n",
       "    .dataframe tbody tr th:only-of-type {\n",
       "        vertical-align: middle;\n",
       "    }\n",
       "\n",
       "    .dataframe tbody tr th {\n",
       "        vertical-align: top;\n",
       "    }\n",
       "\n",
       "    .dataframe thead th {\n",
       "        text-align: right;\n",
       "    }\n",
       "</style>\n",
       "<table border=\"1\" class=\"dataframe\">\n",
       "  <thead>\n",
       "    <tr style=\"text-align: right;\">\n",
       "      <th></th>\n",
       "      <th>AAPL</th>\n",
       "      <th>IBM</th>\n",
       "      <th>INTC</th>\n",
       "      <th>MSFT</th>\n",
       "      <th>GSPC</th>\n",
       "      <th>rf_daily</th>\n",
       "      <th>xs_rtn_AAPL</th>\n",
       "      <th>xs_rtn_IBM</th>\n",
       "      <th>xs_rtn_MSFT</th>\n",
       "      <th>xs_rtn_INTC</th>\n",
       "      <th>xs_rtn_GSPC</th>\n",
       "    </tr>\n",
       "    <tr>\n",
       "      <th>Date</th>\n",
       "      <th></th>\n",
       "      <th></th>\n",
       "      <th></th>\n",
       "      <th></th>\n",
       "      <th></th>\n",
       "      <th></th>\n",
       "      <th></th>\n",
       "      <th></th>\n",
       "      <th></th>\n",
       "      <th></th>\n",
       "      <th></th>\n",
       "    </tr>\n",
       "  </thead>\n",
       "  <tbody>\n",
       "    <tr>\n",
       "      <th>2021-01-05</th>\n",
       "      <td>0.012364</td>\n",
       "      <td>0.017751</td>\n",
       "      <td>0.018925</td>\n",
       "      <td>0.000965</td>\n",
       "      <td>0.007083</td>\n",
       "      <td>0.000357</td>\n",
       "      <td>0.012007</td>\n",
       "      <td>0.017393</td>\n",
       "      <td>0.000607</td>\n",
       "      <td>0.018568</td>\n",
       "      <td>0.006725</td>\n",
       "    </tr>\n",
       "    <tr>\n",
       "      <th>2021-01-06</th>\n",
       "      <td>-0.033662</td>\n",
       "      <td>0.024972</td>\n",
       "      <td>0.009682</td>\n",
       "      <td>-0.025929</td>\n",
       "      <td>0.005710</td>\n",
       "      <td>0.000357</td>\n",
       "      <td>-0.034019</td>\n",
       "      <td>0.024615</td>\n",
       "      <td>-0.026286</td>\n",
       "      <td>0.009325</td>\n",
       "      <td>0.005353</td>\n",
       "    </tr>\n",
       "    <tr>\n",
       "      <th>2021-01-07</th>\n",
       "      <td>0.034123</td>\n",
       "      <td>-0.002320</td>\n",
       "      <td>0.021331</td>\n",
       "      <td>0.028457</td>\n",
       "      <td>0.014847</td>\n",
       "      <td>0.000357</td>\n",
       "      <td>0.033766</td>\n",
       "      <td>-0.002678</td>\n",
       "      <td>0.028100</td>\n",
       "      <td>0.020974</td>\n",
       "      <td>0.014490</td>\n",
       "    </tr>\n",
       "    <tr>\n",
       "      <th>2021-01-08</th>\n",
       "      <td>0.008631</td>\n",
       "      <td>-0.003566</td>\n",
       "      <td>-0.010347</td>\n",
       "      <td>0.006093</td>\n",
       "      <td>0.005492</td>\n",
       "      <td>0.000317</td>\n",
       "      <td>0.008314</td>\n",
       "      <td>-0.003884</td>\n",
       "      <td>0.005775</td>\n",
       "      <td>-0.010664</td>\n",
       "      <td>0.005174</td>\n",
       "    </tr>\n",
       "    <tr>\n",
       "      <th>2021-01-11</th>\n",
       "      <td>-0.023249</td>\n",
       "      <td>0.000389</td>\n",
       "      <td>-0.002130</td>\n",
       "      <td>-0.009699</td>\n",
       "      <td>-0.006555</td>\n",
       "      <td>0.000317</td>\n",
       "      <td>-0.023566</td>\n",
       "      <td>0.000072</td>\n",
       "      <td>-0.010016</td>\n",
       "      <td>-0.002447</td>\n",
       "      <td>-0.006872</td>\n",
       "    </tr>\n",
       "  </tbody>\n",
       "</table>\n",
       "</div>"
      ],
      "text/plain": [
       "                AAPL       IBM      INTC      MSFT      GSPC  rf_daily  \\\n",
       "Date                                                                     \n",
       "2021-01-05  0.012364  0.017751  0.018925  0.000965  0.007083  0.000357   \n",
       "2021-01-06 -0.033662  0.024972  0.009682 -0.025929  0.005710  0.000357   \n",
       "2021-01-07  0.034123 -0.002320  0.021331  0.028457  0.014847  0.000357   \n",
       "2021-01-08  0.008631 -0.003566 -0.010347  0.006093  0.005492  0.000317   \n",
       "2021-01-11 -0.023249  0.000389 -0.002130 -0.009699 -0.006555  0.000317   \n",
       "\n",
       "            xs_rtn_AAPL  xs_rtn_IBM  xs_rtn_MSFT  xs_rtn_INTC  xs_rtn_GSPC  \n",
       "Date                                                                        \n",
       "2021-01-05     0.012007    0.017393     0.000607     0.018568     0.006725  \n",
       "2021-01-06    -0.034019    0.024615    -0.026286     0.009325     0.005353  \n",
       "2021-01-07     0.033766   -0.002678     0.028100     0.020974     0.014490  \n",
       "2021-01-08     0.008314   -0.003884     0.005775    -0.010664     0.005174  \n",
       "2021-01-11    -0.023566    0.000072    -0.010016    -0.002447    -0.006872  "
      ]
     },
     "execution_count": 10,
     "metadata": {},
     "output_type": "execute_result"
    }
   ],
   "source": [
    "input_to_model = pd.read_csv('scen1_tech_returns.csv', index_col=\"Date\")\n",
    "input_to_model.head()"
   ]
  },
  {
   "cell_type": "code",
   "execution_count": 11,
   "id": "e79e5e51-e97f-4551-b848-71c63ec2c921",
   "metadata": {
    "editable": true,
    "slideshow": {
     "slide_type": "skip"
    },
    "tags": []
   },
   "outputs": [
    {
     "data": {
      "image/png": "[encoded data removed]",
      "text/plain": [
       "<Figure size 1200x400 with 1 Axes>"
      ]
     },
     "metadata": {},
     "output_type": "display_data"
    }
   ],
   "source": [
    "\n",
    "plt.figure(figsize=(12,4))\n",
    "sns.lineplot(input_to_model[['AAPL','GSPC']])\n",
    "## Clean up the x-axis\n",
    "step_size = 14\n",
    "plt.xticks(ticks=range(0, len(input_to_model), step_size))\n",
    "\n",
    "plt.show()"
   ]
  },
  {
   "cell_type": "markdown",
   "id": "51a959d9-cd2e-47d9-b9eb-610c5534807a",
   "metadata": {
    "editable": true,
    "slideshow": {
     "slide_type": "slide"
    },
    "tags": []
   },
   "source": [
    "### The relationship we suspect"
   ]
  },
  {
   "cell_type": "code",
   "execution_count": 12,
   "id": "c2cfc2f5-b723-4fa3-9b6e-b697fb3c9d89",
   "metadata": {
    "editable": true,
    "slideshow": {
     "slide_type": "fragment"
    },
    "tags": []
   },
   "outputs": [
    {
     "data": {
      "image/png": "[encoded data removed]",
      "text/plain": [
       "<Figure size 1200x400 with 1 Axes>"
      ]
     },
     "metadata": {},
     "output_type": "display_data"
    }
   ],
   "source": [
    "plt.figure(figsize=(12,4))\n",
    "sns.lineplot(input_to_model[['xs_rtn_AAPL','xs_rtn_GSPC']])\n",
    "step_size = 14\n",
    "plt.xticks(ticks=range(0, len(input_to_model), step_size))\n",
    "plt.show()"
   ]
  },
  {
   "cell_type": "markdown",
   "id": "7381f81a-692c-46bf-aad8-7422b9cf4cb4",
   "metadata": {
    "editable": true,
    "slideshow": {
     "slide_type": "slide"
    },
    "tags": []
   },
   "source": [
    "## Now generate the model"
   ]
  },
  {
   "cell_type": "code",
   "execution_count": 13,
   "id": "39419a85-bf42-4f6b-8577-0bac6e948fd5",
   "metadata": {
    "editable": true,
    "slideshow": {
     "slide_type": "fragment"
    },
    "tags": []
   },
   "outputs": [],
   "source": [
    "### Create two pandas series to input to model\n",
    "y_aapl = input_to_model['xs_rtn_AAPL']\n",
    "X = input_to_model['xs_rtn_GSPC']"
   ]
  },
  {
   "cell_type": "code",
   "execution_count": 14,
   "id": "310d3253-76c4-4e1a-8e70-f092f119c4c4",
   "metadata": {
    "editable": true,
    "slideshow": {
     "slide_type": "fragment"
    },
    "tags": []
   },
   "outputs": [
    {
     "name": "stdout",
     "output_type": "stream",
     "text": [
      "<class 'pandas.core.frame.DataFrame'>\n",
      "            xs_rtn_GSPC  const\n",
      "Date                          \n",
      "2021-01-05     0.006725    1.0\n",
      "2021-01-06     0.005353    1.0\n",
      "2021-01-07     0.014490    1.0\n",
      "2021-01-08     0.005174    1.0\n",
      "2021-01-11    -0.006872    1.0\n"
     ]
    }
   ],
   "source": [
    "### Constant value captures variation not explained by market\n",
    "X = sm.add_constant(X, prepend=False)\n",
    "print(type(X))\n",
    "print(X.head())"
   ]
  },
  {
   "cell_type": "code",
   "execution_count": 15,
   "id": "8ea25471-6726-485e-978c-c50bb1ec3679",
   "metadata": {
    "editable": true,
    "slideshow": {
     "slide_type": "subslide"
    },
    "tags": []
   },
   "outputs": [
    {
     "name": "stdout",
     "output_type": "stream",
     "text": [
      "<class 'statsmodels.regression.linear_model.OLS'>\n"
     ]
    }
   ],
   "source": [
    "### Call to statsmodels OLS object to create model\n",
    "CAPM_AAPL = sm.OLS(y_aapl, X)\n",
    "print(type(CAPM_AAPL))"
   ]
  },
  {
   "cell_type": "code",
   "execution_count": 16,
   "id": "161c3d64-c199-4a01-8123-98fca27ca3b2",
   "metadata": {
    "editable": true,
    "slideshow": {
     "slide_type": "fragment"
    },
    "tags": []
   },
   "outputs": [
    {
     "name": "stdout",
     "output_type": "stream",
     "text": [
      "<class 'statsmodels.regression.linear_model.RegressionResultsWrapper'>\n"
     ]
    }
   ],
   "source": [
    "### Fit model to data\n",
    "CAPM_results_AAPL = CAPM_AAPL.fit()\n",
    "print(type(CAPM_results_AAPL))"
   ]
  },
  {
   "cell_type": "code",
   "execution_count": 17,
   "id": "01f8250a-be19-4b86-b67a-a08e46abf2ac",
   "metadata": {
    "editable": true,
    "slideshow": {
     "slide_type": "slide"
    },
    "tags": []
   },
   "outputs": [
    {
     "data": {
      "text/html": [
       "<table class=\"simpletable\">\n",
       "<caption>OLS Regression Results</caption>\n",
       "<tr>\n",
       "  <th>Dep. Variable:</th>       <td>xs_rtn_AAPL</td>   <th>  R-squared:         </th> <td>   0.432</td>\n",
       "</tr>\n",
       "<tr>\n",
       "  <th>Model:</th>                   <td>OLS</td>       <th>  Adj. R-squared:    </th> <td>   0.422</td>\n",
       "</tr>\n",
       "<tr>\n",
       "  <th>Method:</th>             <td>Least Squares</td>  <th>  F-statistic:       </th> <td>   44.08</td>\n",
       "</tr>\n",
       "<tr>\n",
       "  <th>Date:</th>             <td>Sat, 28 Sep 2024</td> <th>  Prob (F-statistic):</th> <td>1.18e-08</td>\n",
       "</tr>\n",
       "<tr>\n",
       "  <th>Time:</th>                 <td>23:54:34</td>     <th>  Log-Likelihood:    </th> <td>  164.60</td>\n",
       "</tr>\n",
       "<tr>\n",
       "  <th>No. Observations:</th>      <td>    60</td>      <th>  AIC:               </th> <td>  -325.2</td>\n",
       "</tr>\n",
       "<tr>\n",
       "  <th>Df Residuals:</th>          <td>    58</td>      <th>  BIC:               </th> <td>  -321.0</td>\n",
       "</tr>\n",
       "<tr>\n",
       "  <th>Df Model:</th>              <td>     1</td>      <th>                     </th>     <td> </td>   \n",
       "</tr>\n",
       "<tr>\n",
       "  <th>Covariance Type:</th>      <td>nonrobust</td>    <th>                     </th>     <td> </td>   \n",
       "</tr>\n",
       "</table>\n",
       "<table class=\"simpletable\">\n",
       "<tr>\n",
       "       <td></td>          <th>coef</th>     <th>std err</th>      <th>t</th>      <th>P>|t|</th>  <th>[0.025</th>    <th>0.975]</th>  \n",
       "</tr>\n",
       "<tr>\n",
       "  <th>xs_rtn_GSPC</th> <td>    1.3889</td> <td>    0.209</td> <td>    6.640</td> <td> 0.000</td> <td>    0.970</td> <td>    1.808</td>\n",
       "</tr>\n",
       "<tr>\n",
       "  <th>const</th>       <td>   -0.0024</td> <td>    0.002</td> <td>   -1.158</td> <td> 0.252</td> <td>   -0.006</td> <td>    0.002</td>\n",
       "</tr>\n",
       "</table>\n",
       "<table class=\"simpletable\">\n",
       "<tr>\n",
       "  <th>Omnibus:</th>       <td> 2.641</td> <th>  Durbin-Watson:     </th> <td>   1.999</td>\n",
       "</tr>\n",
       "<tr>\n",
       "  <th>Prob(Omnibus):</th> <td> 0.267</td> <th>  Jarque-Bera (JB):  </th> <td>   1.938</td>\n",
       "</tr>\n",
       "<tr>\n",
       "  <th>Skew:</th>          <td>-0.185</td> <th>  Prob(JB):          </th> <td>   0.379</td>\n",
       "</tr>\n",
       "<tr>\n",
       "  <th>Kurtosis:</th>      <td> 3.799</td> <th>  Cond. No.          </th> <td>    102.</td>\n",
       "</tr>\n",
       "</table><br/><br/>Notes:<br/>[1] Standard Errors assume that the covariance matrix of the errors is correctly specified."
      ],
      "text/latex": [
       "\\begin{center}\n",
       "\\begin{tabular}{lclc}\n",
       "\\toprule\n",
       "\\textbf{Dep. Variable:}    &  xs\\_rtn\\_AAPL   & \\textbf{  R-squared:         } &     0.432   \\\\\n",
       "\\textbf{Model:}            &       OLS        & \\textbf{  Adj. R-squared:    } &     0.422   \\\\\n",
       "\\textbf{Method:}           &  Least Squares   & \\textbf{  F-statistic:       } &     44.08   \\\\\n",
       "\\textbf{Date:}             & Sat, 28 Sep 2024 & \\textbf{  Prob (F-statistic):} &  1.18e-08   \\\\\n",
       "\\textbf{Time:}             &     23:54:34     & \\textbf{  Log-Likelihood:    } &    164.60   \\\\\n",
       "\\textbf{No. Observations:} &          60      & \\textbf{  AIC:               } &    -325.2   \\\\\n",
       "\\textbf{Df Residuals:}     &          58      & \\textbf{  BIC:               } &    -321.0   \\\\\n",
       "\\textbf{Df Model:}         &           1      & \\textbf{                     } &             \\\\\n",
       "\\textbf{Covariance Type:}  &    nonrobust     & \\textbf{                     } &             \\\\\n",
       "\\bottomrule\n",
       "\\end{tabular}\n",
       "\\begin{tabular}{lcccccc}\n",
       "                       & \\textbf{coef} & \\textbf{std err} & \\textbf{t} & \\textbf{P$> |$t$|$} & \\textbf{[0.025} & \\textbf{0.975]}  \\\\\n",
       "\\midrule\n",
       "\\textbf{xs\\_rtn\\_GSPC} &       1.3889  &        0.209     &     6.640  &         0.000        &        0.970    &        1.808     \\\\\n",
       "\\textbf{const}         &      -0.0024  &        0.002     &    -1.158  &         0.252        &       -0.006    &        0.002     \\\\\n",
       "\\bottomrule\n",
       "\\end{tabular}\n",
       "\\begin{tabular}{lclc}\n",
       "\\textbf{Omnibus:}       &  2.641 & \\textbf{  Durbin-Watson:     } &    1.999  \\\\\n",
       "\\textbf{Prob(Omnibus):} &  0.267 & \\textbf{  Jarque-Bera (JB):  } &    1.938  \\\\\n",
       "\\textbf{Skew:}          & -0.185 & \\textbf{  Prob(JB):          } &    0.379  \\\\\n",
       "\\textbf{Kurtosis:}      &  3.799 & \\textbf{  Cond. No.          } &     102.  \\\\\n",
       "\\bottomrule\n",
       "\\end{tabular}\n",
       "%\\caption{OLS Regression Results}\n",
       "\\end{center}\n",
       "\n",
       "Notes: \\newline\n",
       " [1] Standard Errors assume that the covariance matrix of the errors is correctly specified."
      ],
      "text/plain": [
       "<class 'statsmodels.iolib.summary.Summary'>\n",
       "\"\"\"\n",
       "                            OLS Regression Results                            \n",
       "==============================================================================\n",
       "Dep. Variable:            xs_rtn_AAPL   R-squared:                       0.432\n",
       "Model:                            OLS   Adj. R-squared:                  0.422\n",
       "Method:                 Least Squares   F-statistic:                     44.08\n",
       "Date:                Sat, 28 Sep 2024   Prob (F-statistic):           1.18e-08\n",
       "Time:                        23:54:34   Log-Likelihood:                 164.60\n",
       "No. Observations:                  60   AIC:                            -325.2\n",
       "Df Residuals:                      58   BIC:                            -321.0\n",
       "Df Model:                           1                                         \n",
       "Covariance Type:            nonrobust                                         \n",
       "===============================================================================\n",
       "                  coef    std err          t      P>|t|      [0.025      0.975]\n",
       "-------------------------------------------------------------------------------\n",
       "xs_rtn_GSPC     1.3889      0.209      6.640      0.000       0.970       1.808\n",
       "const          -0.0024      0.002     -1.158      0.252      -0.006       0.002\n",
       "==============================================================================\n",
       "Omnibus:                        2.641   Durbin-Watson:                   1.999\n",
       "Prob(Omnibus):                  0.267   Jarque-Bera (JB):                1.938\n",
       "Skew:                          -0.185   Prob(JB):                        0.379\n",
       "Kurtosis:                       3.799   Cond. No.                         102.\n",
       "==============================================================================\n",
       "\n",
       "Notes:\n",
       "[1] Standard Errors assume that the covariance matrix of the errors is correctly specified.\n",
       "\"\"\""
      ]
     },
     "execution_count": 17,
     "metadata": {},
     "output_type": "execute_result"
    }
   ],
   "source": [
    "## Share results\n",
    "CAPM_results_AAPL.summary()"
   ]
  },
  {
   "cell_type": "markdown",
   "id": "fc00e1b5-f41a-4b43-b3d8-8263813344ba",
   "metadata": {
    "editable": true,
    "slideshow": {
     "slide_type": "slide"
    },
    "tags": []
   },
   "source": [
    "## Break down the model outputs"
   ]
  },
  {
   "cell_type": "code",
   "execution_count": 18,
   "id": "319a8517-434a-4bc4-8e69-dc6f006f223d",
   "metadata": {
    "editable": true,
    "slideshow": {
     "slide_type": "fragment"
    },
    "tags": []
   },
   "outputs": [
    {
     "data": {
      "text/html": [
       "<div>\n",
       "<style scoped>\n",
       "    .dataframe tbody tr th:only-of-type {\n",
       "        vertical-align: middle;\n",
       "    }\n",
       "\n",
       "    .dataframe tbody tr th {\n",
       "        vertical-align: top;\n",
       "    }\n",
       "\n",
       "    .dataframe thead th {\n",
       "        text-align: right;\n",
       "    }\n",
       "</style>\n",
       "<table border=\"1\" class=\"dataframe\">\n",
       "  <thead>\n",
       "    <tr style=\"text-align: right;\">\n",
       "      <th></th>\n",
       "      <th>Coef.</th>\n",
       "      <th>Std.Err.</th>\n",
       "      <th>t</th>\n",
       "      <th>P&gt;|t|</th>\n",
       "      <th>[0.025</th>\n",
       "      <th>0.975]</th>\n",
       "    </tr>\n",
       "  </thead>\n",
       "  <tbody>\n",
       "    <tr>\n",
       "      <th>xs_rtn_GSPC</th>\n",
       "      <td>1.388851</td>\n",
       "      <td>0.209178</td>\n",
       "      <td>6.639572</td>\n",
       "      <td>1.178356e-08</td>\n",
       "      <td>0.970136</td>\n",
       "      <td>1.807566</td>\n",
       "    </tr>\n",
       "    <tr>\n",
       "      <th>const</th>\n",
       "      <td>-0.002381</td>\n",
       "      <td>0.002056</td>\n",
       "      <td>-1.158249</td>\n",
       "      <td>2.515096e-01</td>\n",
       "      <td>-0.006497</td>\n",
       "      <td>0.001734</td>\n",
       "    </tr>\n",
       "  </tbody>\n",
       "</table>\n",
       "</div>"
      ],
      "text/plain": [
       "                Coef.  Std.Err.         t         P>|t|    [0.025    0.975]\n",
       "xs_rtn_GSPC  1.388851  0.209178  6.639572  1.178356e-08  0.970136  1.807566\n",
       "const       -0.002381  0.002056 -1.158249  2.515096e-01 -0.006497  0.001734"
      ]
     },
     "execution_count": 18,
     "metadata": {},
     "output_type": "execute_result"
    }
   ],
   "source": [
    "## We're really interested in coefficients and significance\n",
    "CAPM_results_AAPL.summary2().tables[1]"
   ]
  },
  {
   "cell_type": "code",
   "execution_count": 19,
   "id": "35509ef7-ee0d-46ae-a9f7-034471f4cd63",
   "metadata": {
    "editable": true,
    "slideshow": {
     "slide_type": "fragment"
    },
    "tags": []
   },
   "outputs": [
    {
     "data": {
      "text/plain": [
       "xs_rtn_GSPC    1.388851\n",
       "const         -0.002381\n",
       "dtype: float64"
      ]
     },
     "execution_count": 19,
     "metadata": {},
     "output_type": "execute_result"
    }
   ],
   "source": [
    "# Beta coefficient is the variation with the market\n",
    "# Alpha is variation unexplained by market\n",
    "CAPM_results_AAPL.params"
   ]
  },
  {
   "cell_type": "markdown",
   "id": "4687ac02-2ecf-46bd-a945-41e192a49ab9",
   "metadata": {
    "editable": true,
    "slideshow": {
     "slide_type": "slide"
    },
    "tags": []
   },
   "source": [
    "## Break down the model outputs"
   ]
  },
  {
   "cell_type": "code",
   "execution_count": 20,
   "id": "9c3ff0a7-2e6a-455c-bbef-a01dfe003a25",
   "metadata": {
    "editable": true,
    "slideshow": {
     "slide_type": "fragment"
    },
    "tags": []
   },
   "outputs": [
    {
     "data": {
      "text/html": [
       "<div>\n",
       "<style scoped>\n",
       "    .dataframe tbody tr th:only-of-type {\n",
       "        vertical-align: middle;\n",
       "    }\n",
       "\n",
       "    .dataframe tbody tr th {\n",
       "        vertical-align: top;\n",
       "    }\n",
       "\n",
       "    .dataframe thead th {\n",
       "        text-align: right;\n",
       "    }\n",
       "</style>\n",
       "<table border=\"1\" class=\"dataframe\">\n",
       "  <thead>\n",
       "    <tr style=\"text-align: right;\">\n",
       "      <th></th>\n",
       "      <th>Coef.</th>\n",
       "      <th>Std.Err.</th>\n",
       "      <th>t</th>\n",
       "      <th>P&gt;|t|</th>\n",
       "      <th>[0.025</th>\n",
       "      <th>0.975]</th>\n",
       "    </tr>\n",
       "  </thead>\n",
       "  <tbody>\n",
       "    <tr>\n",
       "      <th>xs_rtn_GSPC</th>\n",
       "      <td>1.388851</td>\n",
       "      <td>0.209178</td>\n",
       "      <td>6.639572</td>\n",
       "      <td>1.178356e-08</td>\n",
       "      <td>0.970136</td>\n",
       "      <td>1.807566</td>\n",
       "    </tr>\n",
       "    <tr>\n",
       "      <th>const</th>\n",
       "      <td>-0.002381</td>\n",
       "      <td>0.002056</td>\n",
       "      <td>-1.158249</td>\n",
       "      <td>2.515096e-01</td>\n",
       "      <td>-0.006497</td>\n",
       "      <td>0.001734</td>\n",
       "    </tr>\n",
       "  </tbody>\n",
       "</table>\n",
       "</div>"
      ],
      "text/plain": [
       "                Coef.  Std.Err.         t         P>|t|    [0.025    0.975]\n",
       "xs_rtn_GSPC  1.388851  0.209178  6.639572  1.178356e-08  0.970136  1.807566\n",
       "const       -0.002381  0.002056 -1.158249  2.515096e-01 -0.006497  0.001734"
      ]
     },
     "execution_count": 20,
     "metadata": {},
     "output_type": "execute_result"
    }
   ],
   "source": [
    "## We're really interested in coefficients and significance\n",
    "CAPM_results_AAPL.summary2().tables[1]"
   ]
  },
  {
   "cell_type": "code",
   "execution_count": 21,
   "id": "6e90a02f-e430-44ba-a852-ed61debcb0c2",
   "metadata": {
    "editable": true,
    "slideshow": {
     "slide_type": "fragment"
    },
    "tags": []
   },
   "outputs": [
    {
     "data": {
      "text/plain": [
       "xs_rtn_GSPC    6.639572\n",
       "const         -1.158249\n",
       "dtype: float64"
      ]
     },
     "execution_count": 21,
     "metadata": {},
     "output_type": "execute_result"
    }
   ],
   "source": [
    "# T-value measures Beta's significance from zero\n",
    "CAPM_results_AAPL.tvalues"
   ]
  },
  {
   "cell_type": "markdown",
   "id": "ad86b6a9-8f5c-4a1f-8d79-bff7d31fb0b7",
   "metadata": {
    "editable": true,
    "slideshow": {
     "slide_type": "slide"
    },
    "tags": []
   },
   "source": [
    "## Break down the model outputs"
   ]
  },
  {
   "cell_type": "code",
   "execution_count": 22,
   "id": "c442c35b-9259-4e5a-a83e-0add1bda0e5d",
   "metadata": {
    "editable": true,
    "slideshow": {
     "slide_type": "fragment"
    },
    "tags": []
   },
   "outputs": [
    {
     "data": {
      "text/html": [
       "<div>\n",
       "<style scoped>\n",
       "    .dataframe tbody tr th:only-of-type {\n",
       "        vertical-align: middle;\n",
       "    }\n",
       "\n",
       "    .dataframe tbody tr th {\n",
       "        vertical-align: top;\n",
       "    }\n",
       "\n",
       "    .dataframe thead th {\n",
       "        text-align: right;\n",
       "    }\n",
       "</style>\n",
       "<table border=\"1\" class=\"dataframe\">\n",
       "  <thead>\n",
       "    <tr style=\"text-align: right;\">\n",
       "      <th></th>\n",
       "      <th>Coef.</th>\n",
       "      <th>Std.Err.</th>\n",
       "      <th>t</th>\n",
       "      <th>P&gt;|t|</th>\n",
       "      <th>[0.025</th>\n",
       "      <th>0.975]</th>\n",
       "    </tr>\n",
       "  </thead>\n",
       "  <tbody>\n",
       "    <tr>\n",
       "      <th>xs_rtn_GSPC</th>\n",
       "      <td>1.388851</td>\n",
       "      <td>0.209178</td>\n",
       "      <td>6.639572</td>\n",
       "      <td>1.178356e-08</td>\n",
       "      <td>0.970136</td>\n",
       "      <td>1.807566</td>\n",
       "    </tr>\n",
       "    <tr>\n",
       "      <th>const</th>\n",
       "      <td>-0.002381</td>\n",
       "      <td>0.002056</td>\n",
       "      <td>-1.158249</td>\n",
       "      <td>2.515096e-01</td>\n",
       "      <td>-0.006497</td>\n",
       "      <td>0.001734</td>\n",
       "    </tr>\n",
       "  </tbody>\n",
       "</table>\n",
       "</div>"
      ],
      "text/plain": [
       "                Coef.  Std.Err.         t         P>|t|    [0.025    0.975]\n",
       "xs_rtn_GSPC  1.388851  0.209178  6.639572  1.178356e-08  0.970136  1.807566\n",
       "const       -0.002381  0.002056 -1.158249  2.515096e-01 -0.006497  0.001734"
      ]
     },
     "execution_count": 22,
     "metadata": {},
     "output_type": "execute_result"
    }
   ],
   "source": [
    "## We're really interested in coefficients and significance\n",
    "CAPM_results_AAPL.summary2().tables[1]"
   ]
  },
  {
   "cell_type": "code",
   "execution_count": 35,
   "id": "5f38499c-762d-4c76-9164-1f0d0ae96c67",
   "metadata": {
    "editable": true,
    "slideshow": {
     "slide_type": "fragment"
    },
    "tags": []
   },
   "outputs": [
    {
     "data": {
      "text/plain": [
       "xs_rtn_GSPC    0.409988\n",
       "const          0.004030\n",
       "dtype: float64"
      ]
     },
     "execution_count": 35,
     "metadata": {},
     "output_type": "execute_result"
    }
   ],
   "source": [
    "# Beta Standard Error measures significance from 1\n",
    "1.96 * CAPM_results_AAPL.bse"
   ]
  },
  {
   "cell_type": "markdown",
   "id": "0d65fb29-59e6-42f0-bea5-3339d79b54de",
   "metadata": {
    "editable": true,
    "slideshow": {
     "slide_type": "slide"
    },
    "tags": []
   },
   "source": [
    "### A tidy explaining function"
   ]
  },
  {
   "cell_type": "code",
   "execution_count": 24,
   "id": "d3907161-680c-45c8-94be-8d303f4ab890",
   "metadata": {
    "editable": true,
    "slideshow": {
     "slide_type": "subslide"
    },
    "tags": []
   },
   "outputs": [],
   "source": [
    "def eval_model(in_model, in_market) -> None:\n",
    "    \"\"\" Evaluates the CAPM model for a given stock against a market benchmark.\n",
    "    Params\n",
    "    in_model : output from our .fit()\n",
    "    in_market : The name of the market factor (i.e. \"xs_rtn_GSPC\")\n",
    "    \"\"\"\n",
    "    _beta = in_model.params\n",
    "    _tval = in_model.tvalues\n",
    "    _sebeta = in_model.bse\n",
    "    appear, meaning,  = ('less','not')\n",
    "    if _beta[in_market] > 1.0:\n",
    "        appear = 'more'\n",
    "    if _beta[in_market] - (1.96* _sebeta[in_market]) > 1:\n",
    "        meaning = ''\n",
    "    print(\"\"\"The stock appears to be %s volatile than the market, \n",
    "             Beta is %s than 1, %s statistically.\"\"\" %(appear,appear,meaning))\n",
    "    if 1.96 > _tval[in_market] > -1.96:\n",
    "        print(\"The stock may be uncorrelated with the market.\")\n",
    "    elif _tval[in_market] >= 1.96:\n",
    "        print(\"The stock is sensitive to the market's movements.\")\n",
    "    elif _tval[in_market] <= -1.96:\n",
    "        print(\"\"\"The stock is negatively correlated with \n",
    "        the market and may be a hedge.\"\"\")\n",
    "    if 1.96 > _tval['const'] > -1.96:\n",
    "        print(\"\"\"The alpha is not significantly different from zero\n",
    "        . Market appears efficient.\"\"\")\n",
    "    elif _beta['const'] > 0 :\n",
    "        print(\"Potential for excess returns.\")\n",
    "    elif _beta['const'] < 0:\n",
    "        print(\"Red flag. Stock consistently underperforms CAPM prediction.\")"
   ]
  },
  {
   "cell_type": "code",
   "execution_count": 25,
   "id": "ba865278-2a28-4e7b-87ad-3104a816eb32",
   "metadata": {
    "editable": true,
    "slideshow": {
     "slide_type": "slide"
    },
    "tags": []
   },
   "outputs": [
    {
     "data": {
      "text/html": [
       "<div>\n",
       "<style scoped>\n",
       "    .dataframe tbody tr th:only-of-type {\n",
       "        vertical-align: middle;\n",
       "    }\n",
       "\n",
       "    .dataframe tbody tr th {\n",
       "        vertical-align: top;\n",
       "    }\n",
       "\n",
       "    .dataframe thead th {\n",
       "        text-align: right;\n",
       "    }\n",
       "</style>\n",
       "<table border=\"1\" class=\"dataframe\">\n",
       "  <thead>\n",
       "    <tr style=\"text-align: right;\">\n",
       "      <th></th>\n",
       "      <th>Coef.</th>\n",
       "      <th>Std.Err.</th>\n",
       "      <th>t</th>\n",
       "      <th>P&gt;|t|</th>\n",
       "      <th>[0.025</th>\n",
       "      <th>0.975]</th>\n",
       "    </tr>\n",
       "  </thead>\n",
       "  <tbody>\n",
       "    <tr>\n",
       "      <th>xs_rtn_GSPC</th>\n",
       "      <td>1.388851</td>\n",
       "      <td>0.209178</td>\n",
       "      <td>6.639572</td>\n",
       "      <td>1.178356e-08</td>\n",
       "      <td>0.970136</td>\n",
       "      <td>1.807566</td>\n",
       "    </tr>\n",
       "    <tr>\n",
       "      <th>const</th>\n",
       "      <td>-0.002381</td>\n",
       "      <td>0.002056</td>\n",
       "      <td>-1.158249</td>\n",
       "      <td>2.515096e-01</td>\n",
       "      <td>-0.006497</td>\n",
       "      <td>0.001734</td>\n",
       "    </tr>\n",
       "  </tbody>\n",
       "</table>\n",
       "</div>"
      ],
      "text/plain": [
       "                Coef.  Std.Err.         t         P>|t|    [0.025    0.975]\n",
       "xs_rtn_GSPC  1.388851  0.209178  6.639572  1.178356e-08  0.970136  1.807566\n",
       "const       -0.002381  0.002056 -1.158249  2.515096e-01 -0.006497  0.001734"
      ]
     },
     "execution_count": 25,
     "metadata": {},
     "output_type": "execute_result"
    }
   ],
   "source": [
    "CAPM_results_AAPL.summary2().tables[1]"
   ]
  },
  {
   "cell_type": "code",
   "execution_count": 26,
   "id": "ebc6d970-35c5-4bfd-8589-6edd2a4146a8",
   "metadata": {
    "editable": true,
    "slideshow": {
     "slide_type": "fragment"
    },
    "tags": []
   },
   "outputs": [
    {
     "name": "stdout",
     "output_type": "stream",
     "text": [
      "The stock appears to be more volatile than the market, \n",
      "             Beta is more than 1, not statistically.\n",
      "The stock is sensitive to the market's movements.\n",
      "The alpha is not significantly different from zero\n",
      "        . Market appears efficient.\n"
     ]
    }
   ],
   "source": [
    "eval_model(CAPM_results_AAPL, 'xs_rtn_GSPC')"
   ]
  },
  {
   "cell_type": "code",
   "execution_count": 27,
   "id": "28efbef2-5e4a-4a73-b961-9e482049c59a",
   "metadata": {
    "editable": true,
    "slideshow": {
     "slide_type": "slide"
    },
    "tags": []
   },
   "outputs": [
    {
     "name": "stdout",
     "output_type": "stream",
     "text": [
      "['IBM', 'MSFT', 'INTC', 'GSPC']\n"
     ]
    }
   ],
   "source": [
    "### Iterate over all tech stocks\n",
    "print(tech_scen[1:])"
   ]
  },
  {
   "cell_type": "markdown",
   "id": "1579a80b-1bb2-4b30-bc87-9ccacc426f19",
   "metadata": {
    "editable": true,
    "slideshow": {
     "slide_type": "slide"
    },
    "tags": []
   },
   "source": [
    "## IBM on S&P500"
   ]
  },
  {
   "cell_type": "code",
   "execution_count": 28,
   "id": "84c09a76-7666-4348-899f-764c9361baca",
   "metadata": {
    "editable": true,
    "slideshow": {
     "slide_type": "fragment"
    },
    "tags": []
   },
   "outputs": [
    {
     "name": "stdout",
     "output_type": "stream",
     "text": [
      "________________CAPM analysis on IBM________________\n"
     ]
    },
    {
     "data": {
      "text/html": [
       "<div>\n",
       "<style scoped>\n",
       "    .dataframe tbody tr th:only-of-type {\n",
       "        vertical-align: middle;\n",
       "    }\n",
       "\n",
       "    .dataframe tbody tr th {\n",
       "        vertical-align: top;\n",
       "    }\n",
       "\n",
       "    .dataframe thead th {\n",
       "        text-align: right;\n",
       "    }\n",
       "</style>\n",
       "<table border=\"1\" class=\"dataframe\">\n",
       "  <thead>\n",
       "    <tr style=\"text-align: right;\">\n",
       "      <th></th>\n",
       "      <th>Coef.</th>\n",
       "      <th>Std.Err.</th>\n",
       "      <th>t</th>\n",
       "      <th>P&gt;|t|</th>\n",
       "      <th>[0.025</th>\n",
       "      <th>0.975]</th>\n",
       "    </tr>\n",
       "  </thead>\n",
       "  <tbody>\n",
       "    <tr>\n",
       "      <th>xs_rtn_GSPC</th>\n",
       "      <td>0.446072</td>\n",
       "      <td>0.238780</td>\n",
       "      <td>1.868135</td>\n",
       "      <td>0.066797</td>\n",
       "      <td>-0.031897</td>\n",
       "      <td>0.924042</td>\n",
       "    </tr>\n",
       "    <tr>\n",
       "      <th>const</th>\n",
       "      <td>0.000721</td>\n",
       "      <td>0.002347</td>\n",
       "      <td>0.307432</td>\n",
       "      <td>0.759616</td>\n",
       "      <td>-0.003976</td>\n",
       "      <td>0.005419</td>\n",
       "    </tr>\n",
       "  </tbody>\n",
       "</table>\n",
       "</div>"
      ],
      "text/plain": [
       "                Coef.  Std.Err.         t     P>|t|    [0.025    0.975]\n",
       "xs_rtn_GSPC  0.446072  0.238780  1.868135  0.066797 -0.031897  0.924042\n",
       "const        0.000721  0.002347  0.307432  0.759616 -0.003976  0.005419"
      ]
     },
     "execution_count": 28,
     "metadata": {},
     "output_type": "execute_result"
    }
   ],
   "source": [
    "print(\"________________CAPM analysis on IBM________________\")\n",
    "y_ibm = input_to_model['xs_rtn_IBM']\n",
    "X = sm.add_constant(X, prepend=False)\n",
    "CAPM_IBM = sm.OLS(y_ibm, X)\n",
    "CAPM_results_IBM = CAPM_IBM.fit()\n",
    "CAPM_results_IBM.summary2().tables[1]"
   ]
  },
  {
   "cell_type": "code",
   "execution_count": 29,
   "id": "96f3ae47-4403-4797-ba1b-00ba7a63a61d",
   "metadata": {
    "editable": true,
    "slideshow": {
     "slide_type": "fragment"
    },
    "tags": []
   },
   "outputs": [
    {
     "name": "stdout",
     "output_type": "stream",
     "text": [
      "The stock appears to be less volatile than the market, \n",
      "             Beta is less than 1, not statistically.\n",
      "The stock may be uncorrelated with the market.\n",
      "The alpha is not significantly different from zero\n",
      "        . Market appears efficient.\n"
     ]
    }
   ],
   "source": [
    "eval_model(CAPM_results_IBM, 'xs_rtn_GSPC')"
   ]
  },
  {
   "cell_type": "markdown",
   "id": "e0dfbd15-4d4e-4207-9f1d-3f4566deb92f",
   "metadata": {
    "editable": true,
    "slideshow": {
     "slide_type": "slide"
    },
    "tags": []
   },
   "source": [
    "## MSFT on S&P500"
   ]
  },
  {
   "cell_type": "code",
   "execution_count": 30,
   "id": "512a591c-4fbc-4a2e-928a-464f4cdb0e4b",
   "metadata": {
    "editable": true,
    "slideshow": {
     "slide_type": "fragment"
    },
    "tags": []
   },
   "outputs": [
    {
     "name": "stdout",
     "output_type": "stream",
     "text": [
      "________________CAPM analysis on MSFT________________\n"
     ]
    },
    {
     "data": {
      "text/html": [
       "<div>\n",
       "<style scoped>\n",
       "    .dataframe tbody tr th:only-of-type {\n",
       "        vertical-align: middle;\n",
       "    }\n",
       "\n",
       "    .dataframe tbody tr th {\n",
       "        vertical-align: top;\n",
       "    }\n",
       "\n",
       "    .dataframe thead th {\n",
       "        text-align: right;\n",
       "    }\n",
       "</style>\n",
       "<table border=\"1\" class=\"dataframe\">\n",
       "  <thead>\n",
       "    <tr style=\"text-align: right;\">\n",
       "      <th></th>\n",
       "      <th>Coef.</th>\n",
       "      <th>Std.Err.</th>\n",
       "      <th>t</th>\n",
       "      <th>P&gt;|t|</th>\n",
       "      <th>[0.025</th>\n",
       "      <th>0.975]</th>\n",
       "    </tr>\n",
       "  </thead>\n",
       "  <tbody>\n",
       "    <tr>\n",
       "      <th>xs_rtn_GSPC</th>\n",
       "      <td>1.046009</td>\n",
       "      <td>0.158426</td>\n",
       "      <td>6.602516</td>\n",
       "      <td>1.359091e-08</td>\n",
       "      <td>0.728886</td>\n",
       "      <td>1.363133</td>\n",
       "    </tr>\n",
       "    <tr>\n",
       "      <th>const</th>\n",
       "      <td>0.000173</td>\n",
       "      <td>0.001557</td>\n",
       "      <td>0.111270</td>\n",
       "      <td>9.117860e-01</td>\n",
       "      <td>-0.002944</td>\n",
       "      <td>0.003290</td>\n",
       "    </tr>\n",
       "  </tbody>\n",
       "</table>\n",
       "</div>"
      ],
      "text/plain": [
       "                Coef.  Std.Err.         t         P>|t|    [0.025    0.975]\n",
       "xs_rtn_GSPC  1.046009  0.158426  6.602516  1.359091e-08  0.728886  1.363133\n",
       "const        0.000173  0.001557  0.111270  9.117860e-01 -0.002944  0.003290"
      ]
     },
     "execution_count": 30,
     "metadata": {},
     "output_type": "execute_result"
    }
   ],
   "source": [
    "print(\"________________CAPM analysis on MSFT________________\")\n",
    "y_msft = input_to_model['xs_rtn_MSFT']\n",
    "X = sm.add_constant(X, prepend=False)\n",
    "CAPM_MSFT = sm.OLS(y_msft, X)\n",
    "CAPM_results_MSFT = CAPM_MSFT.fit()\n",
    "CAPM_results_MSFT.summary2().tables[1]"
   ]
  },
  {
   "cell_type": "code",
   "execution_count": 31,
   "id": "46341b8c-e927-43e2-a48d-9baca26bbd51",
   "metadata": {
    "editable": true,
    "slideshow": {
     "slide_type": "fragment"
    },
    "tags": []
   },
   "outputs": [
    {
     "name": "stdout",
     "output_type": "stream",
     "text": [
      "The stock appears to be more volatile than the market, \n",
      "             Beta is more than 1, not statistically.\n",
      "The stock is sensitive to the market's movements.\n",
      "The alpha is not significantly different from zero\n",
      "        . Market appears efficient.\n"
     ]
    }
   ],
   "source": [
    "eval_model(CAPM_results_MSFT, 'xs_rtn_GSPC')"
   ]
  },
  {
   "cell_type": "markdown",
   "id": "6107dc32-d4fd-416c-989b-68e22c1f1b74",
   "metadata": {
    "editable": true,
    "slideshow": {
     "slide_type": "slide"
    },
    "tags": []
   },
   "source": [
    "## INTC on S&P500"
   ]
  },
  {
   "cell_type": "code",
   "execution_count": 32,
   "id": "9b7a268b-3fd6-46ce-b744-5b6fd1649a09",
   "metadata": {
    "editable": true,
    "slideshow": {
     "slide_type": "fragment"
    },
    "tags": []
   },
   "outputs": [
    {
     "name": "stdout",
     "output_type": "stream",
     "text": [
      "________________CAPM analysis on INTC________________\n"
     ]
    },
    {
     "data": {
      "text/html": [
       "<div>\n",
       "<style scoped>\n",
       "    .dataframe tbody tr th:only-of-type {\n",
       "        vertical-align: middle;\n",
       "    }\n",
       "\n",
       "    .dataframe tbody tr th {\n",
       "        vertical-align: top;\n",
       "    }\n",
       "\n",
       "    .dataframe thead th {\n",
       "        text-align: right;\n",
       "    }\n",
       "</style>\n",
       "<table border=\"1\" class=\"dataframe\">\n",
       "  <thead>\n",
       "    <tr style=\"text-align: right;\">\n",
       "      <th></th>\n",
       "      <th>Coef.</th>\n",
       "      <th>Std.Err.</th>\n",
       "      <th>t</th>\n",
       "      <th>P&gt;|t|</th>\n",
       "      <th>[0.025</th>\n",
       "      <th>0.975]</th>\n",
       "    </tr>\n",
       "  </thead>\n",
       "  <tbody>\n",
       "    <tr>\n",
       "      <th>xs_rtn_GSPC</th>\n",
       "      <td>1.792115</td>\n",
       "      <td>0.292890</td>\n",
       "      <td>6.118722</td>\n",
       "      <td>8.676815e-08</td>\n",
       "      <td>1.205831</td>\n",
       "      <td>2.378399</td>\n",
       "    </tr>\n",
       "    <tr>\n",
       "      <th>const</th>\n",
       "      <td>0.002578</td>\n",
       "      <td>0.002879</td>\n",
       "      <td>0.895543</td>\n",
       "      <td>3.741987e-01</td>\n",
       "      <td>-0.003184</td>\n",
       "      <td>0.008340</td>\n",
       "    </tr>\n",
       "  </tbody>\n",
       "</table>\n",
       "</div>"
      ],
      "text/plain": [
       "                Coef.  Std.Err.         t         P>|t|    [0.025    0.975]\n",
       "xs_rtn_GSPC  1.792115  0.292890  6.118722  8.676815e-08  1.205831  2.378399\n",
       "const        0.002578  0.002879  0.895543  3.741987e-01 -0.003184  0.008340"
      ]
     },
     "execution_count": 32,
     "metadata": {},
     "output_type": "execute_result"
    }
   ],
   "source": [
    "print(\"________________CAPM analysis on INTC________________\")\n",
    "y_intc = input_to_model['xs_rtn_INTC']\n",
    "X = sm.add_constant(X, prepend=False)\n",
    "CAPM_INTC = sm.OLS(y_intc, X)\n",
    "CAPM_results_INTC = CAPM_INTC.fit()\n",
    "CAPM_results_INTC.summary2().tables[1]"
   ]
  },
  {
   "cell_type": "code",
   "execution_count": 33,
   "id": "bf2735b0-663d-404c-8427-3dac4990a2ad",
   "metadata": {
    "editable": true,
    "slideshow": {
     "slide_type": "fragment"
    },
    "tags": []
   },
   "outputs": [
    {
     "name": "stdout",
     "output_type": "stream",
     "text": [
      "The stock appears to be more volatile than the market, \n",
      "             Beta is more than 1,  statistically.\n",
      "The stock is sensitive to the market's movements.\n",
      "The alpha is not significantly different from zero\n",
      "        . Market appears efficient.\n"
     ]
    }
   ],
   "source": [
    "eval_model(CAPM_results_INTC, 'xs_rtn_GSPC')"
   ]
  },
  {
   "cell_type": "markdown",
   "id": "0545b8cf-ec97-45ed-a85d-8ca284c9c96c",
   "metadata": {
    "editable": true,
    "slideshow": {
     "slide_type": "slide"
    },
    "tags": []
   },
   "source": [
    "### Scenario 2: Environmental Services"
   ]
  },
  {
   "cell_type": "code",
   "execution_count": 34,
   "id": "fa4e8d23-c935-48f8-8b69-3ac3ccc4b718",
   "metadata": {
    "editable": true,
    "slideshow": {
     "slide_type": "fragment"
    },
    "tags": []
   },
   "outputs": [
    {
     "name": "stderr",
     "output_type": "stream",
     "text": [
      "[*********************100%%**********************]  8 of 8 completed\n"
     ]
    },
    {
     "name": "stdout",
     "output_type": "stream",
     "text": [
      "Got Risk-Free\n"
     ]
    }
   ],
   "source": [
    "## Get our stock data\n",
    "tickers = ['WM','XLI','RSG','WCN','ROL','RTO','GFL','EVX']\n",
    "_start = '2024-03-11'\n",
    "_end = '2024-06-11'\n",
    "_fedend = '2024-06-10'\n",
    "_interval = '1d'\n",
    "disp_stocks = yf.download(tickers\n",
    "                          , start=_start\n",
    "                          , end=_end\n",
    "                          , interval=_interval)['Close']\n",
    "\n",
    "### Get our risk free data\n",
    "fred = Fred(api_key = fedkey)\n",
    "risk_free=fred.get_series(series_id = rf_series).dropna()\n",
    "risk_free=risk_free[_start: _fedend]\n",
    "risk_free_daily = risk_free/252\n",
    "print(\"Got Risk-Free\")"
   ]
  },
  {
   "cell_type": "markdown",
   "id": "dd079311-7dba-499e-9026-133ecf29c3da",
   "metadata": {
    "editable": true,
    "slideshow": {
     "slide_type": "slide"
    },
    "tags": []
   },
   "source": [
    "#### Merge and calculate daily change"
   ]
  },
  {
   "cell_type": "code",
   "execution_count": 36,
   "id": "22e61afb-4858-44cd-a17c-f3553eac1964",
   "metadata": {
    "editable": true,
    "slideshow": {
     "slide_type": "fragment"
    },
    "tags": []
   },
   "outputs": [],
   "source": [
    "### merge\n",
    "scen2 = disp_stocks.pct_change().dropna()\n",
    "\n",
    "### calculate daily return\n",
    "scen2_returns = scen2.join(risk_free_daily.rename('risk_free_daily'))\n",
    "\n",
    "### Calculate excess returns\n",
    "for i in tickers:\n",
    "    scen2_returns[\"xs_rtn_\"+str(i)] = scen2_returns[i] - scen2_returns['risk_free_daily']"
   ]
  },
  {
   "cell_type": "code",
   "execution_count": 37,
   "id": "e0bf4cbe-a125-45a2-93cf-8405a8d32b19",
   "metadata": {
    "editable": true,
    "slideshow": {
     "slide_type": "fragment"
    },
    "tags": []
   },
   "outputs": [
    {
     "data": {
      "text/plain": [
       "['WM', 'RSG', 'WCN', 'ROL', 'RTO', 'GFL']"
      ]
     },
     "execution_count": 37,
     "metadata": {},
     "output_type": "execute_result"
    }
   ],
   "source": [
    "disp_tickers = [t for t in tickers if t not in('XLI','EVX')]\n",
    "disp_tickers"
   ]
  },
  {
   "cell_type": "code",
   "execution_count": 38,
   "id": "9a910eb2-d45a-4aaf-a560-ab5dbd59896f",
   "metadata": {
    "editable": true,
    "slideshow": {
     "slide_type": "slide"
    },
    "tags": []
   },
   "outputs": [],
   "source": [
    "### Good practice to save off\n",
    "os.chdir('B:\\\\Documents\\\\Manning')\n",
    "os.getcwd()\n",
    "scen2_returns.to_csv('scen2_enviro_returns.csv')"
   ]
  },
  {
   "cell_type": "code",
   "execution_count": 39,
   "id": "1b735fba-fd0e-4356-94c0-6b5b74cddd2c",
   "metadata": {
    "editable": true,
    "slideshow": {
     "slide_type": "fragment"
    },
    "tags": []
   },
   "outputs": [
    {
     "data": {
      "text/html": [
       "<div>\n",
       "<style scoped>\n",
       "    .dataframe tbody tr th:only-of-type {\n",
       "        vertical-align: middle;\n",
       "    }\n",
       "\n",
       "    .dataframe tbody tr th {\n",
       "        vertical-align: top;\n",
       "    }\n",
       "\n",
       "    .dataframe thead th {\n",
       "        text-align: right;\n",
       "    }\n",
       "</style>\n",
       "<table border=\"1\" class=\"dataframe\">\n",
       "  <thead>\n",
       "    <tr style=\"text-align: right;\">\n",
       "      <th></th>\n",
       "      <th>EVX</th>\n",
       "      <th>GFL</th>\n",
       "      <th>ROL</th>\n",
       "      <th>RSG</th>\n",
       "      <th>RTO</th>\n",
       "      <th>WCN</th>\n",
       "      <th>WM</th>\n",
       "      <th>XLI</th>\n",
       "      <th>risk_free_daily</th>\n",
       "      <th>xs_rtn_WM</th>\n",
       "      <th>xs_rtn_XLI</th>\n",
       "      <th>xs_rtn_RSG</th>\n",
       "      <th>xs_rtn_WCN</th>\n",
       "      <th>xs_rtn_ROL</th>\n",
       "      <th>xs_rtn_RTO</th>\n",
       "      <th>xs_rtn_GFL</th>\n",
       "      <th>xs_rtn_EVX</th>\n",
       "    </tr>\n",
       "    <tr>\n",
       "      <th>Date</th>\n",
       "      <th></th>\n",
       "      <th></th>\n",
       "      <th></th>\n",
       "      <th></th>\n",
       "      <th></th>\n",
       "      <th></th>\n",
       "      <th></th>\n",
       "      <th></th>\n",
       "      <th></th>\n",
       "      <th></th>\n",
       "      <th></th>\n",
       "      <th></th>\n",
       "      <th></th>\n",
       "      <th></th>\n",
       "      <th></th>\n",
       "      <th></th>\n",
       "      <th></th>\n",
       "    </tr>\n",
       "  </thead>\n",
       "  <tbody>\n",
       "    <tr>\n",
       "      <th>2024-03-12</th>\n",
       "      <td>0.001050</td>\n",
       "      <td>0.002009</td>\n",
       "      <td>0.001312</td>\n",
       "      <td>0.006349</td>\n",
       "      <td>0.003439</td>\n",
       "      <td>0.005721</td>\n",
       "      <td>0.002437</td>\n",
       "      <td>0.004438</td>\n",
       "      <td>0.021746</td>\n",
       "      <td>-0.019309</td>\n",
       "      <td>-0.017308</td>\n",
       "      <td>-0.015397</td>\n",
       "      <td>-0.016025</td>\n",
       "      <td>-0.020434</td>\n",
       "      <td>-0.018307</td>\n",
       "      <td>-0.019737</td>\n",
       "      <td>-0.020696</td>\n",
       "    </tr>\n",
       "    <tr>\n",
       "      <th>2024-03-13</th>\n",
       "      <td>0.004441</td>\n",
       "      <td>-0.005441</td>\n",
       "      <td>0.010483</td>\n",
       "      <td>0.002427</td>\n",
       "      <td>-0.028349</td>\n",
       "      <td>0.006281</td>\n",
       "      <td>0.005768</td>\n",
       "      <td>0.002700</td>\n",
       "      <td>0.021746</td>\n",
       "      <td>-0.015978</td>\n",
       "      <td>-0.019046</td>\n",
       "      <td>-0.019319</td>\n",
       "      <td>-0.015465</td>\n",
       "      <td>-0.011263</td>\n",
       "      <td>-0.050095</td>\n",
       "      <td>-0.027187</td>\n",
       "      <td>-0.017305</td>\n",
       "    </tr>\n",
       "    <tr>\n",
       "      <th>2024-03-14</th>\n",
       "      <td>-0.007615</td>\n",
       "      <td>-0.016700</td>\n",
       "      <td>-0.007132</td>\n",
       "      <td>0.002367</td>\n",
       "      <td>-0.011222</td>\n",
       "      <td>-0.003474</td>\n",
       "      <td>-0.003270</td>\n",
       "      <td>-0.004244</td>\n",
       "      <td>0.021746</td>\n",
       "      <td>-0.025016</td>\n",
       "      <td>-0.025990</td>\n",
       "      <td>-0.019379</td>\n",
       "      <td>-0.025220</td>\n",
       "      <td>-0.028878</td>\n",
       "      <td>-0.032968</td>\n",
       "      <td>-0.038446</td>\n",
       "      <td>-0.029361</td>\n",
       "    </tr>\n",
       "    <tr>\n",
       "      <th>2024-03-15</th>\n",
       "      <td>0.004951</td>\n",
       "      <td>-0.010835</td>\n",
       "      <td>0.008925</td>\n",
       "      <td>-0.000107</td>\n",
       "      <td>-0.010376</td>\n",
       "      <td>0.010045</td>\n",
       "      <td>0.001046</td>\n",
       "      <td>0.000164</td>\n",
       "      <td>0.021746</td>\n",
       "      <td>-0.020700</td>\n",
       "      <td>-0.021582</td>\n",
       "      <td>-0.021853</td>\n",
       "      <td>-0.011701</td>\n",
       "      <td>-0.012821</td>\n",
       "      <td>-0.032122</td>\n",
       "      <td>-0.032581</td>\n",
       "      <td>-0.016795</td>\n",
       "    </tr>\n",
       "    <tr>\n",
       "      <th>2024-03-18</th>\n",
       "      <td>0.002340</td>\n",
       "      <td>0.007401</td>\n",
       "      <td>0.006688</td>\n",
       "      <td>0.006817</td>\n",
       "      <td>0.005570</td>\n",
       "      <td>0.004739</td>\n",
       "      <td>0.005415</td>\n",
       "      <td>-0.001311</td>\n",
       "      <td>0.021746</td>\n",
       "      <td>-0.016331</td>\n",
       "      <td>-0.023057</td>\n",
       "      <td>-0.014929</td>\n",
       "      <td>-0.017007</td>\n",
       "      <td>-0.015058</td>\n",
       "      <td>-0.016176</td>\n",
       "      <td>-0.014345</td>\n",
       "      <td>-0.019406</td>\n",
       "    </tr>\n",
       "  </tbody>\n",
       "</table>\n",
       "</div>"
      ],
      "text/plain": [
       "                 EVX       GFL       ROL       RSG       RTO       WCN  \\\n",
       "Date                                                                     \n",
       "2024-03-12  0.001050  0.002009  0.001312  0.006349  0.003439  0.005721   \n",
       "2024-03-13  0.004441 -0.005441  0.010483  0.002427 -0.028349  0.006281   \n",
       "2024-03-14 -0.007615 -0.016700 -0.007132  0.002367 -0.011222 -0.003474   \n",
       "2024-03-15  0.004951 -0.010835  0.008925 -0.000107 -0.010376  0.010045   \n",
       "2024-03-18  0.002340  0.007401  0.006688  0.006817  0.005570  0.004739   \n",
       "\n",
       "                  WM       XLI  risk_free_daily  xs_rtn_WM  xs_rtn_XLI  \\\n",
       "Date                                                                     \n",
       "2024-03-12  0.002437  0.004438         0.021746  -0.019309   -0.017308   \n",
       "2024-03-13  0.005768  0.002700         0.021746  -0.015978   -0.019046   \n",
       "2024-03-14 -0.003270 -0.004244         0.021746  -0.025016   -0.025990   \n",
       "2024-03-15  0.001046  0.000164         0.021746  -0.020700   -0.021582   \n",
       "2024-03-18  0.005415 -0.001311         0.021746  -0.016331   -0.023057   \n",
       "\n",
       "            xs_rtn_RSG  xs_rtn_WCN  xs_rtn_ROL  xs_rtn_RTO  xs_rtn_GFL  \\\n",
       "Date                                                                     \n",
       "2024-03-12   -0.015397   -0.016025   -0.020434   -0.018307   -0.019737   \n",
       "2024-03-13   -0.019319   -0.015465   -0.011263   -0.050095   -0.027187   \n",
       "2024-03-14   -0.019379   -0.025220   -0.028878   -0.032968   -0.038446   \n",
       "2024-03-15   -0.021853   -0.011701   -0.012821   -0.032122   -0.032581   \n",
       "2024-03-18   -0.014929   -0.017007   -0.015058   -0.016176   -0.014345   \n",
       "\n",
       "            xs_rtn_EVX  \n",
       "Date                    \n",
       "2024-03-12   -0.020696  \n",
       "2024-03-13   -0.017305  \n",
       "2024-03-14   -0.029361  \n",
       "2024-03-15   -0.016795  \n",
       "2024-03-18   -0.019406  "
      ]
     },
     "execution_count": 39,
     "metadata": {},
     "output_type": "execute_result"
    }
   ],
   "source": [
    "input_to_model = pd.read_csv('scen2_enviro_returns.csv', index_col=\"Date\")\n",
    "input_to_model.head()"
   ]
  },
  {
   "cell_type": "markdown",
   "id": "46ea85d5-f985-4879-832a-ad22086eb6f1",
   "metadata": {
    "editable": true,
    "slideshow": {
     "slide_type": "slide"
    },
    "tags": []
   },
   "source": [
    "### Industrials (XLI) or Enviro Services (EVX) As Market?"
   ]
  },
  {
   "cell_type": "code",
   "execution_count": 40,
   "id": "58dc1174-022d-4846-9c4a-253d712279fe",
   "metadata": {
    "editable": true,
    "slideshow": {
     "slide_type": "fragment"
    },
    "tags": []
   },
   "outputs": [],
   "source": [
    "# Industrials first\n",
    "X_xli = input_to_model['xs_rtn_XLI']\n",
    "X_xli = sm.add_constant(X_xli, prepend=False)\n",
    "# Enviro next\n",
    "X_evx = input_to_model['xs_rtn_EVX']\n",
    "X_evx = sm.add_constant(X_evx, prepend=False)\n",
    "# Stock of interest\n",
    "y_gfl = input_to_model['xs_rtn_GFL']\n",
    "\n",
    "CAPM_GFL_XLI = sm.OLS(y_gfl, X_xli)\n",
    "CAPM_GFL_EVX = sm.OLS(y_gfl, X_evx)\n",
    "CAPM_results_GFL_XLI = CAPM_GFL_XLI.fit()\n",
    "CAPM_results_GFL_EVX = CAPM_GFL_EVX.fit()"
   ]
  },
  {
   "cell_type": "markdown",
   "id": "8002e26c-a30a-4c39-879e-57a91e5e9f8d",
   "metadata": {
    "editable": true,
    "slideshow": {
     "slide_type": "slide"
    },
    "tags": []
   },
   "source": [
    "### -------------------------CAPM analysis on GFL-------------------------"
   ]
  },
  {
   "cell_type": "code",
   "execution_count": 41,
   "id": "a4ef0eed-c683-478b-9821-b6b875d28d0c",
   "metadata": {
    "editable": true,
    "scrolled": true,
    "slideshow": {
     "slide_type": "fragment"
    },
    "tags": []
   },
   "outputs": [
    {
     "data": {
      "text/html": [
       "<div>\n",
       "<style scoped>\n",
       "    .dataframe tbody tr th:only-of-type {\n",
       "        vertical-align: middle;\n",
       "    }\n",
       "\n",
       "    .dataframe tbody tr th {\n",
       "        vertical-align: top;\n",
       "    }\n",
       "\n",
       "    .dataframe thead th {\n",
       "        text-align: right;\n",
       "    }\n",
       "</style>\n",
       "<table border=\"1\" class=\"dataframe\">\n",
       "  <thead>\n",
       "    <tr style=\"text-align: right;\">\n",
       "      <th></th>\n",
       "      <th>Coef.</th>\n",
       "      <th>Std.Err.</th>\n",
       "      <th>t</th>\n",
       "      <th>P&gt;|t|</th>\n",
       "      <th>[0.025</th>\n",
       "      <th>0.975]</th>\n",
       "    </tr>\n",
       "  </thead>\n",
       "  <tbody>\n",
       "    <tr>\n",
       "      <th>xs_rtn_XLI</th>\n",
       "      <td>0.499698</td>\n",
       "      <td>0.411701</td>\n",
       "      <td>1.213739</td>\n",
       "      <td>0.229526</td>\n",
       "      <td>-0.323550</td>\n",
       "      <td>1.322946</td>\n",
       "    </tr>\n",
       "    <tr>\n",
       "      <th>const</th>\n",
       "      <td>-0.009655</td>\n",
       "      <td>0.009357</td>\n",
       "      <td>-1.031849</td>\n",
       "      <td>0.306217</td>\n",
       "      <td>-0.028366</td>\n",
       "      <td>0.009056</td>\n",
       "    </tr>\n",
       "  </tbody>\n",
       "</table>\n",
       "</div>"
      ],
      "text/plain": [
       "               Coef.  Std.Err.         t     P>|t|    [0.025    0.975]\n",
       "xs_rtn_XLI  0.499698  0.411701  1.213739  0.229526 -0.323550  1.322946\n",
       "const      -0.009655  0.009357 -1.031849  0.306217 -0.028366  0.009056"
      ]
     },
     "execution_count": 41,
     "metadata": {},
     "output_type": "execute_result"
    }
   ],
   "source": [
    "CAPM_results_GFL_XLI.summary2().tables[1]"
   ]
  },
  {
   "cell_type": "code",
   "execution_count": 42,
   "id": "d955de29-3a7f-4ac4-afc4-de046587f0b9",
   "metadata": {
    "editable": true,
    "scrolled": true,
    "slideshow": {
     "slide_type": "fragment"
    },
    "tags": []
   },
   "outputs": [
    {
     "data": {
      "text/html": [
       "<div>\n",
       "<style scoped>\n",
       "    .dataframe tbody tr th:only-of-type {\n",
       "        vertical-align: middle;\n",
       "    }\n",
       "\n",
       "    .dataframe tbody tr th {\n",
       "        vertical-align: top;\n",
       "    }\n",
       "\n",
       "    .dataframe thead th {\n",
       "        text-align: right;\n",
       "    }\n",
       "</style>\n",
       "<table border=\"1\" class=\"dataframe\">\n",
       "  <thead>\n",
       "    <tr style=\"text-align: right;\">\n",
       "      <th></th>\n",
       "      <th>Coef.</th>\n",
       "      <th>Std.Err.</th>\n",
       "      <th>t</th>\n",
       "      <th>P&gt;|t|</th>\n",
       "      <th>[0.025</th>\n",
       "      <th>0.975]</th>\n",
       "    </tr>\n",
       "  </thead>\n",
       "  <tbody>\n",
       "    <tr>\n",
       "      <th>xs_rtn_EVX</th>\n",
       "      <td>1.475610</td>\n",
       "      <td>0.399490</td>\n",
       "      <td>3.693736</td>\n",
       "      <td>0.000474</td>\n",
       "      <td>0.676781</td>\n",
       "      <td>2.274440</td>\n",
       "    </tr>\n",
       "    <tr>\n",
       "      <th>const</th>\n",
       "      <td>0.010742</td>\n",
       "      <td>0.008875</td>\n",
       "      <td>1.210424</td>\n",
       "      <td>0.230786</td>\n",
       "      <td>-0.007004</td>\n",
       "      <td>0.028488</td>\n",
       "    </tr>\n",
       "  </tbody>\n",
       "</table>\n",
       "</div>"
      ],
      "text/plain": [
       "               Coef.  Std.Err.         t     P>|t|    [0.025    0.975]\n",
       "xs_rtn_EVX  1.475610  0.399490  3.693736  0.000474  0.676781  2.274440\n",
       "const       0.010742  0.008875  1.210424  0.230786 -0.007004  0.028488"
      ]
     },
     "execution_count": 42,
     "metadata": {},
     "output_type": "execute_result"
    }
   ],
   "source": [
    "CAPM_results_GFL_EVX.summary2().tables[1]"
   ]
  },
  {
   "cell_type": "code",
   "execution_count": 43,
   "id": "ac990edd-5aac-427a-ab4e-8f650c88864c",
   "metadata": {
    "editable": true,
    "scrolled": true,
    "slideshow": {
     "slide_type": "slide"
    },
    "tags": []
   },
   "outputs": [
    {
     "data": {
      "text/html": [
       "<div>\n",
       "<style scoped>\n",
       "    .dataframe tbody tr th:only-of-type {\n",
       "        vertical-align: middle;\n",
       "    }\n",
       "\n",
       "    .dataframe tbody tr th {\n",
       "        vertical-align: top;\n",
       "    }\n",
       "\n",
       "    .dataframe thead th {\n",
       "        text-align: right;\n",
       "    }\n",
       "</style>\n",
       "<table border=\"1\" class=\"dataframe\">\n",
       "  <thead>\n",
       "    <tr style=\"text-align: right;\">\n",
       "      <th></th>\n",
       "      <th>Coef.</th>\n",
       "      <th>Std.Err.</th>\n",
       "      <th>t</th>\n",
       "      <th>P&gt;|t|</th>\n",
       "      <th>[0.025</th>\n",
       "      <th>0.975]</th>\n",
       "    </tr>\n",
       "  </thead>\n",
       "  <tbody>\n",
       "    <tr>\n",
       "      <th>xs_rtn_XLI</th>\n",
       "      <td>0.499698</td>\n",
       "      <td>0.411701</td>\n",
       "      <td>1.213739</td>\n",
       "      <td>0.229526</td>\n",
       "      <td>-0.323550</td>\n",
       "      <td>1.322946</td>\n",
       "    </tr>\n",
       "    <tr>\n",
       "      <th>const</th>\n",
       "      <td>-0.009655</td>\n",
       "      <td>0.009357</td>\n",
       "      <td>-1.031849</td>\n",
       "      <td>0.306217</td>\n",
       "      <td>-0.028366</td>\n",
       "      <td>0.009056</td>\n",
       "    </tr>\n",
       "  </tbody>\n",
       "</table>\n",
       "</div>"
      ],
      "text/plain": [
       "               Coef.  Std.Err.         t     P>|t|    [0.025    0.975]\n",
       "xs_rtn_XLI  0.499698  0.411701  1.213739  0.229526 -0.323550  1.322946\n",
       "const      -0.009655  0.009357 -1.031849  0.306217 -0.028366  0.009056"
      ]
     },
     "execution_count": 43,
     "metadata": {},
     "output_type": "execute_result"
    }
   ],
   "source": [
    "CAPM_results_GFL_XLI.summary2().tables[1]"
   ]
  },
  {
   "cell_type": "code",
   "execution_count": 44,
   "id": "86c68eea-636d-48b3-91db-782aec12da92",
   "metadata": {
    "editable": true,
    "scrolled": true,
    "slideshow": {
     "slide_type": "fragment"
    },
    "tags": []
   },
   "outputs": [
    {
     "name": "stdout",
     "output_type": "stream",
     "text": [
      "The stock appears to be less volatile than the market, \n",
      "             Beta is less than 1, not statistically.\n",
      "The stock may be uncorrelated with the market.\n",
      "The alpha is not significantly different from zero\n",
      "        . Market appears efficient.\n"
     ]
    }
   ],
   "source": [
    "eval_model(CAPM_results_GFL_XLI, 'xs_rtn_XLI')"
   ]
  },
  {
   "cell_type": "code",
   "execution_count": 45,
   "id": "8036d81f-4836-4018-a746-5dd8ca30314b",
   "metadata": {
    "editable": true,
    "scrolled": true,
    "slideshow": {
     "slide_type": "slide"
    },
    "tags": []
   },
   "outputs": [
    {
     "data": {
      "text/html": [
       "<div>\n",
       "<style scoped>\n",
       "    .dataframe tbody tr th:only-of-type {\n",
       "        vertical-align: middle;\n",
       "    }\n",
       "\n",
       "    .dataframe tbody tr th {\n",
       "        vertical-align: top;\n",
       "    }\n",
       "\n",
       "    .dataframe thead th {\n",
       "        text-align: right;\n",
       "    }\n",
       "</style>\n",
       "<table border=\"1\" class=\"dataframe\">\n",
       "  <thead>\n",
       "    <tr style=\"text-align: right;\">\n",
       "      <th></th>\n",
       "      <th>Coef.</th>\n",
       "      <th>Std.Err.</th>\n",
       "      <th>t</th>\n",
       "      <th>P&gt;|t|</th>\n",
       "      <th>[0.025</th>\n",
       "      <th>0.975]</th>\n",
       "    </tr>\n",
       "  </thead>\n",
       "  <tbody>\n",
       "    <tr>\n",
       "      <th>xs_rtn_EVX</th>\n",
       "      <td>1.475610</td>\n",
       "      <td>0.399490</td>\n",
       "      <td>3.693736</td>\n",
       "      <td>0.000474</td>\n",
       "      <td>0.676781</td>\n",
       "      <td>2.274440</td>\n",
       "    </tr>\n",
       "    <tr>\n",
       "      <th>const</th>\n",
       "      <td>0.010742</td>\n",
       "      <td>0.008875</td>\n",
       "      <td>1.210424</td>\n",
       "      <td>0.230786</td>\n",
       "      <td>-0.007004</td>\n",
       "      <td>0.028488</td>\n",
       "    </tr>\n",
       "  </tbody>\n",
       "</table>\n",
       "</div>"
      ],
      "text/plain": [
       "               Coef.  Std.Err.         t     P>|t|    [0.025    0.975]\n",
       "xs_rtn_EVX  1.475610  0.399490  3.693736  0.000474  0.676781  2.274440\n",
       "const       0.010742  0.008875  1.210424  0.230786 -0.007004  0.028488"
      ]
     },
     "execution_count": 45,
     "metadata": {},
     "output_type": "execute_result"
    }
   ],
   "source": [
    "CAPM_results_GFL_EVX.summary2().tables[1]"
   ]
  },
  {
   "cell_type": "code",
   "execution_count": 46,
   "id": "53f5f2cb-1841-4588-9702-0148c4f5a6a8",
   "metadata": {
    "editable": true,
    "slideshow": {
     "slide_type": "fragment"
    },
    "tags": []
   },
   "outputs": [
    {
     "name": "stdout",
     "output_type": "stream",
     "text": [
      "The stock appears to be more volatile than the market, \n",
      "             Beta is more than 1, not statistically.\n",
      "The stock is sensitive to the market's movements.\n",
      "The alpha is not significantly different from zero\n",
      "        . Market appears efficient.\n"
     ]
    }
   ],
   "source": [
    "eval_model(CAPM_results_GFL_EVX, 'xs_rtn_EVX')"
   ]
  },
  {
   "cell_type": "markdown",
   "id": "ccbb09aa-963c-4cde-87d5-93b038c077df",
   "metadata": {
    "editable": true,
    "slideshow": {
     "slide_type": "slide"
    },
    "tags": []
   },
   "source": [
    "### Now we have:\n",
    "<li> Demonstrated the calculation of CAPM </li>\n",
    "<li> Demonstrated reading the Beta and Alpha </li>\n",
    "<li> Used CAPM to choose markets </li>\n",
    "\n",
    "## In the next video we will:\n",
    "<li> Make decisions on which assets to choose </li>\n",
    "<li> Draw a Security Market Line (SML) </li>\n",
    "<li> Use Sharpe, Treynor and Jensen Measures </li>"
   ]
  }
 ],
 "metadata": {
  "kernelspec": {
   "display_name": "Python 3 (ipykernel)",
   "language": "python",
   "name": "python3"
  },
  "language_info": {
   "codemirror_mode": {
    "name": "ipython",
    "version": 3
   },
   "file_extension": ".py",
   "mimetype": "text/x-python",
   "name": "python",
   "nbconvert_exporter": "python",
   "pygments_lexer": "ipython3",
   "version": "3.12.4"
  }
 },
 "nbformat": 4,
 "nbformat_minor": 5
}
